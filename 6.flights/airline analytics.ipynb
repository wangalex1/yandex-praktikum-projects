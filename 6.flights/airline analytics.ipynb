{
 "cells": [
  {
   "cell_type": "markdown",
   "metadata": {},
   "source": [
    "---\n",
    "\n",
    "### Комментарий наставника\n",
    "\n",
    "Привет, Александр! Спасибо за вовремя сданную работу :)\n",
    "\n",
    "Мне понравилась твоя работа. В особенности, с точки зрения визуализации и технических решений. Все лаконично. Там где надо, были разработаны функции.\n",
    "\n",
    "Обращаю внимание на выводы. Хотелось бы, чтобы они были насыщенней, потому что хочется задать в ответ массу вопросов. Так не должно быть. От аналитика ждут всестороннего рассмотрения вопроса, поэтому твоё мнение на счёт увиденного крайне важно. Допиши выводы, и я приму твою работу.\n",
    "\n",
    "Остальное ты сможешь прочитать в комментариях. Их ты увидишь в соответствующих ячейках.\n",
    "\n",
    "---"
   ]
  },
  {
   "cell_type": "markdown",
   "metadata": {},
   "source": [
    "#### Аналитика в авиакомпании\n",
    "\n",
    "Шаг 4. Аналитика средствами Python"
   ]
  },
  {
   "cell_type": "markdown",
   "metadata": {},
   "source": [
    "У вас есть файлы, в которых содержатся результаты запросов из предыдущих заданий.\n",
    "\n",
    "query_1.csv — результат первого запроса. В нём содержится информация о:\n",
    "    \n",
    "model — модели самолета\n",
    "\n",
    "flights_amount — количество рейсов для каждой модели самолетов model в сентябре 2018 года\n",
    "\n",
    "query_3.csv — результат третьего запроса. В нём содержится информация о:\n",
    "city — городах\n",
    "\n",
    "average_flights — среднем количестве рейсов, прибывающих в город city за день в сентябре 2018 года\n",
    "\n",
    "Для этих двух наборов данных нужно:\n",
    "    \n",
    "импортировать файлы;\n",
    "изучить данные в них;\n",
    "\n",
    "проверить типы данных на корректность;\n",
    "\n",
    "выбрать топ-10 городов по количеству рейсов;\n",
    "\n",
    "построить графики: модели самолетов и количество рейсов, города и количество рейсов, топ-10 городов и количество рейсов;\n",
    "    \n",
    "сделать выводы по каждому из графиков, пояснить результат.\n",
    "\n",
    "Шаг 5. Проверка гипотезы средствами Python\n",
    "\n",
    "query_last.csv — результат последнего запроса. В нём следующая информация:\n",
    "    \n",
    "week_number — номер недели;\n",
    "\n",
    "ticket_amount — количество проданных билетов за неделю;\n",
    "\n",
    "festival_week — есть ли на этой неделе фестиваль;\n",
    "\n",
    "festival_name — название фестиваля.\n",
    "\n",
    "Проверьте гипотезу: «Средний спрос на билеты во время фестивалей не отличается от среднего спроса на билеты в обычное время».\n",
    "    \n",
    "Пороговое значение alpha задайте самостоятельно.\n",
    "\n",
    "Поясните:\n",
    "    \n",
    "как вы формулировали нулевую и альтернативную гипотезы;\n",
    "\n",
    "какой критерий использовали для проверки гипотез и почему."
   ]
  },
  {
   "cell_type": "markdown",
   "metadata": {},
   "source": [
    "Описание данных \n",
    "\n",
    "База данных об авиаперевозках:\n",
    "    \n",
    "Таблица airports — информация об аэропортах:\n",
    "    \n",
    "airport_code — трёхбуквенный код аэропорта\n",
    "\n",
    "airport_name — название аэропорта\n",
    "\n",
    "city — город\n",
    "\n",
    "timezone — временная зона\n",
    "\n",
    "Таблица aircrafts — информация об самолётах:\n",
    "    \n",
    "aircraft_code — код модели самолёта\n",
    "\n",
    "model — модель самолёта\n",
    "\n",
    "range — количество самолётов\n",
    "\n",
    "Таблица tickets — информация о билетах:\n",
    "    \n",
    "ticket_no — уникальный номер билета\n",
    "\n",
    "passenger_id — персональный идентификатор пассажира\n",
    "\n",
    "passenger_name — имя и фамилия пассажира\n",
    "\n",
    "Таблица flights — информация о рейсах:\n",
    "    \n",
    "flight_id — уникальный идентификатор рейса\n",
    "\n",
    "departure_airport — аэропорт вылета\n",
    "\n",
    "departure_time — дата и время вылета\n",
    "\n",
    "arrival_airport — аэропорт прилёта\n",
    "\n",
    "arrival_time — дата и время прилёта\n",
    "\n",
    "aircraft_code – id самолёта\n",
    "\n",
    "Таблица ticket_flights — стыковая таблица «рейсы-билеты»\n",
    "\n",
    "ticket_no — номер билета\n",
    "\n",
    "flight_id — идентификатор рейса\n",
    "\n",
    "Таблица festivals — информация о фестивалях\n",
    "\n",
    "festival_id — уникальный номер фестиваля\n",
    "\n",
    "festival_date — дата проведения фестиваля\n",
    "\n",
    "festival_city — город проведения фестиваля\n",
    "\n",
    "festival_name — название фестиваля"
   ]
  },
  {
   "cell_type": "code",
   "execution_count": 2,
   "metadata": {},
   "outputs": [],
   "source": [
    "import pandas as pd\n",
    "import matplotlib.pyplot as plt\n",
    "from scipy import stats as st\n",
    "import numpy as np\n",
    "import seaborn as sns"
   ]
  },
  {
   "cell_type": "markdown",
   "metadata": {},
   "source": [
    "#### 1.Получение общей информации о данных"
   ]
  },
  {
   "cell_type": "code",
   "execution_count": 3,
   "metadata": {},
   "outputs": [],
   "source": [
    "aircrafts = pd.read_csv('/datasets/query_1.csv')\n",
    "city_flights = pd.read_csv('/datasets/query_3.csv')\n",
    "festivals_flights = pd.read_csv('/datasets/query_last.csv')"
   ]
  },
  {
   "cell_type": "code",
   "execution_count": 4,
   "metadata": {},
   "outputs": [],
   "source": [
    "def information(data):\n",
    "    print('-- ИНФОРМАЦИЯ О ТАБЛИЦЕ --')\n",
    "    print()\n",
    "    print('----------------------------------------------')\n",
    "    print(data.head(10))\n",
    "    print('----------------------------------------------')\n",
    "    print()\n",
    "    print(data.info())"
   ]
  },
  {
   "cell_type": "markdown",
   "metadata": {},
   "source": [
    "---\n",
    "\n",
    "### Комментарий наставника\n",
    "\n",
    "Плюсую за разработку собственных функций :)\n",
    "\n",
    "---"
   ]
  },
  {
   "cell_type": "code",
   "execution_count": 5,
   "metadata": {},
   "outputs": [
    {
     "name": "stdout",
     "output_type": "stream",
     "text": [
      "-- ИНФОРМАЦИЯ О ТАБЛИЦЕ --\n",
      "\n",
      "----------------------------------------------\n",
      "                 model  flights_amount\n",
      "0      Airbus A319-100             607\n",
      "1      Airbus A321-200             960\n",
      "2       Boeing 737-300             630\n",
      "3       Boeing 767-300             600\n",
      "4       Boeing 777-300             300\n",
      "5   Bombardier CRJ-200            4446\n",
      "6   Cessna 208 Caravan            4557\n",
      "7  Sukhoi SuperJet-100            4185\n",
      "----------------------------------------------\n",
      "\n",
      "<class 'pandas.core.frame.DataFrame'>\n",
      "RangeIndex: 8 entries, 0 to 7\n",
      "Data columns (total 2 columns):\n",
      "model             8 non-null object\n",
      "flights_amount    8 non-null int64\n",
      "dtypes: int64(1), object(1)\n",
      "memory usage: 208.0+ bytes\n",
      "None\n"
     ]
    }
   ],
   "source": [
    "\n",
    "information(aircrafts)"
   ]
  },
  {
   "cell_type": "markdown",
   "metadata": {},
   "source": [
    "В таблице 'aircrafts' отражены данные о совершавших перелеты суднах за сентябрь 2018 года. \n",
    "\n",
    "Пропуски отсутствуют, типы данных соответствуют ожидаемым - информация о моделях самолета \n",
    "\n",
    "хранится в \"object\", о количестве совершенных на них перелетах в сентябре - в типе данных \"int\".\n",
    "\n",
    "Предобработка не требуется."
   ]
  },
  {
   "cell_type": "code",
   "execution_count": 6,
   "metadata": {},
   "outputs": [
    {
     "name": "stdout",
     "output_type": "stream",
     "text": [
      "-- ИНФОРМАЦИЯ О ТАБЛИЦЕ --\n",
      "\n",
      "----------------------------------------------\n",
      "           city  average_flights\n",
      "0        Абакан         3.870968\n",
      "1       Анадырь         1.000000\n",
      "2         Анапа         2.161290\n",
      "3   Архангельск         5.354839\n",
      "4     Астрахань         2.451613\n",
      "5       Барнаул         2.612903\n",
      "6      Белгород         6.000000\n",
      "7    Белоярский         2.000000\n",
      "8  Благовещенск         1.000000\n",
      "9        Братск         1.000000\n",
      "----------------------------------------------\n",
      "\n",
      "<class 'pandas.core.frame.DataFrame'>\n",
      "RangeIndex: 101 entries, 0 to 100\n",
      "Data columns (total 2 columns):\n",
      "city               101 non-null object\n",
      "average_flights    101 non-null float64\n",
      "dtypes: float64(1), object(1)\n",
      "memory usage: 1.7+ KB\n",
      "None\n"
     ]
    }
   ],
   "source": [
    "information(city_flights)"
   ]
  },
  {
   "cell_type": "markdown",
   "metadata": {},
   "source": [
    "В таблице 'city_flights' отражены данные о совершенных в среднем прилетах в сентябре 2018 года в города.\n",
    "\n",
    "Пропуски отсутствуют, типы данных соответствуют ожидаемым - информация о городах хранится в \"object\", \n",
    "\n",
    "о среднем количестве совершенных прилетов в сентябре - в типе данных \"float\".\n",
    "\n",
    "Предобработка не требуется."
   ]
  },
  {
   "cell_type": "code",
   "execution_count": 7,
   "metadata": {},
   "outputs": [
    {
     "name": "stdout",
     "output_type": "stream",
     "text": [
      "-- ИНФОРМАЦИЯ О ТАБЛИЦЕ --\n",
      "\n",
      "----------------------------------------------\n",
      "   week_number  ticket_amount  festival_week festival_name\n",
      "0           30          43568           30.0     Park Live\n",
      "1           31          51034           31.0  Пикник Афиши\n",
      "2           32          51675            NaN           NaN\n",
      "3           33          51378            NaN           NaN\n",
      "4           34          51492            NaN           NaN\n",
      "5           35          51360            NaN           NaN\n",
      "6           36          51386           36.0       Видфест\n",
      "7           37          51670            NaN           NaN\n",
      "8           38          51518            NaN           NaN\n",
      "9           39          51623            NaN           NaN\n",
      "----------------------------------------------\n",
      "\n",
      "<class 'pandas.core.frame.DataFrame'>\n",
      "RangeIndex: 10 entries, 0 to 9\n",
      "Data columns (total 4 columns):\n",
      "week_number      10 non-null int64\n",
      "ticket_amount    10 non-null int64\n",
      "festival_week    3 non-null float64\n",
      "festival_name    3 non-null object\n",
      "dtypes: float64(1), int64(2), object(1)\n",
      "memory usage: 400.0+ bytes\n",
      "None\n"
     ]
    }
   ],
   "source": [
    "information(festivals_flights)"
   ]
  },
  {
   "cell_type": "markdown",
   "metadata": {},
   "source": [
    "#### 2. Топ-10 городов по количеству рейсов"
   ]
  },
  {
   "cell_type": "code",
   "execution_count": 8,
   "metadata": {},
   "outputs": [
    {
     "data": {
      "text/html": [
       "<div>\n",
       "<style scoped>\n",
       "    .dataframe tbody tr th:only-of-type {\n",
       "        vertical-align: middle;\n",
       "    }\n",
       "\n",
       "    .dataframe tbody tr th {\n",
       "        vertical-align: top;\n",
       "    }\n",
       "\n",
       "    .dataframe thead th {\n",
       "        text-align: right;\n",
       "    }\n",
       "</style>\n",
       "<table border=\"1\" class=\"dataframe\">\n",
       "  <thead>\n",
       "    <tr style=\"text-align: right;\">\n",
       "      <th></th>\n",
       "      <th>index</th>\n",
       "      <th>city</th>\n",
       "      <th>average_flights</th>\n",
       "    </tr>\n",
       "  </thead>\n",
       "  <tbody>\n",
       "    <tr>\n",
       "      <th>0</th>\n",
       "      <td>43</td>\n",
       "      <td>Москва</td>\n",
       "      <td>129.774194</td>\n",
       "    </tr>\n",
       "    <tr>\n",
       "      <th>1</th>\n",
       "      <td>70</td>\n",
       "      <td>Санкт-Петербург</td>\n",
       "      <td>31.161290</td>\n",
       "    </tr>\n",
       "    <tr>\n",
       "      <th>2</th>\n",
       "      <td>54</td>\n",
       "      <td>Новосибирск</td>\n",
       "      <td>17.322581</td>\n",
       "    </tr>\n",
       "    <tr>\n",
       "      <th>3</th>\n",
       "      <td>33</td>\n",
       "      <td>Красноярск</td>\n",
       "      <td>11.580645</td>\n",
       "    </tr>\n",
       "    <tr>\n",
       "      <th>4</th>\n",
       "      <td>20</td>\n",
       "      <td>Екатеринбург</td>\n",
       "      <td>11.322581</td>\n",
       "    </tr>\n",
       "    <tr>\n",
       "      <th>5</th>\n",
       "      <td>67</td>\n",
       "      <td>Ростов-на-Дону</td>\n",
       "      <td>10.193548</td>\n",
       "    </tr>\n",
       "    <tr>\n",
       "      <th>6</th>\n",
       "      <td>63</td>\n",
       "      <td>Пермь</td>\n",
       "      <td>10.129032</td>\n",
       "    </tr>\n",
       "    <tr>\n",
       "      <th>7</th>\n",
       "      <td>10</td>\n",
       "      <td>Брянск</td>\n",
       "      <td>10.000000</td>\n",
       "    </tr>\n",
       "    <tr>\n",
       "      <th>8</th>\n",
       "      <td>74</td>\n",
       "      <td>Сочи</td>\n",
       "      <td>9.612903</td>\n",
       "    </tr>\n",
       "    <tr>\n",
       "      <th>9</th>\n",
       "      <td>84</td>\n",
       "      <td>Ульяновск</td>\n",
       "      <td>9.580645</td>\n",
       "    </tr>\n",
       "  </tbody>\n",
       "</table>\n",
       "</div>"
      ],
      "text/plain": [
       "   index             city  average_flights\n",
       "0     43           Москва       129.774194\n",
       "1     70  Санкт-Петербург        31.161290\n",
       "2     54      Новосибирск        17.322581\n",
       "3     33       Красноярск        11.580645\n",
       "4     20     Екатеринбург        11.322581\n",
       "5     67   Ростов-на-Дону        10.193548\n",
       "6     63            Пермь        10.129032\n",
       "7     10           Брянск        10.000000\n",
       "8     74             Сочи         9.612903\n",
       "9     84        Ульяновск         9.580645"
      ]
     },
     "execution_count": 8,
     "metadata": {},
     "output_type": "execute_result"
    }
   ],
   "source": [
    "\n",
    "# Отберем города с самым насыщенным воздушным сообщением\n",
    "\n",
    "top_10_city = city_flights.sort_values(by = 'average_flights', ascending = False).head(10).reset_index()\n",
    "top_10_city"
   ]
  },
  {
   "cell_type": "code",
   "execution_count": null,
   "metadata": {},
   "outputs": [],
   "source": [
    "Из таблицы видно , есть три города с самым насыщенным воздушным сообщением это Москва , Питер и Новосибирск \n",
    "это ожидаемо так как это крупнейшие города , далее идут города миллионники что тоже ожидаемо ."
   ]
  },
  {
   "cell_type": "markdown",
   "metadata": {},
   "source": [
    "---\n",
    "\n",
    "### Комментарий наставника\n",
    "\n",
    "Здесь стоило бы написать небольшой вывод по увиденному. Например, описать свои предположения об увиденном. Почему так, а не иначе?\n",
    "\n",
    "---"
   ]
  },
  {
   "cell_type": "markdown",
   "metadata": {},
   "source": [
    "#### 3. Графический раздел"
   ]
  },
  {
   "cell_type": "code",
   "execution_count": 9,
   "metadata": {},
   "outputs": [],
   "source": [
    "def for_plot(data, x, y):\n",
    "    \"\"\"\"призвана строить графики в единообразном стиле\"\"\"\n",
    "    sns.set_palette('pastel')\n",
    "    plt.figure(figsize=(18,4))\n",
    "    sns.barplot(x = x, y = y, data = data)\n",
    "    plt.xlabel(x)\n",
    "    plt.xticks(rotation=90)\n",
    "    plt.ylabel(y)\n",
    "    plt.palette = 'Blues'\n",
    "    plt.show()\n",
    "    print(data.sort_values(by = y, ascending = False).head(10).reset_index(drop=True))\n",
    "    print('-------------------------------------')\n",
    "    print('В среднем:', data[y].mean())\n",
    "    print('-------------------------------------')"
   ]
  },
  {
   "cell_type": "markdown",
   "metadata": {},
   "source": [
    "#### Модели самолетов и количество рейсов"
   ]
  },
  {
   "cell_type": "code",
   "execution_count": 10,
   "metadata": {},
   "outputs": [
    {
     "data": {
      "image/png": "[encoded data removed]",
      "text/plain": [
       "<Figure size 1296x288 with 1 Axes>"
      ]
     },
     "metadata": {
      "needs_background": "light"
     },
     "output_type": "display_data"
    },
    {
     "name": "stdout",
     "output_type": "stream",
     "text": [
      "                 model  flights_amount\n",
      "0   Cessna 208 Caravan            4557\n",
      "1   Bombardier CRJ-200            4446\n",
      "2  Sukhoi SuperJet-100            4185\n",
      "3      Airbus A321-200             960\n",
      "4       Boeing 737-300             630\n",
      "5      Airbus A319-100             607\n",
      "6       Boeing 767-300             600\n",
      "7       Boeing 777-300             300\n",
      "-------------------------------------\n",
      "В среднем: 2035.625\n",
      "-------------------------------------\n"
     ]
    }
   ],
   "source": [
    "\n",
    "for_plot(aircrafts, 'model', 'flights_amount')"
   ]
  },
  {
   "cell_type": "markdown",
   "metadata": {},
   "source": [
    "Наиболее используемыми моделями являются \"Цесна 208 Караван\" и \"Бомбардир ЦРДЖЕЙ - 200\" и СуперДжет. Можно сказать , большинство   рейсов  более 80 % осуществляется этими моделями, они составляют основной полетный парк , возможно это связано с тем что эти самолеты более дешевые на рынке и аэропортам проще их приобретать и обслуживать. Хотя конечно Airbus и  Boeing считаются более надежными , но этом чисто мое субъективное мнение. Можно бы было конечно пофантазировать если бы мы например мы знали как обновляется полетный парк,тогда бы ситуация была несколько другой."
   ]
  },
  {
   "cell_type": "markdown",
   "metadata": {},
   "source": [
    "---\n",
    "\n",
    "### Комментарий наставника\n",
    "\n",
    "Думаю, ты забыл указать Суперджет, потому что они в целом похожи по количество перевозок.\n",
    "\n",
    "Аналогично с пунктом выше, здесь стоит написать вывод об увиденном.\n",
    "\n",
    "Одних наблюдений мало. От тебя, как от аналитика, будут ждать каких-то предположений, гипотез, фактов. Ведь твоя работа - ключевая часть принятия решения руководителем.\n",
    "\n",
    "---"
   ]
  },
  {
   "cell_type": "markdown",
   "metadata": {},
   "source": [
    "#### Города и количество рейсов"
   ]
  },
  {
   "cell_type": "code",
   "execution_count": 11,
   "metadata": {},
   "outputs": [
    {
     "data": {
      "image/png": "[encoded data removed]",
      "text/plain": [
       "<Figure size 1296x288 with 1 Axes>"
      ]
     },
     "metadata": {
      "needs_background": "light"
     },
     "output_type": "display_data"
    },
    {
     "name": "stdout",
     "output_type": "stream",
     "text": [
      "              city  average_flights\n",
      "0           Москва       129.774194\n",
      "1  Санкт-Петербург        31.161290\n",
      "2      Новосибирск        17.322581\n",
      "3       Красноярск        11.580645\n",
      "4     Екатеринбург        11.322581\n",
      "5   Ростов-на-Дону        10.193548\n",
      "6            Пермь        10.129032\n",
      "7           Брянск        10.000000\n",
      "8             Сочи         9.612903\n",
      "9        Ульяновск         9.580645\n",
      "-------------------------------------\n",
      "В среднем: 5.494189113891766\n",
      "-------------------------------------\n"
     ]
    }
   ],
   "source": [
    "for_plot(city_flights.sort_values(by = 'average_flights'), 'city', 'average_flights')"
   ]
  },
  {
   "cell_type": "markdown",
   "metadata": {},
   "source": [
    "#### Большинство городов в день не принимают и 10 рейсов , как видно из таблицы больше 70% рейсов осуществляется в три города Москва , Питер и Новосибирск (это и понятно это крупнейшие города России)  далее идут города миллионники и другие города , что в принципе и понятно. (количество рейсов и население городов имеет прямую зависимость)"
   ]
  },
  {
   "cell_type": "markdown",
   "metadata": {},
   "source": [
    "---\n",
    "\n",
    "### Комментарий наставника\n",
    "\n",
    "Здорово, но опять же, опиши подробнее, что ты видишь.\n",
    "\n",
    "---"
   ]
  },
  {
   "cell_type": "markdown",
   "metadata": {},
   "source": [
    "#### Топ-10 городов и количество рейсов"
   ]
  },
  {
   "cell_type": "code",
   "execution_count": 12,
   "metadata": {},
   "outputs": [
    {
     "data": {
      "image/png": "[encoded data removed]",
      "text/plain": [
       "<Figure size 1296x288 with 1 Axes>"
      ]
     },
     "metadata": {
      "needs_background": "light"
     },
     "output_type": "display_data"
    },
    {
     "name": "stdout",
     "output_type": "stream",
     "text": [
      "   index             city  average_flights\n",
      "0     43           Москва       129.774194\n",
      "1     70  Санкт-Петербург        31.161290\n",
      "2     54      Новосибирск        17.322581\n",
      "3     33       Красноярск        11.580645\n",
      "4     20     Екатеринбург        11.322581\n",
      "5     67   Ростов-на-Дону        10.193548\n",
      "6     63            Пермь        10.129032\n",
      "7     10           Брянск        10.000000\n",
      "8     74             Сочи         9.612903\n",
      "9     84        Ульяновск         9.580645\n",
      "-------------------------------------\n",
      "В среднем: 25.06774193548387\n",
      "-------------------------------------\n"
     ]
    }
   ],
   "source": [
    "\n",
    "for_plot(top_10_city.sort_values(by = 'average_flights'), 'city', 'average_flights')"
   ]
  },
  {
   "cell_type": "markdown",
   "metadata": {},
   "source": [
    "#### Наиболеее загруженные города, ожидаемо, Москва и Санкт-Петербург. Но даже наиближайшего \"соседа\" по рейтингу Москва  обгоняет в несколько раз"
   ]
  },
  {
   "cell_type": "markdown",
   "metadata": {},
   "source": [
    "---\n",
    "\n",
    "### Комментарий наставника\n",
    "\n",
    "А почему Москва над всеми преобладает? Ладно, пусть над остальными, но Питер почему так отстает? Расскажи :)\n",
    "\n",
    "---"
   ]
  },
  {
   "cell_type": "code",
   "execution_count": null,
   "metadata": {},
   "outputs": [],
   "source": [
    "Москва предобладает по одной простой причины так \n",
    "как это крупнейший транспортный хаб в России (разполагаются 5 крупнейших аэропортов с огромным парком самолетов, \n",
    "я не удивлюсь если 80% парка самолетов будет числиться в Москве ) \n",
    "Да что там в России я думаю во всей Восточной Европе. Если у меня были данные по количеству рейсов скажем в Европу я думаю Москва \n",
    "ожидаемо в несколько раз обгоняла  бы Питер. "
   ]
  },
  {
   "cell_type": "markdown",
   "metadata": {},
   "source": [
    "#### 4. Проверка гипотезы"
   ]
  },
  {
   "cell_type": "markdown",
   "metadata": {},
   "source": [
    "Чтобы проверить представленную гипотезу: «Средний спрос на билеты во время фестивалей не \n",
    "    \n",
    "отличается от среднего спроса на билеты в обычное время», сформулируем нулевую гипотезу следующим образом, приняв пороговое значение alpha = 0.05:\n",
    "\n",
    "средний спрос на билеты в обычное время равен среднему спросу на билеты во время фестивалей."
   ]
  },
  {
   "cell_type": "code",
   "execution_count": 13,
   "metadata": {},
   "outputs": [],
   "source": [
    "\n",
    "alpha = 0.05"
   ]
  },
  {
   "cell_type": "code",
   "execution_count": 14,
   "metadata": {},
   "outputs": [
    {
     "name": "stdout",
     "output_type": "stream",
     "text": [
      "p-значение: 0.32251818361504203\n",
      "Не получилось отвергнуть нулевую гипотезу\n"
     ]
    }
   ],
   "source": [
    "results = st.ttest_ind(\n",
    "    festivals_flights['ticket_amount'], festivals_flights.query('festival_week > 0.0')['ticket_amount']) \n",
    "\n",
    "print('p-значение:', results.pvalue)\n",
    "\n",
    "if (results.pvalue < alpha):\n",
    "    print(\"Отвергаем нулевую гипотезу\")\n",
    "else:\n",
    "    print(\"Не получилось отвергнуть нулевую гипотезу\")"
   ]
  },
  {
   "cell_type": "markdown",
   "metadata": {},
   "source": [
    "По результатам проведенной проверки гипотезы зафиксируем:\n",
    "\n",
    "спрос на билеты не зависит от проводимых фестивалей."
   ]
  },
  {
   "cell_type": "markdown",
   "metadata": {},
   "source": [
    "#### 5. Итоговый вывод"
   ]
  },
  {
   "cell_type": "markdown",
   "metadata": {},
   "source": [
    "По результатам проведенной аналитический работы можно сделать следующие выводы:\n",
    "\n",
    "наиболее задействованы в перелетах авиакомпании \"F9\" (сентябрь 2018 года) самолеты \"Cessna 208 Caravan\" (суммарно 4557 перелетов за месяц) \n",
    "и \"Bombardier CRJ-200\" (суммарно 4446 перелетов за месяц) Sukhoi SuperJet 4185;Основные перевозки более 80% осуществленны именно этими моделями\n",
    "\n",
    "суммарно в сентябре на самолетах Boeing (весь модельный ряд) совершено 1530 перелетов;\n",
    "\n",
    "суммарно в сентябре на самолетах Airbus (весь модельный ряд) совершено 1567 перелетов;\n",
    "\n",
    "в среднем за сентябрь 2018 года каждый город, отраженный в данных, в среднем принял 5 рейсов;\n",
    "\n",
    "топ-10 городов по насыщенности авиасообщения, осуществляемого силами авиакомпании \"F9\", возглявляют\n",
    "Москва (~ 130 рейсов в день) и Санкт-Петербург (~ 31 рейс в день) и  Новосибирск   (~17.322581) более 70% рейсов.\n",
    "\n",
    "всего в сентябре 2018 в Москве было проведено 3 крупных Фестиваля: Park Live, \n",
    "    \n",
    "Пикник Афиши, Видфест. Их проведение, в среднем, не повлияло на количество\n",
    "\n",
    "приобретенных билетов с пунктом назначения - Москва."
   ]
  },
  {
   "cell_type": "markdown",
   "metadata": {},
   "source": [
    "---\n",
    "\n",
    "### Комментарий наставника\n",
    "\n",
    "Поздравляю с сдачей первой работы модуля :)\n",
    "\n",
    "Мне понравилась твоя работа. Ты грамотно используешь средства визуализации, и эффективно решаешь поставленные задачи.\n",
    "\n",
    "Однако хочу обратить внимание, что будучи аналитиком, тебе следует писать более развернутые выводы. Не только то, что отслеживается с помощью твоего инструментария, а твоё собственное видение на этот счёт.\n",
    "\n",
    "Напиши более развернутые выводы там, где я оставил комментарии, и приму твою работу.\n",
    "\n",
    "Уверен, ты с этим справишься. Успеха! :)\n",
    "\n",
    "---"
   ]
  }
 ],
 "metadata": {
  "kernelspec": {
   "display_name": "Python 3",
   "language": "python",
   "name": "python3"
  },
  "language_info": {
   "codemirror_mode": {
    "name": "ipython",
    "version": 3
   },
   "file_extension": ".py",
   "mimetype": "text/x-python",
   "name": "python",
   "nbconvert_exporter": "python",
   "pygments_lexer": "ipython3",
   "version": "3.7.3"
  }
 },
 "nbformat": 4,
 "nbformat_minor": 2
}
