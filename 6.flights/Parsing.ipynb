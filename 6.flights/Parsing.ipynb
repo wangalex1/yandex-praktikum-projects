{
 "cells": [
  {
   "cell_type": "code",
   "execution_count": 2,
   "metadata": {},
   "outputs": [
    {
     "name": "stdout",
     "output_type": "stream",
     "text": [
      "                                  Название фестиваля Место проведения  \\\n",
      "0               Музыкальный фестиваль «Усадьба Jazz»     Екатеринбург   \n",
      "1   Фестиваль музыки и технологий Alfa Future People  Нижний Новгород   \n",
      "2                        Фестиваль еды «О, да! Еда!»  Санкт-Петербург   \n",
      "3                                          Доброфест        Ярославль   \n",
      "4                                          Park Live           Москва   \n",
      "5                                       Пикник Афиши           Москва   \n",
      "6                                            VK FEST  Санкт-Петербург   \n",
      "7                            Фестиваль «О, да! Еда!»          Иркутск   \n",
      "8                            Фестиваль «О, да! Еда!»      Владивосток   \n",
      "9                                            Видфест           Москва   \n",
      "10                                  «Нашествие 2018»            Тверь   \n",
      "\n",
      "   Дата проведения  \n",
      "0       01.07.2018  \n",
      "1       10.08.2018  \n",
      "2       21.07.2018  \n",
      "3       29.07.2018  \n",
      "4       28.07.2018  \n",
      "5       04.08.2018  \n",
      "6       29.07.2018  \n",
      "7       25.08.2018  \n",
      "8       02.09.2018  \n",
      "9       08.09.2018  \n",
      "10      05.08.2018  \n"
     ]
    }
   ],
   "source": [
    "import pandas as pd\n",
    "import requests \n",
    "from bs4 import BeautifulSoup\n",
    "\n",
    "URL='https://code.s3.yandex.net/learning-materials/data-analyst/festival_news/index.html'\n",
    "req = requests.get(URL)\n",
    "table = BeautifulSoup(req.text, 'lxml')\n",
    "\n",
    "heading_table = []\n",
    "for row in table.find_all('th'):\n",
    "        heading_table.append(row.text)\n",
    "\n",
    "content=[]\n",
    "for row in table.find_all('tr'): \n",
    "    if not row.find_all('th'): \n",
    "            content.append([element.text for element in row.find_all('td')])\n",
    "\n",
    "festivals = pd.DataFrame(content, columns=heading_table)\n",
    "print(festivals)"
   ]
  },
  {
   "cell_type": "code",
   "execution_count": null,
   "metadata": {},
   "outputs": [],
   "source": []
  }
 ],
 "metadata": {
  "kernelspec": {
   "display_name": "Python 3",
   "language": "python",
   "name": "python3"
  },
  "language_info": {
   "codemirror_mode": {
    "name": "ipython",
    "version": 3
   },
   "file_extension": ".py",
   "mimetype": "text/x-python",
   "name": "python",
   "nbconvert_exporter": "python",
   "pygments_lexer": "ipython3",
   "version": "3.7.3"
  }
 },
 "nbformat": 4,
 "nbformat_minor": 2
}
