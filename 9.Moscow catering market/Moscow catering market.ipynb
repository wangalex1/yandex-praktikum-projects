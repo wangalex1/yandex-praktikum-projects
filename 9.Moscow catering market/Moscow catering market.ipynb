{
 "cells": [
  {
   "cell_type": "markdown",
   "metadata": {},
   "source": [
    "---\n",
    "\n",
    "### Комментарий наставника\n",
    "\n",
    "Привет, Александр! Спасибо за вовремя сданную работу :)\n",
    "\n",
    "Мои поздравления, ты первый, кто сдал работу. Молодец.\n",
    "\n",
    "Работа понравилась. Ты старался рассмотреть задачу с разных сторон, и активно озвучивал свои наблюдения и умозрения. Какие либо замечания, рекомендации и комментарии я оставил в соответствующих ячейках (как обычно).\n",
    "\n",
    "Учитывая все плюсы работы, я считаю, что тебе следует доработать презентацию. Об этом написано в самом конце, там же расписаны замечания.\n",
    "\n",
    "Если возникнут вопросы, - обращайся\n",
    "\n",
    "---"
   ]
  },
  {
   "cell_type": "markdown",
   "metadata": {},
   "source": [
    "#### Рынок заведений общественного питания Москвы"
   ]
  },
  {
   "cell_type": "markdown",
   "metadata": {},
   "source": [
    "Описание проекта"
   ]
  },
  {
   "cell_type": "markdown",
   "metadata": {},
   "source": [
    "Вы решили открыть небольшое кафе в Москве. Оно оригинальное — гостей должны обслуживать роботы. Проект многообещающий, но дорогой.\n",
    "\n",
    "Вместе с партнёрами вы решились обратиться к инвесторам. Их интересует текущее положение дел на рынке — сможете ли вы снискать популярность на долгое время, когда все зеваки насмотрятся на роботов-официантов?\n",
    "\n",
    "Вы — гуру аналитики, и партнёры просят вас подготовить исследование рынка. У вас есть открытые данные о заведениях общественного питания в Москве."
   ]
  },
  {
   "cell_type": "markdown",
   "metadata": {},
   "source": [
    "Инструкция по выполнению проекта"
   ]
  },
  {
   "cell_type": "markdown",
   "metadata": {},
   "source": [
    "#### Шаг №1. Загрузите данные и подготовьте их к анализу"
   ]
  },
  {
   "cell_type": "markdown",
   "metadata": {},
   "source": [
    "Загрузите данные о заведениях общественного питания Москвы. Убедитесь, что тип данных в каждой колонке — правильный, а также отсутствуют пропущенные значения и дубликаты.\n",
    "\n",
    "При необходимости обработайте их.\n",
    "\n",
    "Путь к файлу: /datasets/rest_data.csv"
   ]
  },
  {
   "cell_type": "markdown",
   "metadata": {},
   "source": [
    "#### Шаг №2. Анализ данных"
   ]
  },
  {
   "cell_type": "markdown",
   "metadata": {},
   "source": [
    "ледуйте соотношение видов объектов общественного питания по количеству. Постройте график.\n",
    "\n",
    "Исследуйте соотношение сетевых и несетевых заведений по количеству. Постройте график.\n",
    "\n",
    "Для какого вида объекта общественного питания характерно сетевое распространение?\n",
    "\n",
    "Что характерно для сетевых заведений: много заведений с небольшим числом посадочных мест в каждом или мало заведений с большим количеством посадочных мест?\n",
    "    \n",
    "Для каждого вида объекта общественного питания опишите среднее количество посадочных мест. Какой вид предоставляет в среднем самое большое количество посадочных мест? Постройте графики.\n",
    "\n",
    "Выделите в отдельный столбец информацию об улице из столбца address .\n",
    "\n",
    "Постройте график топ-10 улиц по количеству объектов общественного питания. Воспользуйтесь внешней информацией и ответьте на вопрос — в каких районах Москвы находятся эти улицы?\n",
    "\n",
    "Найдите число улиц с одним объектом общественного питания. Воспользуйтесь внешней информацией и ответьте на вопрос — в каких районах Москвы находятся эти улицы?\n",
    "\n",
    "Посмотрите на распределение количества посадочных мест для улиц с большим количеством объектов общественного питания. Какие закономерности можно выявить?\n",
    "\n",
    "Сделайте общий вывод и дайте рекомендации о виде заведения, количестве посадочных мест, а также районе расположения. Прокомментируйте возможность развития сети"
   ]
  },
  {
   "cell_type": "markdown",
   "metadata": {},
   "source": [
    "#### Шаг №3. Подготовка презентации"
   ]
  },
  {
   "cell_type": "markdown",
   "metadata": {},
   "source": [
    "Подготовьте презентацию исследования для инвесторов. Для создания презентации используйте любой удобный инструмент, но отправить презентацию нужно обязательно в формате pdf.\n",
    "\n",
    "Приложите ссылку на презентацию в markdown-ячейке в формате:"
   ]
  },
  {
   "cell_type": "markdown",
   "metadata": {},
   "source": [
    "Презентация: <ссылка на облачное хранилище с презентацией>"
   ]
  },
  {
   "cell_type": "markdown",
   "metadata": {},
   "source": [
    "#### Описание данных"
   ]
  },
  {
   "cell_type": "markdown",
   "metadata": {},
   "source": [
    "Таблица rest_data:\n",
    "    \n",
    "object_name — название объекта общественного питания;\n",
    "\n",
    "chain — сетевой ресторан;\n",
    "\n",
    "object_type — тип объекта общественного питания;\n",
    "\n",
    "address — адрес;\n",
    "\n",
    "number — количество посадочных мест."
   ]
  },
  {
   "cell_type": "code",
   "execution_count": 1,
   "metadata": {},
   "outputs": [],
   "source": [
    "import pandas as pd\n",
    "import matplotlib.pyplot as plt\n",
    "from scipy import stats as st\n",
    "import numpy as np\n",
    "import seaborn as sns\n",
    "import warnings\n",
    "warnings.filterwarnings('ignore')"
   ]
  },
  {
   "cell_type": "markdown",
   "metadata": {},
   "source": [
    "#### 1. Получение общей информации о данных"
   ]
  },
  {
   "cell_type": "code",
   "execution_count": 2,
   "metadata": {},
   "outputs": [],
   "source": [
    "# загрузим имеющиеся данные о ресторанах Москвы\n",
    "rest_data = pd.read_csv('/datasets/rest_data.csv')"
   ]
  },
  {
   "cell_type": "code",
   "execution_count": 3,
   "metadata": {},
   "outputs": [],
   "source": [
    "def information(data):\n",
    "    \"\"\"выводит информацию о содержиом датасетов в удобоваримом виде: head, shape, info, describe\"\"\"\n",
    "    \n",
    "    print('---------- ИНФОРМАЦИЯ О ТАБЛИЦЕ -------------')\n",
    "    print()\n",
    "    print('-----------Первые 5 строк--------------------')\n",
    "    print()\n",
    "    print(data.head(5))\n",
    "    print()\n",
    "    print('-----------Длина таблицы----------------------')\n",
    "    print()\n",
    "    print(data.shape[0], 'строк')\n",
    "    print()\n",
    "    print()\n",
    "    print('-----Информация о содержимом и его типах------')\n",
    "    print()\n",
    "    print(data.info())\n",
    "    print()\n",
    "    print('--------------Разброс данных------------------')\n",
    "    print()\n",
    "    print(data.describe())\n",
    "    print('----------------------------------------------')\n",
    "    "
   ]
  },
  {
   "cell_type": "code",
   "execution_count": 4,
   "metadata": {},
   "outputs": [
    {
     "name": "stdout",
     "output_type": "stream",
     "text": [
      "---------- ИНФОРМАЦИЯ О ТАБЛИЦЕ -------------\n",
      "\n",
      "-----------Первые 5 строк--------------------\n",
      "\n",
      "       id             object_name chain object_type  \\\n",
      "0  151635                 СМЕТАНА   нет        кафе   \n",
      "1   77874                  Родник   нет        кафе   \n",
      "2   24309         Кафе «Академия»   нет        кафе   \n",
      "3   21894              ПИЦЦЕТОРИЯ    да        кафе   \n",
      "4  119365  Кафе «Вишневая метель»   нет        кафе   \n",
      "\n",
      "                                             address  number  \n",
      "0         город Москва, улица Егора Абакумова, дом 9      48  \n",
      "1  город Москва, улица Талалихина, дом 2/1, корпус 1      35  \n",
      "2          город Москва, Абельмановская улица, дом 6      95  \n",
      "3            город Москва, Абрамцевская улица, дом 1      40  \n",
      "4  город Москва, Абрамцевская улица, дом 9, корпус 1      50  \n",
      "\n",
      "-----------Длина таблицы----------------------\n",
      "\n",
      "15366 строк\n",
      "\n",
      "\n",
      "-----Информация о содержимом и его типах------\n",
      "\n",
      "<class 'pandas.core.frame.DataFrame'>\n",
      "RangeIndex: 15366 entries, 0 to 15365\n",
      "Data columns (total 6 columns):\n",
      "id             15366 non-null int64\n",
      "object_name    15366 non-null object\n",
      "chain          15366 non-null object\n",
      "object_type    15366 non-null object\n",
      "address        15366 non-null object\n",
      "number         15366 non-null int64\n",
      "dtypes: int64(2), object(4)\n",
      "memory usage: 720.4+ KB\n",
      "None\n",
      "\n",
      "--------------Разброс данных------------------\n",
      "\n",
      "                  id        number\n",
      "count   15366.000000  15366.000000\n",
      "mean   119720.066901     59.547182\n",
      "std     73036.130732     74.736833\n",
      "min       838.000000      0.000000\n",
      "25%     28524.000000     12.000000\n",
      "50%    144974.500000     40.000000\n",
      "75%    184262.250000     80.000000\n",
      "max    223439.000000   1700.000000\n",
      "----------------------------------------------\n"
     ]
    }
   ],
   "source": [
    "information(rest_data)"
   ]
  },
  {
   "cell_type": "markdown",
   "metadata": {},
   "source": [
    "На первый взгляд в типах данных проблемы нет, как и в пропусках: категоральные столбцы в формате object, а количественные - в int"
   ]
  },
  {
   "cell_type": "code",
   "execution_count": 5,
   "metadata": {},
   "outputs": [
    {
     "data": {
      "text/html": [
       "<div>\n",
       "<style scoped>\n",
       "    .dataframe tbody tr th:only-of-type {\n",
       "        vertical-align: middle;\n",
       "    }\n",
       "\n",
       "    .dataframe tbody tr th {\n",
       "        vertical-align: top;\n",
       "    }\n",
       "\n",
       "    .dataframe thead th {\n",
       "        text-align: right;\n",
       "    }\n",
       "</style>\n",
       "<table border=\"1\" class=\"dataframe\">\n",
       "  <thead>\n",
       "    <tr style=\"text-align: right;\">\n",
       "      <th></th>\n",
       "      <th>id</th>\n",
       "      <th>object_name</th>\n",
       "      <th>chain</th>\n",
       "      <th>object_type</th>\n",
       "      <th>address</th>\n",
       "      <th>number</th>\n",
       "    </tr>\n",
       "  </thead>\n",
       "  <tbody>\n",
       "  </tbody>\n",
       "</table>\n",
       "</div>"
      ],
      "text/plain": [
       "Empty DataFrame\n",
       "Columns: [id, object_name, chain, object_type, address, number]\n",
       "Index: []"
      ]
     },
     "execution_count": 5,
     "metadata": {},
     "output_type": "execute_result"
    }
   ],
   "source": [
    "# поищем дубликаты в данных\n",
    "dupl = rest_data[rest_data.duplicated(keep = 'first')]\n",
    "dupl"
   ]
  },
  {
   "cell_type": "markdown",
   "metadata": {},
   "source": [
    "Полных дубликатов нет. Может есть пробема с id или адресом?"
   ]
  },
  {
   "cell_type": "code",
   "execution_count": 6,
   "metadata": {},
   "outputs": [
    {
     "data": {
      "text/html": [
       "<div>\n",
       "<style scoped>\n",
       "    .dataframe tbody tr th:only-of-type {\n",
       "        vertical-align: middle;\n",
       "    }\n",
       "\n",
       "    .dataframe tbody tr th {\n",
       "        vertical-align: top;\n",
       "    }\n",
       "\n",
       "    .dataframe thead th {\n",
       "        text-align: right;\n",
       "    }\n",
       "</style>\n",
       "<table border=\"1\" class=\"dataframe\">\n",
       "  <thead>\n",
       "    <tr style=\"text-align: right;\">\n",
       "      <th></th>\n",
       "      <th>id</th>\n",
       "      <th>object_name</th>\n",
       "      <th>chain</th>\n",
       "      <th>object_type</th>\n",
       "      <th>address</th>\n",
       "      <th>number</th>\n",
       "    </tr>\n",
       "  </thead>\n",
       "  <tbody>\n",
       "  </tbody>\n",
       "</table>\n",
       "</div>"
      ],
      "text/plain": [
       "Empty DataFrame\n",
       "Columns: [id, object_name, chain, object_type, address, number]\n",
       "Index: []"
      ]
     },
     "execution_count": 6,
     "metadata": {},
     "output_type": "execute_result"
    }
   ],
   "source": [
    "dupl_id = rest_data[rest_data['id'].duplicated()]\n",
    "dupl_id.head()"
   ]
  },
  {
   "cell_type": "code",
   "execution_count": 7,
   "metadata": {},
   "outputs": [
    {
     "data": {
      "text/html": [
       "<div>\n",
       "<style scoped>\n",
       "    .dataframe tbody tr th:only-of-type {\n",
       "        vertical-align: middle;\n",
       "    }\n",
       "\n",
       "    .dataframe tbody tr th {\n",
       "        vertical-align: top;\n",
       "    }\n",
       "\n",
       "    .dataframe thead th {\n",
       "        text-align: right;\n",
       "    }\n",
       "</style>\n",
       "<table border=\"1\" class=\"dataframe\">\n",
       "  <thead>\n",
       "    <tr style=\"text-align: right;\">\n",
       "      <th></th>\n",
       "      <th>id</th>\n",
       "      <th>object_name</th>\n",
       "      <th>chain</th>\n",
       "      <th>object_type</th>\n",
       "      <th>address</th>\n",
       "      <th>number</th>\n",
       "    </tr>\n",
       "  </thead>\n",
       "  <tbody>\n",
       "    <tr>\n",
       "      <td>8</td>\n",
       "      <td>20958</td>\n",
       "      <td>КПФ СЕМЬЯ-1</td>\n",
       "      <td>нет</td>\n",
       "      <td>столовая</td>\n",
       "      <td>город Москва, Авиамоторная улица, дом 8, строе...</td>\n",
       "      <td>150</td>\n",
       "    </tr>\n",
       "    <tr>\n",
       "      <td>9</td>\n",
       "      <td>28858</td>\n",
       "      <td>Столовая МТУСИ</td>\n",
       "      <td>нет</td>\n",
       "      <td>столовая</td>\n",
       "      <td>город Москва, Авиамоторная улица, дом 8, строе...</td>\n",
       "      <td>120</td>\n",
       "    </tr>\n",
       "    <tr>\n",
       "      <td>22</td>\n",
       "      <td>26931</td>\n",
       "      <td>Долина Чайхона</td>\n",
       "      <td>нет</td>\n",
       "      <td>кафе</td>\n",
       "      <td>город Москва, Алтуфьевское шоссе, дом 14</td>\n",
       "      <td>150</td>\n",
       "    </tr>\n",
       "    <tr>\n",
       "      <td>25</td>\n",
       "      <td>81554</td>\n",
       "      <td>Домино'с Пицца</td>\n",
       "      <td>да</td>\n",
       "      <td>кафе</td>\n",
       "      <td>город Москва, Алтуфьевское шоссе, дом 56</td>\n",
       "      <td>24</td>\n",
       "    </tr>\n",
       "    <tr>\n",
       "      <td>37</td>\n",
       "      <td>24968</td>\n",
       "      <td>Му-Му</td>\n",
       "      <td>да</td>\n",
       "      <td>кафе</td>\n",
       "      <td>город Москва, улица Арбат, дом 4, строение 1</td>\n",
       "      <td>125</td>\n",
       "    </tr>\n",
       "  </tbody>\n",
       "</table>\n",
       "</div>"
      ],
      "text/plain": [
       "       id     object_name chain object_type  \\\n",
       "8   20958     КПФ СЕМЬЯ-1   нет    столовая   \n",
       "9   28858  Столовая МТУСИ   нет    столовая   \n",
       "22  26931  Долина Чайхона   нет        кафе   \n",
       "25  81554  Домино'с Пицца    да        кафе   \n",
       "37  24968           Му-Му    да        кафе   \n",
       "\n",
       "                                              address  number  \n",
       "8   город Москва, Авиамоторная улица, дом 8, строе...     150  \n",
       "9   город Москва, Авиамоторная улица, дом 8, строе...     120  \n",
       "22           город Москва, Алтуфьевское шоссе, дом 14     150  \n",
       "25           город Москва, Алтуфьевское шоссе, дом 56      24  \n",
       "37       город Москва, улица Арбат, дом 4, строение 1     125  "
      ]
     },
     "execution_count": 7,
     "metadata": {},
     "output_type": "execute_result"
    }
   ],
   "source": [
    "dupl_add = rest_data[rest_data['address'].duplicated()]\n",
    "dupl_add.head()"
   ]
  },
  {
   "cell_type": "markdown",
   "metadata": {},
   "source": [
    "Разные кафе, расположенные по одному адресу - не проблема. При первичном осмотре данные готовы к тому, чтобы их анализировать."
   ]
  },
  {
   "cell_type": "markdown",
   "metadata": {},
   "source": [
    "#### 2.Соотношение видов объектов общественного питания"
   ]
  },
  {
   "cell_type": "code",
   "execution_count": 8,
   "metadata": {},
   "outputs": [],
   "source": [
    "#сгруппируем данные по типу объекта, подсчитав количество id, попавших в каждую группу\n",
    "group_type = rest_data.groupby('object_type')['id'].count().sort_values().reset_index()"
   ]
  },
  {
   "cell_type": "markdown",
   "metadata": {},
   "source": [
    "Чтобы подготовить красивый график соотношения видов объектов общественного питания, сгруппируем и отсортирум датасет"
   ]
  },
  {
   "cell_type": "code",
   "execution_count": 9,
   "metadata": {},
   "outputs": [],
   "source": [
    "#подготовим автоматизацию для вывода графика.\n",
    "\n",
    "def show_horizontal_bar(x_line, y_line, figsize, space, title):\n",
    "    \n",
    "    \"\"\"делает красивый горизонтальный бар\"\"\"\n",
    "    \n",
    "    fig, ax1 = plt.subplots(figsize=(figsize)) #задаем размер переменной, чтобы можно было регулировать\n",
    "    sns.set_context('talk') #методом проб выбираем наиболее приглядный тип вывода графика\n",
    "    ax = sns.barplot(x = x_line, y = y_line, ax = ax1, palette=(\"BuGn_r\")) \n",
    "    ax.set_yticklabels(ax.get_yticklabels(), fontsize = 20) #зададим формат подписей\n",
    "    plt.title(title) #добавим титл\n",
    "    \n",
    "    for p in ax.patches: #заберем отличный код со стэковерфлоу, чтобы красиво подписывать данные циклом\n",
    "        _x = p.get_x() + p.get_width() + float(space)\n",
    "        _y = p.get_y() + p.get_height()\n",
    "        value = int(p.get_width())\n",
    "        ax.text(_x, _y, value, fontsize=20,\n",
    "            color='black',\n",
    "            ha='left',\n",
    "            va='bottom')\n",
    "            \n",
    "\n",
    "    plt.show()"
   ]
  },
  {
   "cell_type": "code",
   "execution_count": 10,
   "metadata": {},
   "outputs": [
    {
     "data": {
      "image/png": "[encoded data removed]",
      "text/plain": [
       "<Figure size 1512x720 with 1 Axes>"
      ]
     },
     "metadata": {
      "needs_background": "light"
     },
     "output_type": "display_data"
    }
   ],
   "source": [
    "show_horizontal_bar(group_type['id'], group_type['object_type'], (21, 10), 15, 'Соотношение по типу заведения')"
   ]
  },
  {
   "cell_type": "markdown",
   "metadata": {},
   "source": [
    "Самым частым типом общественного питания является кафе.\n",
    "\n",
    "Из определения ГОСТа мы можем сделать вывод, что преимуществом для открытия данного типа заведения является возможность иметь скромное и проработанное меню, состоящее из блюд не требующих излишне сложной готовки,\n",
    "но и не представляющими из себя изыски. Для построения бизнеса в городе, \n",
    "где у многих все еще запросто в квартире мебель совестских времен , действительно оптимальный выбор вида предприятия. Начало для нашей идеи положено правильно."
   ]
  },
  {
   "cell_type": "markdown",
   "metadata": {},
   "source": [
    "---\n",
    "\n",
    "### Комментарий наставника\n",
    "\n",
    "Здорово, ты выбрал удачный график для этой задачи.\n",
    "\n",
    "Насчёт вывода, он, конечно, весьма спорный, но действительно верно то, что начало заложено. Количество != качество, и достаточно много кафе это ларьки с шаурмой (просто так себя позиционируют) :)\n",
    "\n",
    "---"
   ]
  },
  {
   "cell_type": "markdown",
   "metadata": {},
   "source": [
    "#### 3. Cоотношение сетевых и несетевых заведений"
   ]
  },
  {
   "cell_type": "markdown",
   "metadata": {},
   "source": [
    "Чтобы выяснить соотношение сетевых и несетевых заведений, снова сгруппируем таблицу и выведем результат на графике"
   ]
  },
  {
   "cell_type": "code",
   "execution_count": 11,
   "metadata": {},
   "outputs": [
    {
     "data": {
      "image/png": "[encoded data removed]",
      "text/plain": [
       "<Figure size 1800x720 with 1 Axes>"
      ]
     },
     "metadata": {
      "needs_background": "light"
     },
     "output_type": "display_data"
    }
   ],
   "source": [
    "#сгруппируем по \"сетевиковости\", подсчитав количество id в каждой группе\n",
    "group_chain = rest_data.groupby('chain')['id'].count().sort_values().reset_index()\n",
    "\n",
    "#выведем на печать\n",
    "show_horizontal_bar(group_chain['id'], group_chain['chain'], (25, 10), 15, 'Соотношение сетевых и несетевых заведений')"
   ]
  },
  {
   "cell_type": "markdown",
   "metadata": {},
   "source": [
    "Разница впечатляющая. В 4 с лишним раза несетевых заведений больше, чем сетевых. Вохможно на рынке не так просто выживать сетям, как кажется на первый взгляд. Но это означает, что приобретать франшизу, чтобы учавствовать в этом рынке, совсем не обязательно. Обычный штучный бизнес вполне может составить конкуренцию гигантам рынка. Можно быть уверенным - при правильном подходе небольшое кафе может существовать в столице. Это выглядить оптимистично . Останется лишь определиться с подходом. И конкурентами."
   ]
  },
  {
   "cell_type": "markdown",
   "metadata": {},
   "source": [
    "---\n",
    "\n",
    "### Комментарий наставника\n",
    "\n",
    "Твоё наблюдение вполне интересно. Тут ещё может играть тот фактор, что многие открывают свои малые преприятия, со своим, так сказать, калоритом. А сетевиков не много и не мало, скорей всего, просто \"другого\" гораздо больше. Посмотри на улице, сколько всяких забегаловок :)\n",
    "\n",
    "---"
   ]
  },
  {
   "cell_type": "markdown",
   "metadata": {},
   "source": [
    "#### 4. Вид объекта, в зависимости от того, сетевой ли он"
   ]
  },
  {
   "cell_type": "code",
   "execution_count": 12,
   "metadata": {},
   "outputs": [
    {
     "data": {
      "image/png": "[encoded data removed]",
      "text/plain": [
       "<Figure size 1800x648 with 1 Axes>"
      ]
     },
     "metadata": {
      "needs_background": "light"
     },
     "output_type": "display_data"
    }
   ],
   "source": [
    "#отфильтруем таблицу в зависимости от принадлежности\n",
    "chain_rest = rest_data.query('chain == \"да\"')\n",
    "\n",
    "#сгруппируем по типу объекта, подсчитав количество id в каждой группе\n",
    "group_chain_rest = chain_rest.groupby('object_type')['id'].count().sort_values().reset_index()\n",
    "\n",
    "#выведем на печать\n",
    "show_horizontal_bar(group_chain_rest['id'], group_chain_rest['object_type'], (25, 9), 10,\n",
    "                    'Распределение по типу в сетевых заведениях')"
   ]
  },
  {
   "cell_type": "markdown",
   "metadata": {},
   "source": [
    "Учитывая, что кафеен и без того больше всего, корректнее было бы сравнивать долевое отношение общего числа заведений к числу заведений, находящихся в сети. Для этого соберем в одну кучку две таблицы: общее число заведений по типу и число сетевых заведений по типу. Это упростит восприятие данных."
   ]
  },
  {
   "cell_type": "markdown",
   "metadata": {},
   "source": [
    "---\n",
    "\n",
    "### Комментарий наставника\n",
    "\n",
    "Откуда кофейни появились?! :)\n",
    "\n",
    "Ну, а так. Тут ты прав с той стороны, что стоит рассмотреть с позиции отдельных заведений, но и про исходную постановку тоже стоит забывать. Ведь здесь ещё играет роль насыщенность территории Москвы заведениями из какой-либо категории.\n",
    "\n",
    "---"
   ]
  },
  {
   "cell_type": "code",
   "execution_count": 13,
   "metadata": {},
   "outputs": [
    {
     "data": {
      "image/png": "[encoded data removed]",
      "text/plain": [
       "<Figure size 1080x648 with 1 Axes>"
      ]
     },
     "metadata": {
      "needs_background": "light"
     },
     "output_type": "display_data"
    }
   ],
   "source": [
    "# переименуем столбец в сетевой таблице\n",
    "group_chain_rest.columns = ['object_type', 'chain_id']\n",
    "\n",
    "#смержим данные и отсортируем для красоты построения графика\n",
    "share_chain = group_type.merge(group_chain_rest)\n",
    "share_chain['share'] = (share_chain['chain_id'] / share_chain['id']) *100\n",
    "share_chain = share_chain.sort_values(by = 'share')\n",
    "\n",
    "#построим график\n",
    "show_horizontal_bar(share_chain['share'], share_chain['object_type'], (15, 9), 0.4, \n",
    "                    'Распределение по типу в сетевых заведениях (%)')"
   ]
  },
  {
   "cell_type": "markdown",
   "metadata": {},
   "source": [
    "Выходит, что для столовых - это меньше процента, а для кофеен (которые в первом графике стояли на первом месте по числу предприятий) - немногим больше 20 процентов. Лидером по сетевому размещенияю являются заведения быстрго питания (что было достаточно интуитивно). Для инвесторов есть отличная новость - лишь 20% кофеен принадлежит суровым сетевикам. Это значит, что, во-первых, конкурировать с частным бизнесом будет проще, а во-вторых, при масштабировании заведений (а мы верим в успех предприятия, где гостя обслуживают и развлекают роботы), на рынке найдется достаточно место езе для одной сети."
   ]
  },
  {
   "cell_type": "markdown",
   "metadata": {},
   "source": [
    "---\n",
    "\n",
    "### Комментарий наставника\n",
    "\n",
    "Хм, оптимистично. Но насчёт частного бизнеса не стоит расслабляться. Ведь ты тоже не сетевик, и вполне может быть, что кто-то из частников тоже имеет какую-то интересную фичу :)\n",
    "\n",
    "---"
   ]
  },
  {
   "cell_type": "markdown",
   "metadata": {},
   "source": [
    "#### 5. Типовое сетевое заведение"
   ]
  },
  {
   "cell_type": "markdown",
   "metadata": {},
   "source": [
    "Продолжим и дальше работать с сетевыми заведениями. Сгруппируем по уникальным названиям сетей. Посмотрим, как именно выглядит типичное сетевое заведение."
   ]
  },
  {
   "cell_type": "code",
   "execution_count": 14,
   "metadata": {},
   "outputs": [
    {
     "data": {
      "text/html": [
       "<div>\n",
       "<style scoped>\n",
       "    .dataframe tbody tr th:only-of-type {\n",
       "        vertical-align: middle;\n",
       "    }\n",
       "\n",
       "    .dataframe tbody tr th {\n",
       "        vertical-align: top;\n",
       "    }\n",
       "\n",
       "    .dataframe thead th {\n",
       "        text-align: right;\n",
       "    }\n",
       "</style>\n",
       "<table border=\"1\" class=\"dataframe\">\n",
       "  <thead>\n",
       "    <tr style=\"text-align: right;\">\n",
       "      <th></th>\n",
       "      <th>object_name</th>\n",
       "      <th>id</th>\n",
       "      <th>number</th>\n",
       "    </tr>\n",
       "  </thead>\n",
       "  <tbody>\n",
       "    <tr>\n",
       "      <td>0</td>\n",
       "      <td>Beverly Hills Diner</td>\n",
       "      <td>1</td>\n",
       "      <td>88.000000</td>\n",
       "    </tr>\n",
       "    <tr>\n",
       "      <td>1</td>\n",
       "      <td>Bierloga</td>\n",
       "      <td>1</td>\n",
       "      <td>75.000000</td>\n",
       "    </tr>\n",
       "    <tr>\n",
       "      <td>2</td>\n",
       "      <td>Black &amp; White</td>\n",
       "      <td>1</td>\n",
       "      <td>40.000000</td>\n",
       "    </tr>\n",
       "    <tr>\n",
       "      <td>3</td>\n",
       "      <td>Bocconcino</td>\n",
       "      <td>3</td>\n",
       "      <td>66.666667</td>\n",
       "    </tr>\n",
       "    <tr>\n",
       "      <td>4</td>\n",
       "      <td>BooBo</td>\n",
       "      <td>1</td>\n",
       "      <td>46.000000</td>\n",
       "    </tr>\n",
       "  </tbody>\n",
       "</table>\n",
       "</div>"
      ],
      "text/plain": [
       "           object_name  id     number\n",
       "0  Beverly Hills Diner   1  88.000000\n",
       "1             Bierloga   1  75.000000\n",
       "2        Black & White   1  40.000000\n",
       "3           Bocconcino   3  66.666667\n",
       "4                BooBo   1  46.000000"
      ]
     },
     "execution_count": 14,
     "metadata": {},
     "output_type": "execute_result"
    }
   ],
   "source": [
    "#сгруппируем отфилтрованный фрейм данных по наименованию объекта \n",
    "#и посчитаем количество id и среднее число посадочных мест\n",
    "chain_group = (chain_rest.groupby(by = 'object_name')\n",
    "    .agg({'id' : 'nunique', 'number' : 'mean'}).reset_index())\n",
    "chain_group.head()"
   ]
  },
  {
   "cell_type": "markdown",
   "metadata": {},
   "source": [
    "Вот и нашлись не исправленные ранее дубликаты (в сети всего 1 ресторан). Учитывая, что для несетевых заведений проблема разного написания наименований так остро не стоит, разберемся только с теми дубликатами, которые имеют статус сетевика"
   ]
  },
  {
   "cell_type": "code",
   "execution_count": 15,
   "metadata": {},
   "outputs": [
    {
     "data": {
      "text/plain": [
       "724"
      ]
     },
     "execution_count": 15,
     "metadata": {},
     "output_type": "execute_result"
    }
   ],
   "source": [
    "# количество заведений, до исправления написания\n",
    "len(chain_group['object_name'].unique())"
   ]
  },
  {
   "cell_type": "code",
   "execution_count": 16,
   "metadata": {},
   "outputs": [
    {
     "data": {
      "text/plain": [
       "577"
      ]
     },
     "execution_count": 16,
     "metadata": {},
     "output_type": "execute_result"
    }
   ],
   "source": [
    "#в первую очередь удерем заглавные буквы и посмотрим, сильно ли изменилась картина\n",
    "chain_rest['object_name'] = chain_rest['object_name'].str.lower()\n",
    "\n",
    "#и снова сгруппируем\n",
    "chain_group = (chain_rest.groupby(by = 'object_name')\n",
    "    .agg({'id' : 'nunique', 'number' : 'mean'}).reset_index())\n",
    "\n",
    "len(chain_group['object_name'].unique())"
   ]
  },
  {
   "cell_type": "code",
   "execution_count": 17,
   "metadata": {},
   "outputs": [
    {
     "data": {
      "text/plain": [
       "331"
      ]
     },
     "execution_count": 17,
     "metadata": {},
     "output_type": "execute_result"
    }
   ],
   "source": [
    "#количество наименований сократилось значительно. \n",
    "#Посмотрим, что осталось по итогу (единичные заведения)\n",
    "\n",
    "len(chain_group.query('id == 1'))"
   ]
  },
  {
   "cell_type": "markdown",
   "metadata": {},
   "source": [
    "Список единичных заведений составляет более половины от общей цифры. Это может сильно исказить наше представление о том, что более характерно для сетевых заведений: большое количество точек или большое количестве мест. Попробуем пролемматизировать наименования, чтобы максимально устранить проблему. Пусть и визуально."
   ]
  },
  {
   "cell_type": "code",
   "execution_count": 20,
   "metadata": {},
   "outputs": [
    {
     "name": "stdout",
     "output_type": "stream",
     "text": [
      "Counter({'\\n': 2656, ' ': 1878, ' «': 312, '»\\n': 307, 'пицца': 258, 'kfc': 188, 'кафе': 187, 'шоколадница': 185, 'макдоналдс': 173, 'бургер': 166, 'кинг': 159, 'с': 148, 'суша': 127, 'кофе': 114, 'теремок': 111, '-': 108, 'домино': 99, \"'\": 99, 'картошка': 98, 'крошка': 96, 'ресторан': 89, 'wok': 86, 'милти': 81, '№': 69, '1': 67, 'папа': 67, 'джонс': 67, 'му': 64, 'прайм': 62, 'хаус': 61, 'хинкальный': 54, 'додо': 54, 'чайхон': 53, 'якитория': 50, 'себя': 49, 'иль': 48, 'танука': 47, 'патио': 45, 'брат': 41, 'караваев': 41, 'старый': 41, 'starbucks': 40, 'subway': 38, 'старбакс': 36, 'хлеб': 35, 'мята': 34, 'lounge': 34, 'насущный': 33, 'кулинарный': 31, 'андерсон': 29, 'быстрый': 28, 'пиццерия': 27, 'лавка': 25, 'предприятие': 25, 'cofix': 25, 'хата': 24, 'обслуживание': 24, 'сабвевать': 23, 'бар': 20, 'кофейня': 20, 'мак': 20, 'кофемания': 19, 'штолла': 19, 'кружка': 18, 'волконский': 18, 'паоло': 18, 'coffee': 17, 'сушишоп': 17, 'стардогs': 17, 'але': 16, 'да': 16, 'сет': 15, 'планета': 15, 'баскин': 15, 'роббинс': 15, 'урюк': 15, 'вок': 14, 'джон': 13, 'джоли': 13, 'ваби': 13, 'саби': 13, 'корчма': 12, 'тарас': 12, 'бульба': 12, 'prime': 12, 'вареничная': 11, 'и': 11, 'то': 11, 'се': 11, 'burger': 11, 'ниям': 11, 'экспресс': 10, 'krispy': 10, 'грабли': 10, 'закусочная': 10, 'космик': 10, 'кальянный': 10, 'сити': 9, 'французский': 9, 'выпечка': 9, 'азбука': 9, 'вкус': 9, 'вьеткафе': 9, 'пронто': 9, 'воккер': 9, 'брусника': 8, 'пирог': 8, 'гудман': 8, 'costa': 8, 'сеть': 8, 'колбасоффа': 8, 'дабла': 8, 'би': 8, 'магбургер': 8, 'территория': 8, 'ростикс': 8, 'данкин': 7, 'донатс': 7, 'шантимель': 7, 'академия': 7, 'чебуречная': 7, 'ссср': 7, 'тирольский': 7, 'фабрика': 7, 'джаганнат': 7, 'moskalyan': 7, 'creme': 7, 'мимино': 7, 'менз': 7, 'king': 7, 'ташир': 7, ' & ': 7, 'box': 7, 'гамбринус': 6, 'два': 6, 'палочка': 6, 'клаб': 6, 'де': 6, 'правdа': 6, 'ерш': 6, 'пекарня': 6, 'руккола': 6, 'бюро': 6, 'азс': 6, 'поль': 6, 'тун': 6, 'ливан': 6, 'coffeeshop': 6, 'dunkin': 6, 'donuts': 6, 'мск': 6, 'московский': 6, 'готовый': 6, 'панчо': 5, 'кондитерский': 5, '&': 5, 'хачапури': 5, 'жан': 5, 'жак': 5, 'jeffreys': 5, 'золотой': 5, 'вобла': 5, 'паб': 5, 'магазин': 5, '» ': 5, 'пино': 5, 'старина': 5, 'кебаб': 5, 'бакинский': 5, 'бульвар': 5, 'company': 5, ', ': 5, 'еда': 5, 'примавера': 4, 'тапчанин': 4, '.': 4, 'темпл': 4, 'марко': 4, 'брудер': 4, 'travelers': 4, 'рецептор': 4, 'в': 4, 'пилзнер': 4, ')\\n': 4, 'гурман': 4, 'бейкери': 4, 'при': 4, '«': 4, 'yogurt': 4, 'tutti': 4, 'frutti': 4, 'healthy': 4, 'food': 4, 'бенто': 4, 'питание': 4, 'fridays': 4, 'osteria': 4, 'mario': 4, 'николай': 3, 'простой': 3, 'вещь': 3, 'павлин': 3, 'мавлин': 3, 'бин': 3, 'илья': 3, 'муромец': 3, 'пивко': 3, 'кофепорт': 3, 'форный': 3, 'upside': 3, 'down': 3, ' (': 3, 'торро': 3, 'гриль': 3, 'детский': 3, 'сварня': 3, 'ичибан': 3, 'бош': 3, 'pomodoro': 3, 'чешский': 3, 'пивной': 3, 'миллер': 3, 'ян': 3, 'примус': 3, 'лепешка': 3, 'порто': 3, 'мальтез': 3, 'glowsubs': 3, 'sandwiches': 3, 'diner': 3, 'krem': 3, 'club': 3, 'сушиман': 3, 'bocconcino': 3, 'пбо': 3, 'sushilka': 3, 'wokker': 3, 'ванвок': 3, 'семейный': 3, 'блинная': 3, 'correas': 3, 'лукойл': 3, 'кальян': 3, 'пиццетория': 2, 'grand': 2, 'советский': 2, 'время': 2, 'шоколад': 2, 'магнолия': 2, 'ньокк': 2, 'хижина': 2, '- ': 2, 'буфет': 2, 'чайхана': 2, 'экспрессо': 2, 'капучино': 2, 'co': 2, 'стейк': 2, 'ботик': 2, 'петр': 2, 'чин': 2, 'барашек': 2, 'cake': 2, 'городской': 2, 'крепери': 2, 'пари': 2, 'коста': 2, 'венеция': 2, 'зодиак': 2, 'роллофф': 2, 'пипонь': 2, 'сытый': 2, 'утка': 2, 'il': 2, 'мюллер': 2, 'квартира': 2, '44': 2, 'американ': 2, 'суп': 2, 'florentini': 2, 'ми': 2, 'пьяч': 2, 'пи': 2, 'бир': 2, 'спб': 2, 'paul': 2, 'зю': 2, 'starlite': 2, ',': 2, 'кофетун': 2, 'елка': 2, 'палка': 2, 'к': 2, 'изба': 2, 'инвест': 2, 'япошить': 2, 'барбарис': 2, 'frenzy': 2, 'дюшес': 2, 'frozen': 2, 'меленка': 2, 'сбарро': 2, 'восточный': 2, 'базар': 2, 'white': 2, 'maki': 2, 'барбекю': 2, 'обжорный': 2, 'ряд': 2, 'закусочный': 2, 'спорт': 2, 'японский': 2, 'кухня': 2, 'мистер': 2, 'сие': 2, 'дорогой': 2, 'я': 2, 'перезванивать': 2, 'икеа': 2, 'ikea': 2, 'роснефть': 2, 'грузинский': 2, 'tgi': 2, 'точка': 2, 'продажа': 2, 'ирландский': 2, 'вкусняшка': 2, 'стардогс': 2, 'pizza': 2, 'luciano': 2, 'шаболовка': 2, 'lavkalavka': 2, 'хлебница': 2, 'мясоroob': 2, 'my': 2, 'готика': 1, 'tajj': 1, 'mahal': 1, 'city': 1, 'виктория': 1, 'cru': 1, 'гино': 1, 'но': 1, 'таки': 1, 'тратория': 1, 'semplice': 1, 'бабай': 1, 'кактус': 1, 'мюнгер': 1, 'цинандали': 1, 'домашний': 1, 'добрынинский': 1, 'партнер': 1, 'бравый': 1, 'гурмания': 1, 'bierloga': 1, 'штирбирлиц': 1, 'coffe': 1, 'траттория': 1, 'праймкафе': 1, 'перекресток': 1, 'милано': 1, 'фитнес': 1, 'world': 1, 'class': 1, 'билл': 1, 'tokyo': 1, 'bay': 1, 'пиппонь': 1, 'китченный': 1, 'икур': 1, 'клуб': 1, 'пиу': 1, 'дель': 1, 'чибо': 1, 'макс': 1, 'бреннер': 1, 'бутчер': 1, 'бизон': 1, '16': 1, 'кулинария': 1, '17': 1, 'forno': 1, 'козловица': 1, 'vietcafe': 1, 'оникс': 1, 'дзен': 1, 'ясенево': 1, 'сушивка': 1, 'автокофейня': 1, 'вгость': 1, 'кинто': 1, 'цех': 1, 'по': 1, 'изготовление': 1, 'донателло': 1, 'марукамэ': 1, 'шашлык': 1, 'машлык': 1, 'генацвали': 1, 'timbigfamily': 1, 'da': 1, 'pino': 1, 'граци': 1, 'рагацци': 1, 'виват': 1, 'пироговой': 1, 'метро': 1, 'тамася': 1, 'фантоцци': 1, 'русый': 1, 'хивинский': 1, 'ганс': 1, 'марта': 1, 'волгоградский': 1, 'лето': 1, 'ямми': 1, 'микс': 1, 'баракат': 1, 'вавилов': 1, 'kitchen': 1, 'москва': 1, ' - ': 1, 'помидор': 1, 'бутово': 1, 'урожай': 1, 'шварцвальд': 1, 'джардино': 1, 'каро': 1, 'покрышкин': 1, 'rabbite': 1, 'белый': 1, 'кролик': 1, '» (': 1, 'тайм': 1, 'авеню': 1, 'шаурма': 1, 'газпромнефть': 1, 'боулинг': 1, 'gate': 1, '42': 1, 'кафе-закусочная': 1, 'торнадо': 1, 'bp': 1, 'ариана': 1, 'шикарь': 1, 'каффа': 1, 'patio': 1, 'пражечка': 1, 'pizengof99': 1, 'югос': 1, 'марчеллис': 1, 'песто': 1, 'митлес': 1, 'молли': 1, 'гвинза': 1, 'm': 1, 'cafe': 1, 'marrakesh': 1, 'бармалинь': 1, 'кофешоп': 1, 'гудвин': 1, 'torro': 1, 'grill': 1, 'the': 1, 'terrace': 1, 'вlack': 1, 'пончиковый': 1, 'black': 1, 'cookhouse': 1, 'пикколо': 1, 'васаби': 1, 'эzо': 1, 'одесса': 1, ' -': 1, 'мама': 1, 'deli': 1, 'by': 1, 'пицерия': 1, 'блэк': 1, 'кондитерская': 1, 'panda': 1, 'express': 1, 'ава': 1, 'дейли': 1, 'мороженный': 1, 'пекарей': 1, '2': 1, 'бистро': 1, 'сказка': 1, 'каникулы': 1, 'хруст': 1, 'центрнефтьпродукт': 1, 'мираторга': 1, 'bubbleology': 1, 'бодрый': 1, 'день': 1, 'boobo': 1, 'кружок': 1, 'f': 1, 'на': 1, '»»\\n': 1, 'domino': 1, 's': 1, 'beverly': 1, 'hills': 1, 'кондитерий': 1, 'анти': 1, 'автозаводский': 1, 'газпромнефтьцентр': 1, 'goodman': 1, 'star': 1, 'праймстар': 1, 'vanwok': 1, 'van': 1, 'бб': 1, 'энд': 1, 'бургерс': 1, 'сувлак': 1, 'movenpick': 1, 'marmalato': 1, 'блюдо': 1, 'лаундж': 1, 'октябрьский': 1})\n"
     ]
    }
   ],
   "source": [
    "#импортиреум требуемые библиотеки\n",
    "from pymystem3 import Mystem\n",
    "m = Mystem()\n",
    "from collections import Counter\n",
    "\n",
    "#создадим цикл, выделяющий леммы\n",
    "lemmas = []\n",
    "for row in chain_rest['object_name']:\n",
    "    \n",
    "    lemmas += m.lemmatize(row)\n",
    "print(Counter(lemmas))"
   ]
  },
  {
   "cell_type": "markdown",
   "metadata": {},
   "source": [
    "Как мы видим, на первом месте у нас - пробелы. Может статься, что дропнув их список немного выгладится. Так же может помочь устранение кавычек (причем до удаления пробелов, т.к. открывающая кавычка определяется вместе с пробелом). Ну и заодно дефис. Это, что касается топовых позиций лемматизации. Затем стоит обратить внимание, что отдельно определились Старбаксы, КФС, кофехаусы. Поэтому в первую очередь избавимся в полном списке от мешающей пунктуации, посмотрим, что выйдет из этого, а потом попробуем собрать воедино все достоверно известные нам (и выявленные леммой) сетки."
   ]
  },
  {
   "cell_type": "code",
   "execution_count": 21,
   "metadata": {},
   "outputs": [],
   "source": [
    "#кавычки\n",
    "chain_rest['object_name'] = chain_rest['object_name'].str.replace('«','')\n",
    "chain_rest['object_name'] = chain_rest['object_name'].str.replace('»','')\n",
    "\n",
    "#пробелы\n",
    "chain_rest['object_name'] = chain_rest['object_name'].str.replace(' ','')\n",
    "\n",
    "#дефисы\n",
    "chain_rest['object_name'] = chain_rest['object_name'].str.replace('-','')\n",
    "\n",
    "#апостроф\n",
    "chain_rest['object_name'] = chain_rest['object_name'].str.replace(\"'\",\"\")"
   ]
  },
  {
   "cell_type": "markdown",
   "metadata": {},
   "source": [
    "---\n",
    "\n",
    "### Комментарий наставника\n",
    "\n",
    "Сюда бы регулярочку\n",
    "\n",
    "---"
   ]
  },
  {
   "cell_type": "code",
   "execution_count": 22,
   "metadata": {},
   "outputs": [],
   "source": [
    "#Перейдем к выявленным лемматизацией сеткам, для которых напишем функцию (пусть и ужасно длинную)\n",
    "#и добавим в нее все, что бросится в глаза.\n",
    "#это ведь можно было кк-то через словарь сделать с меньшим кодом? Но я не догадалась как()\n",
    "def serch_word_in(row):\n",
    "    \n",
    "    #ищет слова в серии\n",
    "    \n",
    "    purpose_in = row['object_name']\n",
    "    \n",
    "    if 'старбакс' in purpose_in or 'starbucks' in purpose_in:\n",
    "        return 'starbucks'    \n",
    "    elif 'fridays' in purpose_in:\n",
    "        return 'fridays'    \n",
    "    elif 'kfc' in purpose_in:\n",
    "        return 'kfc'    \n",
    "    elif 'prime' in purpose_in or 'прймстар' in purpose_in:\n",
    "        return 'prime'    \n",
    "    elif 'кофехаус' in purpose_in:\n",
    "        return 'кофехаус'    \n",
    "    elif 'крошкакартошка' in purpose_in:\n",
    "        return 'крошкакартошка'    \n",
    "    elif 'costacoffee' in purpose_in or 'костакофе' in purpose_in:\n",
    "        return 'costacoffee'    \n",
    "    elif 'subway' in purpose_in:\n",
    "        return 'subway'    \n",
    "    elif 'караваев' in purpose_in:\n",
    "        return 'братьякараваевы'    \n",
    "    elif 'доминос' in purpose_in or 'dominos' in purpose_in:\n",
    "        return 'доминос'\n",
    "    elif 'якитория' in purpose_in:\n",
    "        return 'якитория'\n",
    "    elif 'кружка' in purpose_in:\n",
    "        return 'кружка'\n",
    "    elif 'космик' in purpose_in:\n",
    "        return 'космик'    \n",
    "    elif 'tutti' in purpose_in:\n",
    "        return 'tuttifrutti'          \n",
    "    elif 'мята' in purpose_in:\n",
    "        return 'мята'         \n",
    "    elif 'андерсон' in purpose_in:\n",
    "        return 'андерсон'      \n",
    "    elif 'стардог' in purpose_in:\n",
    "        return 'стардогс'   \n",
    "    elif 'макдоналд' in purpose_in:\n",
    "        return 'макдоналдс'     \n",
    "    elif 'сушиwok' in purpose_in:\n",
    "        return 'сушиwok'      \n",
    "    elif 'милти' in purpose_in:\n",
    "        return 'милти' \n",
    "    elif 'додо' in purpose_in:\n",
    "        return 'додопицца'    \n",
    "    elif 'баскинроб' in purpose_in:\n",
    "        return 'баскинробинс'    \n",
    "    elif 'шоколадниц' in purpose_in:\n",
    "        return 'шоколадница'        \n",
    "    elif 'бургеркинг' in purpose_in:\n",
    "        return 'бургеркинг'         \n",
    "    elif 'пападжонс' in purpose_in:\n",
    "        return 'пападжонс'    \n",
    "    elif 'ильпатио' in purpose_in:\n",
    "        return 'ильпатио'        \n",
    "    elif 'пиццахат' in purpose_in:\n",
    "        return 'пиццахат'         \n",
    "    elif 'ситип' in purpose_in:\n",
    "        return 'ситипицца'      \n",
    "    elif 'торро' in purpose_in:\n",
    "        return 'торрогриль'      \n",
    "    elif 'азбукав' in purpose_in:\n",
    "        return 'азбукавкуса'    \n",
    "    elif 'тун' in purpose_in:\n",
    "        return 'сушитун'    \n",
    "    elif 'маким' in purpose_in or 'makim' in purpose_in:\n",
    "        return 'макимаки'        \n",
    "    elif 'вабис' in purpose_in:\n",
    "        return 'вабисаби'    \n",
    "    elif 'гудман' in purpose_in:\n",
    "        return 'гудман'    \n",
    "    elif 'coffeeshop' in purpose_in:\n",
    "        return 'coffeeshop'   \n",
    "    elif 'вьетк' in purpose_in:\n",
    "        return 'вьеткафе'     \n",
    "    else:\n",
    "        return purpose_in"
   ]
  },
  {
   "cell_type": "code",
   "execution_count": 23,
   "metadata": {},
   "outputs": [
    {
     "name": "stdout",
     "output_type": "stream",
     "text": [
      "Количество уникальных значений: 395\n",
      "Количество единичных заведений: 192\n"
     ]
    }
   ],
   "source": [
    "#пропустим через функцию столбец с названиями\n",
    "chain_rest['object_name_new'] = chain_rest.apply(serch_word_in, axis = 1)\n",
    "\n",
    "#снова сгруппируем данные, чтобы проверить результат по новому столбцу\n",
    "chain_group = (chain_rest.groupby(by = 'object_name_new')\n",
    "    .agg({'id' : 'nunique', 'number' : 'mean'}).reset_index())\n",
    "\n",
    "print('Количество уникальных значений:', len(chain_group['object_name_new'].unique()))\n",
    "print('Количество единичных заведений:', len(chain_group.query('id == 1')))"
   ]
  },
  {
   "cell_type": "markdown",
   "metadata": {},
   "source": [
    "Чтож, вместо 724 первоначальных, мы получили куда более скромные 395 сетей (из которых только 192 имеют одно заведение). Такие данные куда больше подойдут для анализа.\n",
    "\n",
    "В контексте поставленного вопроса, сети, в которых определилось лишь одно заведение, нам не подайдут: у них заведомо мало заведений (которые мы, вероятно, недочистили). А значит отвечать на поставленный вопрос мы будем по тем сетям, где уже можно оценить количество работающих точек."
   ]
  },
  {
   "cell_type": "code",
   "execution_count": 24,
   "metadata": {},
   "outputs": [],
   "source": [
    "chain_result = chain_group.query('id > 1')"
   ]
  },
  {
   "cell_type": "markdown",
   "metadata": {},
   "source": [
    "Получив данные, посмотрим распределения количества заведений и установленных в них мест для посетителей."
   ]
  },
  {
   "cell_type": "code",
   "execution_count": 25,
   "metadata": {},
   "outputs": [],
   "source": [
    "#автоматизируем вывод графика\n",
    "\n",
    "def hist_show(line, title, bins):\n",
    "    \"\"\"рисует прекрасные зеленые гистограмы\"\"\"\n",
    "    \n",
    "    fig, ax = plt.subplots(figsize=(10, 4)) #зададим размер\n",
    "    sns.set_context('talk') #зададим тип фона в общем стиле\n",
    "    ax = plt.hist(line, bins = bins, color = 'green', alpha = 0.4, range = (0, 100)) #ограничение оси, чтобы выглядело красивше\n",
    "    plt.title(title) #создадим титл\n",
    "    plt.grid(color='gray', linestyle='--', linewidth=0.2)\n",
    "    \n",
    "    plt.show()\n",
    "    print('Медианное значение:', line.median()) #заодно напечатаем важные для распределений параметры"
   ]
  },
  {
   "cell_type": "code",
   "execution_count": 26,
   "metadata": {},
   "outputs": [
    {
     "data": {
      "image/png": "[encoded data removed]",
      "text/plain": [
       "<Figure size 720x288 with 1 Axes>"
      ]
     },
     "metadata": {
      "needs_background": "light"
     },
     "output_type": "display_data"
    },
    {
     "name": "stdout",
     "output_type": "stream",
     "text": [
      "Медианное значение: 4.0\n"
     ]
    }
   ],
   "source": [
    "hist_show(chain_result['id'], 'Количество заведений в сети', 10)"
   ]
  },
  {
   "cell_type": "markdown",
   "metadata": {},
   "source": [
    "Как видно из графика, большинство заведений имеют малое количество точек. Поробуем проанализировать сети, в которых больше 3 заведений (возможно дубляжи дают о себе знать)"
   ]
  },
  {
   "cell_type": "code",
   "execution_count": 27,
   "metadata": {},
   "outputs": [
    {
     "data": {
      "image/png": "[encoded data removed]",
      "text/plain": [
       "<Figure size 720x288 with 1 Axes>"
      ]
     },
     "metadata": {
      "needs_background": "light"
     },
     "output_type": "display_data"
    },
    {
     "name": "stdout",
     "output_type": "stream",
     "text": [
      "Медианное значение: 9.0\n"
     ]
    }
   ],
   "source": [
    "chain_result_2 = chain_group.query('id > 3')\n",
    "hist_show(chain_result_2['id'], 'Количество заведений в сети', 20)"
   ]
  },
  {
   "cell_type": "markdown",
   "metadata": {},
   "source": [
    "Теперь явно задвоения названий меньше влияют на результат (об этом говорит возросшая медиана, которая перестала совпалать с ограничительным значением). Таким образом выходит, что в среднем для сети характерно около 6 заведений. Продолжим и дальше работать с \"обрезанной\" таблицей - посмотрим количество посадочных мест сети."
   ]
  },
  {
   "cell_type": "code",
   "execution_count": 28,
   "metadata": {},
   "outputs": [
    {
     "data": {
      "image/png": "[encoded data removed]",
      "text/plain": [
       "<Figure size 720x288 with 1 Axes>"
      ]
     },
     "metadata": {
      "needs_background": "light"
     },
     "output_type": "display_data"
    },
    {
     "name": "stdout",
     "output_type": "stream",
     "text": [
      "Медианное значение: 38.2\n"
     ]
    }
   ],
   "source": [
    "hist_show(chain_result_2['number'], 'Количество посадочных мест в заведении', 30)"
   ]
  },
  {
   "cell_type": "markdown",
   "metadata": {},
   "source": [
    "Большая часть сетевых заведений имеет до 50 пасадочных мест. Выходит, что большинство сетей имеют сравнительно небольшое количество точек, расположенных в помещениях, вмещяющих не более 50 человек. Важно еще взглянуть на то, как эти цифры распределяются в выбранном нами формате заведения: кафе. Посмотрим, что выйдет из этого."
   ]
  },
  {
   "cell_type": "code",
   "execution_count": 29,
   "metadata": {},
   "outputs": [],
   "source": [
    "#создадим срез данных\n",
    "chain_rest_cafe = chain_rest.query('object_type == \"кафе\"')\n",
    "\n",
    "#снова сгруппируем данные, чтобы проверить результат по новому столбцу\n",
    "chain_group_cafe = (chain_rest_cafe.groupby(by = 'object_name_new')\n",
    "    .agg({'id' : 'nunique', 'number' : 'mean'}).reset_index())\n",
    "\n",
    "#оставим за пределами слишком малое количество заведений. \n",
    "chain_cafe = chain_group_cafe.query('id > 1')"
   ]
  },
  {
   "cell_type": "code",
   "execution_count": 30,
   "metadata": {},
   "outputs": [
    {
     "data": {
      "image/png": "[encoded data removed]",
      "text/plain": [
       "<Figure size 720x288 with 1 Axes>"
      ]
     },
     "metadata": {
      "needs_background": "light"
     },
     "output_type": "display_data"
    },
    {
     "name": "stdout",
     "output_type": "stream",
     "text": [
      "Медианное значение: 4.0\n"
     ]
    }
   ],
   "source": [
    "#Выведем результаты на печать\n",
    "hist_show(chain_cafe['id'], 'Количество заведений в сети (кафе)', 30)"
   ]
  },
  {
   "cell_type": "code",
   "execution_count": 31,
   "metadata": {},
   "outputs": [
    {
     "data": {
      "image/png": "[encoded data removed]",
      "text/plain": [
       "<Figure size 720x288 with 1 Axes>"
      ]
     },
     "metadata": {
      "needs_background": "light"
     },
     "output_type": "display_data"
    },
    {
     "name": "stdout",
     "output_type": "stream",
     "text": [
      "Медианное значение: 35.0\n"
     ]
    }
   ],
   "source": [
    "#Выведем результаты на печать\n",
    "hist_show(chain_cafe['number'], 'Количество посадочных мест в заведении (кафе)', 30)"
   ]
  },
  {
   "cell_type": "markdown",
   "metadata": {},
   "source": [
    "Чтож, выходит что большинство сетевых кафе -представители маленьких сеток с малой вместимостью, около 35 человеко-мест. Выходит, что для нашего проекта они вряд ли представят сербезную угрозу (кроме стоимости блюд)."
   ]
  },
  {
   "cell_type": "markdown",
   "metadata": {},
   "source": [
    "---\n",
    "\n",
    "### Комментарий наставника\n",
    "\n",
    "Вроде бы, со вместимостью ещё не решились, но могу с тобой согласиться, что иной формат заведения может отбросить сетевиков, как прямых конкурентов\n",
    "\n",
    "---"
   ]
  },
  {
   "cell_type": "markdown",
   "metadata": {},
   "source": [
    "#### 6. Среднее количество посадочных мест. Влияние вида заведения."
   ]
  },
  {
   "cell_type": "markdown",
   "metadata": {},
   "source": [
    "Теперь же посмотрим на количество мест во всех объектах, в зависимости лишь от типа заведения. Для этого вновь сгруппируем данные, как делали несколько шагов выше."
   ]
  },
  {
   "cell_type": "code",
   "execution_count": 32,
   "metadata": {},
   "outputs": [
    {
     "data": {
      "image/png": "[encoded data removed]",
      "text/plain": [
       "<Figure size 1512x720 with 1 Axes>"
      ]
     },
     "metadata": {
      "needs_background": "light"
     },
     "output_type": "display_data"
    }
   ],
   "source": [
    "#группировка по типу объекта, с подсчетом среднего количества посадочных мест\n",
    "group_type_num = rest_data.groupby('object_type').agg({'number' : 'median'}).reset_index().sort_values(by = 'number')\n",
    "\n",
    "#выведем на печать\n",
    "show_horizontal_bar(group_type_num['number'], group_type_num['object_type'], (21, 10), 0.4, \n",
    "                    'Количество посадочных мест по типу заведения')"
   ]
  },
  {
   "cell_type": "markdown",
   "metadata": {},
   "source": [
    "Больше всего людей размещают столовые, что и вполне закономерно, учитывая формат данных заведений. Для нашего формата обслуживания, вероятно, потребуется большое пространство, ведь надо не только желающую хлеба и зрелищ публику рассадить, но и оставить пространство для работы (и обслуживания их работы) роботов. Посмотрим, как распределено количество мест исключительно в кафе (без деление на сеть и нет). Возможно это поможет принять решение о том, как много людей стоит размещать нам."
   ]
  },
  {
   "cell_type": "code",
   "execution_count": 33,
   "metadata": {},
   "outputs": [
    {
     "data": {
      "image/png": "[encoded data removed]",
      "text/plain": [
       "<Figure size 720x288 with 1 Axes>"
      ]
     },
     "metadata": {
      "needs_background": "light"
     },
     "output_type": "display_data"
    },
    {
     "name": "stdout",
     "output_type": "stream",
     "text": [
      "Медианное значение: 30.0\n"
     ]
    }
   ],
   "source": [
    "#формируем срез данных\n",
    "rest_data_cafe = rest_data.query('object_type == \"кафе\"')\n",
    "\n",
    "#выводим на печать \n",
    "hist_show(rest_data_cafe['number'], 'Количество посадочных мест в заведении (кафе)', 30)"
   ]
  },
  {
   "cell_type": "markdown",
   "metadata": {},
   "source": [
    "Для больших кафе тоже есть место на рынке (пусть это больше напоминает выбросы), но преобладают небольшие, уютные (наверное) заведения, которые проще контролировать."
   ]
  },
  {
   "cell_type": "markdown",
   "metadata": {},
   "source": [
    "---\n",
    "\n",
    "### Комментарий наставника\n",
    "\n",
    "Не всё выбросы, потому что сравнительно немало заведений имеют вместимость в сотню.\n",
    "\n",
    "А идея рабочих зон вполне себе интересная, и может \"бомбануть\"\n",
    "\n",
    "---"
   ]
  },
  {
   "cell_type": "markdown",
   "metadata": {},
   "source": [
    "#### 7. Топ-10 улиц по количеству заведений\n"
   ]
  },
  {
   "cell_type": "markdown",
   "metadata": {},
   "source": [
    "Для ответа на вопрос \"Какие улицы являются популярными для открытия кафе\", выделим из нашей таблицы отдельный столбец с наименованием улицы."
   ]
  },
  {
   "cell_type": "code",
   "execution_count": 34,
   "metadata": {},
   "outputs": [
    {
     "data": {
      "text/html": [
       "<div>\n",
       "<style scoped>\n",
       "    .dataframe tbody tr th:only-of-type {\n",
       "        vertical-align: middle;\n",
       "    }\n",
       "\n",
       "    .dataframe tbody tr th {\n",
       "        vertical-align: top;\n",
       "    }\n",
       "\n",
       "    .dataframe thead th {\n",
       "        text-align: right;\n",
       "    }\n",
       "</style>\n",
       "<table border=\"1\" class=\"dataframe\">\n",
       "  <thead>\n",
       "    <tr style=\"text-align: right;\">\n",
       "      <th></th>\n",
       "      <th>street</th>\n",
       "      <th>id</th>\n",
       "    </tr>\n",
       "  </thead>\n",
       "  <tbody>\n",
       "    <tr>\n",
       "      <td>0</td>\n",
       "      <td>город зеленоград</td>\n",
       "      <td>232</td>\n",
       "    </tr>\n",
       "    <tr>\n",
       "      <td>1</td>\n",
       "      <td>проспект мира</td>\n",
       "      <td>204</td>\n",
       "    </tr>\n",
       "    <tr>\n",
       "      <td>2</td>\n",
       "      <td>профсоюзная улица</td>\n",
       "      <td>182</td>\n",
       "    </tr>\n",
       "    <tr>\n",
       "      <td>3</td>\n",
       "      <td>ленинградский проспект</td>\n",
       "      <td>171</td>\n",
       "    </tr>\n",
       "    <tr>\n",
       "      <td>4</td>\n",
       "      <td>пресненская набережная</td>\n",
       "      <td>167</td>\n",
       "    </tr>\n",
       "    <tr>\n",
       "      <td>5</td>\n",
       "      <td>варшавское шоссе</td>\n",
       "      <td>161</td>\n",
       "    </tr>\n",
       "    <tr>\n",
       "      <td>6</td>\n",
       "      <td>ленинский проспект</td>\n",
       "      <td>147</td>\n",
       "    </tr>\n",
       "    <tr>\n",
       "      <td>7</td>\n",
       "      <td>поселение сосенское</td>\n",
       "      <td>138</td>\n",
       "    </tr>\n",
       "    <tr>\n",
       "      <td>8</td>\n",
       "      <td>проспект вернадского</td>\n",
       "      <td>132</td>\n",
       "    </tr>\n",
       "    <tr>\n",
       "      <td>9</td>\n",
       "      <td>кутузовский проспект</td>\n",
       "      <td>114</td>\n",
       "    </tr>\n",
       "  </tbody>\n",
       "</table>\n",
       "</div>"
      ],
      "text/plain": [
       "                    street   id\n",
       "0         город зеленоград  232\n",
       "1            проспект мира  204\n",
       "2        профсоюзная улица  182\n",
       "3   ленинградский проспект  171\n",
       "4   пресненская набережная  167\n",
       "5         варшавское шоссе  161\n",
       "6       ленинский проспект  147\n",
       "7      поселение сосенское  138\n",
       "8     проспект вернадского  132\n",
       "9     кутузовский проспект  114"
      ]
     },
     "execution_count": 34,
     "metadata": {},
     "output_type": "execute_result"
    }
   ],
   "source": [
    "#лямсбла функция забирает все после второй встреченной запятой, а после роняет заглавные буквы\n",
    "rest_data['street'] = rest_data['address'].apply(lambda x: x.split(',')[1]).str.lower()\n",
    "\n",
    "#сгруппируем данные по улице, чтобы оценить результат работы функции\n",
    "group_street = rest_data.groupby('street')['id'].count().sort_values(ascending = False).reset_index()\n",
    "group_street.head(10)"
   ]
  },
  {
   "cell_type": "markdown",
   "metadata": {},
   "source": [
    "Учитывая сложность административного устройства города Москвы, а именно нахождение внутри столицы небольших поселений, наша функция не совсем корректно выделила в топ Зеленоград и поселение Соснское - наименования улиц отвалились за пределы. Попробуем понять, сможем ли мы работать с Зеленоградом и поселением Сосенским (и проч.). Для этого найдем догрузим данные из открытых источников (заодно определим районы)."
   ]
  },
  {
   "cell_type": "markdown",
   "metadata": {},
   "source": [
    "---\n",
    "\n",
    "### Комментарий наставника\n",
    "\n",
    "Ты же планируешь открывать заведение в Москве, и это было бы корректно. Ноу-хау притянет и жителей области, а вот с Москвы в область вряд ли\n",
    "\n",
    "---"
   ]
  },
  {
   "cell_type": "code",
   "execution_count": 48,
   "metadata": {},
   "outputs": [],
   "source": [
    "#Добавим таблицу со всеми адресами Москвы (с открытого портала Москвы скачал  датасет в экселе\n",
    "#и сократил его неприлично большой вес \"руками\")\n",
    "\n",
    "vse_mkd = pd.read_excel('data-29580-2019-11-09.xlsx')\n",
    "vse_mkd.columns = ['address', 'area', 'village', 'street_city']\n"
   ]
  },
  {
   "cell_type": "code",
   "execution_count": 49,
   "metadata": {},
   "outputs": [
    {
     "data": {
      "text/html": [
       "<div>\n",
       "<style scoped>\n",
       "    .dataframe tbody tr th:only-of-type {\n",
       "        vertical-align: middle;\n",
       "    }\n",
       "\n",
       "    .dataframe tbody tr th {\n",
       "        vertical-align: top;\n",
       "    }\n",
       "\n",
       "    .dataframe thead th {\n",
       "        text-align: right;\n",
       "    }\n",
       "</style>\n",
       "<table border=\"1\" class=\"dataframe\">\n",
       "  <thead>\n",
       "    <tr style=\"text-align: right;\">\n",
       "      <th></th>\n",
       "      <th>address</th>\n",
       "      <th>area</th>\n",
       "      <th>village</th>\n",
       "      <th>street_city</th>\n",
       "    </tr>\n",
       "  </thead>\n",
       "  <tbody>\n",
       "    <tr>\n",
       "      <td>0</td>\n",
       "      <td>город Москва, Варшавское шоссе, дом 150, строе...</td>\n",
       "      <td>муниципальный округ Чертаново Южное</td>\n",
       "      <td>NaN</td>\n",
       "      <td>Варшавское шоссе</td>\n",
       "    </tr>\n",
       "    <tr>\n",
       "      <td>1</td>\n",
       "      <td>город Москва, Косинская улица, дом 26А</td>\n",
       "      <td>муниципальный округ Вешняки</td>\n",
       "      <td>NaN</td>\n",
       "      <td>Косинская улица</td>\n",
       "    </tr>\n",
       "    <tr>\n",
       "      <td>2</td>\n",
       "      <td>город Москва, Гороховский переулок, дом 21</td>\n",
       "      <td>муниципальный округ Басманный</td>\n",
       "      <td>NaN</td>\n",
       "      <td>Гороховский переулок</td>\n",
       "    </tr>\n",
       "    <tr>\n",
       "      <td>3</td>\n",
       "      <td>город Москва, Тагильская улица, дом 4, строени...</td>\n",
       "      <td>муниципальный округ Метрогородок</td>\n",
       "      <td>NaN</td>\n",
       "      <td>Тагильская улица</td>\n",
       "    </tr>\n",
       "    <tr>\n",
       "      <td>4</td>\n",
       "      <td>город Москва, Ленинградский проспект, дом 73А,...</td>\n",
       "      <td>муниципальный округ Сокол</td>\n",
       "      <td>NaN</td>\n",
       "      <td>Ленинградский проспект</td>\n",
       "    </tr>\n",
       "  </tbody>\n",
       "</table>\n",
       "</div>"
      ],
      "text/plain": [
       "                                             address  \\\n",
       "0  город Москва, Варшавское шоссе, дом 150, строе...   \n",
       "1             город Москва, Косинская улица, дом 26А   \n",
       "2         город Москва, Гороховский переулок, дом 21   \n",
       "3  город Москва, Тагильская улица, дом 4, строени...   \n",
       "4  город Москва, Ленинградский проспект, дом 73А,...   \n",
       "\n",
       "                                  area village             street_city  \n",
       "0  муниципальный округ Чертаново Южное     NaN        Варшавское шоссе  \n",
       "1          муниципальный округ Вешняки     NaN         Косинская улица  \n",
       "2        муниципальный округ Басманный     NaN    Гороховский переулок  \n",
       "3     муниципальный округ Метрогородок     NaN        Тагильская улица  \n",
       "4            муниципальный округ Сокол     NaN  Ленинградский проспект  "
      ]
     },
     "execution_count": 49,
     "metadata": {},
     "output_type": "execute_result"
    }
   ],
   "source": [
    "vse_mkd.head()"
   ]
  },
  {
   "cell_type": "code",
   "execution_count": 50,
   "metadata": {},
   "outputs": [
    {
     "data": {
      "text/html": [
       "<div>\n",
       "<style scoped>\n",
       "    .dataframe tbody tr th:only-of-type {\n",
       "        vertical-align: middle;\n",
       "    }\n",
       "\n",
       "    .dataframe tbody tr th {\n",
       "        vertical-align: top;\n",
       "    }\n",
       "\n",
       "    .dataframe thead th {\n",
       "        text-align: right;\n",
       "    }\n",
       "</style>\n",
       "<table border=\"1\" class=\"dataframe\">\n",
       "  <thead>\n",
       "    <tr style=\"text-align: right;\">\n",
       "      <th></th>\n",
       "      <th>id</th>\n",
       "      <th>object_name</th>\n",
       "      <th>chain</th>\n",
       "      <th>object_type</th>\n",
       "      <th>address</th>\n",
       "      <th>number</th>\n",
       "      <th>street</th>\n",
       "      <th>area</th>\n",
       "      <th>village</th>\n",
       "      <th>street_city</th>\n",
       "    </tr>\n",
       "  </thead>\n",
       "  <tbody>\n",
       "    <tr>\n",
       "      <td>860</td>\n",
       "      <td>23601</td>\n",
       "      <td>Буфет - ГБОУ СОШ № 64</td>\n",
       "      <td>нет</td>\n",
       "      <td>буфет</td>\n",
       "      <td>Партизанская улица, дом 30</td>\n",
       "      <td>100</td>\n",
       "      <td>дом 30</td>\n",
       "      <td>NaN</td>\n",
       "      <td>NaN</td>\n",
       "      <td>NaN</td>\n",
       "    </tr>\n",
       "    <tr>\n",
       "      <td>861</td>\n",
       "      <td>23604</td>\n",
       "      <td>Буфет - ГБОУ 60</td>\n",
       "      <td>нет</td>\n",
       "      <td>буфет</td>\n",
       "      <td>Партизанская улица, дом 30</td>\n",
       "      <td>100</td>\n",
       "      <td>дом 30</td>\n",
       "      <td>NaN</td>\n",
       "      <td>NaN</td>\n",
       "      <td>NaN</td>\n",
       "    </tr>\n",
       "    <tr>\n",
       "      <td>1493</td>\n",
       "      <td>25349</td>\n",
       "      <td>Ресторан «Гранатовый сад»</td>\n",
       "      <td>нет</td>\n",
       "      <td>ресторан</td>\n",
       "      <td>Поречная улица, дом 5/14, строение 1</td>\n",
       "      <td>40</td>\n",
       "      <td>дом 5/14</td>\n",
       "      <td>NaN</td>\n",
       "      <td>NaN</td>\n",
       "      <td>NaN</td>\n",
       "    </tr>\n",
       "    <tr>\n",
       "      <td>1860</td>\n",
       "      <td>77651</td>\n",
       "      <td>Щербенко Л.А.</td>\n",
       "      <td>нет</td>\n",
       "      <td>кафе</td>\n",
       "      <td>город Москва, поселение Вороновское, село Воро...</td>\n",
       "      <td>50</td>\n",
       "      <td>поселение вороновское</td>\n",
       "      <td>NaN</td>\n",
       "      <td>село Вороново</td>\n",
       "      <td>NaN</td>\n",
       "    </tr>\n",
       "    <tr>\n",
       "      <td>1861</td>\n",
       "      <td>128021</td>\n",
       "      <td>Кафе «Мама МИА»</td>\n",
       "      <td>нет</td>\n",
       "      <td>кафе</td>\n",
       "      <td>город Москва, поселение Внуковское, улица Лётч...</td>\n",
       "      <td>12</td>\n",
       "      <td>поселение внуковское</td>\n",
       "      <td>NaN</td>\n",
       "      <td>NaN</td>\n",
       "      <td>улица Лётчика Ульянина</td>\n",
       "    </tr>\n",
       "    <tr>\n",
       "      <td>1862</td>\n",
       "      <td>120299</td>\n",
       "      <td>Пиццерия</td>\n",
       "      <td>нет</td>\n",
       "      <td>кафе</td>\n",
       "      <td>город Москва, поселение Внуковское, улица Лётч...</td>\n",
       "      <td>24</td>\n",
       "      <td>поселение внуковское</td>\n",
       "      <td>NaN</td>\n",
       "      <td>NaN</td>\n",
       "      <td>улица Лётчика Ульянина</td>\n",
       "    </tr>\n",
       "    <tr>\n",
       "      <td>1863</td>\n",
       "      <td>125246</td>\n",
       "      <td>Суши Wok</td>\n",
       "      <td>да</td>\n",
       "      <td>кафе</td>\n",
       "      <td>город Москва, поселение Внуковское, улица Лётч...</td>\n",
       "      <td>5</td>\n",
       "      <td>поселение внуковское</td>\n",
       "      <td>NaN</td>\n",
       "      <td>NaN</td>\n",
       "      <td>улица Лётчика Ульянина</td>\n",
       "    </tr>\n",
       "  </tbody>\n",
       "</table>\n",
       "</div>"
      ],
      "text/plain": [
       "          id                object_name chain object_type  \\\n",
       "860    23601      Буфет - ГБОУ СОШ № 64   нет       буфет   \n",
       "861    23604            Буфет - ГБОУ 60   нет       буфет   \n",
       "1493   25349  Ресторан «Гранатовый сад»   нет    ресторан   \n",
       "1860   77651              Щербенко Л.А.   нет        кафе   \n",
       "1861  128021            Кафе «Мама МИА»   нет        кафе   \n",
       "1862  120299                   Пиццерия   нет        кафе   \n",
       "1863  125246                   Суши Wok    да        кафе   \n",
       "\n",
       "                                                address  number  \\\n",
       "860                          Партизанская улица, дом 30     100   \n",
       "861                          Партизанская улица, дом 30     100   \n",
       "1493               Поречная улица, дом 5/14, строение 1      40   \n",
       "1860  город Москва, поселение Вороновское, село Воро...      50   \n",
       "1861  город Москва, поселение Внуковское, улица Лётч...      12   \n",
       "1862  город Москва, поселение Внуковское, улица Лётч...      24   \n",
       "1863  город Москва, поселение Внуковское, улица Лётч...       5   \n",
       "\n",
       "                      street area        village             street_city  \n",
       "860                   дом 30  NaN            NaN                     NaN  \n",
       "861                   дом 30  NaN            NaN                     NaN  \n",
       "1493                дом 5/14  NaN            NaN                     NaN  \n",
       "1860   поселение вороновское  NaN  село Вороново                     NaN  \n",
       "1861    поселение внуковское  NaN            NaN  улица Лётчика Ульянина  \n",
       "1862    поселение внуковское  NaN            NaN  улица Лётчика Ульянина  \n",
       "1863    поселение внуковское  NaN            NaN  улица Лётчика Ульянина  "
      ]
     },
     "execution_count": 50,
     "metadata": {},
     "output_type": "execute_result"
    }
   ],
   "source": [
    "#смержим нашу аблице с ресторанами и таблицу с районами\n",
    "rest_data_new =  rest_data.merge(vse_mkd, how = 'left')\n",
    "\n",
    "#посмотрим, что не прогрузилось\n",
    "test_null = rest_data_new.query('area.isnull()')\n",
    "test_null.head(7)"
   ]
  },
  {
   "cell_type": "markdown",
   "metadata": {},
   "source": [
    "В городской базе данных отсутствуют наименования некоторых районов. Это связано с тем, что территориальное устройство ТИНАО (так называемая \"Новая Москва\", на территории которой находятся такие поселения, как Внуковское (таких \"районов\" всего 21)) не подразумевает районное деление. Таким образом мы из столбца \"village\" можем подтянуть данные в столбец с районами, если детальная информация отсутствует+"
   ]
  },
  {
   "cell_type": "code",
   "execution_count": 42,
   "metadata": {},
   "outputs": [
    {
     "data": {
      "text/html": [
       "<div>\n",
       "<style scoped>\n",
       "    .dataframe tbody tr th:only-of-type {\n",
       "        vertical-align: middle;\n",
       "    }\n",
       "\n",
       "    .dataframe tbody tr th {\n",
       "        vertical-align: top;\n",
       "    }\n",
       "\n",
       "    .dataframe thead th {\n",
       "        text-align: right;\n",
       "    }\n",
       "</style>\n",
       "<table border=\"1\" class=\"dataframe\">\n",
       "  <thead>\n",
       "    <tr style=\"text-align: right;\">\n",
       "      <th></th>\n",
       "      <th>id</th>\n",
       "      <th>object_name</th>\n",
       "      <th>chain</th>\n",
       "      <th>object_type</th>\n",
       "      <th>address</th>\n",
       "      <th>number</th>\n",
       "      <th>street</th>\n",
       "      <th>area</th>\n",
       "      <th>village</th>\n",
       "      <th>street_city</th>\n",
       "    </tr>\n",
       "  </thead>\n",
       "  <tbody>\n",
       "    <tr>\n",
       "      <td>860</td>\n",
       "      <td>23601</td>\n",
       "      <td>Буфет - ГБОУ СОШ № 64</td>\n",
       "      <td>нет</td>\n",
       "      <td>буфет</td>\n",
       "      <td>Партизанская улица, дом 30</td>\n",
       "      <td>100</td>\n",
       "      <td>дом 30</td>\n",
       "      <td>NaN</td>\n",
       "      <td>NaN</td>\n",
       "      <td>NaN</td>\n",
       "    </tr>\n",
       "    <tr>\n",
       "      <td>861</td>\n",
       "      <td>23604</td>\n",
       "      <td>Буфет - ГБОУ 60</td>\n",
       "      <td>нет</td>\n",
       "      <td>буфет</td>\n",
       "      <td>Партизанская улица, дом 30</td>\n",
       "      <td>100</td>\n",
       "      <td>дом 30</td>\n",
       "      <td>NaN</td>\n",
       "      <td>NaN</td>\n",
       "      <td>NaN</td>\n",
       "    </tr>\n",
       "    <tr>\n",
       "      <td>1493</td>\n",
       "      <td>25349</td>\n",
       "      <td>Ресторан «Гранатовый сад»</td>\n",
       "      <td>нет</td>\n",
       "      <td>ресторан</td>\n",
       "      <td>Поречная улица, дом 5/14, строение 1</td>\n",
       "      <td>40</td>\n",
       "      <td>дом 5/14</td>\n",
       "      <td>NaN</td>\n",
       "      <td>NaN</td>\n",
       "      <td>NaN</td>\n",
       "    </tr>\n",
       "    <tr>\n",
       "      <td>1861</td>\n",
       "      <td>128021</td>\n",
       "      <td>Кафе «Мама МИА»</td>\n",
       "      <td>нет</td>\n",
       "      <td>кафе</td>\n",
       "      <td>город Москва, поселение Внуковское, улица Лётч...</td>\n",
       "      <td>12</td>\n",
       "      <td>поселение внуковское</td>\n",
       "      <td>NaN</td>\n",
       "      <td>NaN</td>\n",
       "      <td>улица Лётчика Ульянина</td>\n",
       "    </tr>\n",
       "    <tr>\n",
       "      <td>1862</td>\n",
       "      <td>120299</td>\n",
       "      <td>Пиццерия</td>\n",
       "      <td>нет</td>\n",
       "      <td>кафе</td>\n",
       "      <td>город Москва, поселение Внуковское, улица Лётч...</td>\n",
       "      <td>24</td>\n",
       "      <td>поселение внуковское</td>\n",
       "      <td>NaN</td>\n",
       "      <td>NaN</td>\n",
       "      <td>улица Лётчика Ульянина</td>\n",
       "    </tr>\n",
       "  </tbody>\n",
       "</table>\n",
       "</div>"
      ],
      "text/plain": [
       "          id                object_name chain object_type  \\\n",
       "860    23601      Буфет - ГБОУ СОШ № 64   нет       буфет   \n",
       "861    23604            Буфет - ГБОУ 60   нет       буфет   \n",
       "1493   25349  Ресторан «Гранатовый сад»   нет    ресторан   \n",
       "1861  128021            Кафе «Мама МИА»   нет        кафе   \n",
       "1862  120299                   Пиццерия   нет        кафе   \n",
       "\n",
       "                                                address  number  \\\n",
       "860                          Партизанская улица, дом 30     100   \n",
       "861                          Партизанская улица, дом 30     100   \n",
       "1493               Поречная улица, дом 5/14, строение 1      40   \n",
       "1861  город Москва, поселение Внуковское, улица Лётч...      12   \n",
       "1862  город Москва, поселение Внуковское, улица Лётч...      24   \n",
       "\n",
       "                     street area village             street_city  \n",
       "860                  дом 30  NaN     NaN                     NaN  \n",
       "861                  дом 30  NaN     NaN                     NaN  \n",
       "1493               дом 5/14  NaN     NaN                     NaN  \n",
       "1861   поселение внуковское  NaN     NaN  улица Лётчика Ульянина  \n",
       "1862   поселение внуковское  NaN     NaN  улица Лётчика Ульянина  "
      ]
     },
     "execution_count": 42,
     "metadata": {},
     "output_type": "execute_result"
    }
   ],
   "source": [
    "rest_data_new['area'] = rest_data_new['area'].fillna(rest_data_new['village'])\n",
    "test_null_2 = rest_data_new.query('area.isnull()')\n",
    "test_null_2.head()"
   ]
  },
  {
   "cell_type": "markdown",
   "metadata": {},
   "source": [
    "Следуя дальше по той же логике, мы видим, что районы все еще отсутствуют для некоторых поселений, а также для строк, адрес которых некорректно (без указания города) был внесен в таблицу. Посмотрим, как много адресов не опредлеилось вообще и решим, что сделать с ними."
   ]
  },
  {
   "cell_type": "code",
   "execution_count": 43,
   "metadata": {},
   "outputs": [
    {
     "data": {
      "text/plain": [
       "89"
      ]
     },
     "execution_count": 43,
     "metadata": {},
     "output_type": "execute_result"
    }
   ],
   "source": [
    "test_null_3 = rest_data_new.query('area.isnull() and village.isnull() and street_city.isnull()')['id']\n",
    "len(test_null_3)"
   ]
  },
  {
   "cell_type": "markdown",
   "metadata": {},
   "source": [
    "Всего 89 адресов. Чтобы не исказить данные, дропнем их из таблицы."
   ]
  },
  {
   "cell_type": "code",
   "execution_count": 44,
   "metadata": {},
   "outputs": [
    {
     "data": {
      "text/html": [
       "<div>\n",
       "<style scoped>\n",
       "    .dataframe tbody tr th:only-of-type {\n",
       "        vertical-align: middle;\n",
       "    }\n",
       "\n",
       "    .dataframe tbody tr th {\n",
       "        vertical-align: top;\n",
       "    }\n",
       "\n",
       "    .dataframe thead th {\n",
       "        text-align: right;\n",
       "    }\n",
       "</style>\n",
       "<table border=\"1\" class=\"dataframe\">\n",
       "  <thead>\n",
       "    <tr style=\"text-align: right;\">\n",
       "      <th></th>\n",
       "      <th>id</th>\n",
       "      <th>object_name</th>\n",
       "      <th>chain</th>\n",
       "      <th>object_type</th>\n",
       "      <th>address</th>\n",
       "      <th>number</th>\n",
       "      <th>street</th>\n",
       "      <th>area</th>\n",
       "      <th>village</th>\n",
       "      <th>street_city</th>\n",
       "    </tr>\n",
       "  </thead>\n",
       "  <tbody>\n",
       "    <tr>\n",
       "      <td>1861</td>\n",
       "      <td>128021</td>\n",
       "      <td>Кафе «Мама МИА»</td>\n",
       "      <td>нет</td>\n",
       "      <td>кафе</td>\n",
       "      <td>город Москва, поселение Внуковское, улица Лётч...</td>\n",
       "      <td>12</td>\n",
       "      <td>поселение внуковское</td>\n",
       "      <td>NaN</td>\n",
       "      <td>NaN</td>\n",
       "      <td>улица Лётчика Ульянина</td>\n",
       "    </tr>\n",
       "    <tr>\n",
       "      <td>1862</td>\n",
       "      <td>120299</td>\n",
       "      <td>Пиццерия</td>\n",
       "      <td>нет</td>\n",
       "      <td>кафе</td>\n",
       "      <td>город Москва, поселение Внуковское, улица Лётч...</td>\n",
       "      <td>24</td>\n",
       "      <td>поселение внуковское</td>\n",
       "      <td>NaN</td>\n",
       "      <td>NaN</td>\n",
       "      <td>улица Лётчика Ульянина</td>\n",
       "    </tr>\n",
       "    <tr>\n",
       "      <td>1863</td>\n",
       "      <td>125246</td>\n",
       "      <td>Суши Wok</td>\n",
       "      <td>да</td>\n",
       "      <td>кафе</td>\n",
       "      <td>город Москва, поселение Внуковское, улица Лётч...</td>\n",
       "      <td>5</td>\n",
       "      <td>поселение внуковское</td>\n",
       "      <td>NaN</td>\n",
       "      <td>NaN</td>\n",
       "      <td>улица Лётчика Ульянина</td>\n",
       "    </tr>\n",
       "    <tr>\n",
       "      <td>1867</td>\n",
       "      <td>77869</td>\n",
       "      <td>Кафе «Наш бараш»</td>\n",
       "      <td>нет</td>\n",
       "      <td>ресторан</td>\n",
       "      <td>город Москва, поселение Десеновское, Армейская...</td>\n",
       "      <td>60</td>\n",
       "      <td>поселение десеновское</td>\n",
       "      <td>NaN</td>\n",
       "      <td>NaN</td>\n",
       "      <td>Армейская улица</td>\n",
       "    </tr>\n",
       "    <tr>\n",
       "      <td>1869</td>\n",
       "      <td>152560</td>\n",
       "      <td>Мини-пекарня</td>\n",
       "      <td>нет</td>\n",
       "      <td>предприятие быстрого обслуживания</td>\n",
       "      <td>город Москва, город Троицк, микрорайон \"В\", до...</td>\n",
       "      <td>0</td>\n",
       "      <td>город троицк</td>\n",
       "      <td>NaN</td>\n",
       "      <td>NaN</td>\n",
       "      <td>микрорайон \"В\"</td>\n",
       "    </tr>\n",
       "  </tbody>\n",
       "</table>\n",
       "</div>"
      ],
      "text/plain": [
       "          id       object_name chain                        object_type  \\\n",
       "1861  128021   Кафе «Мама МИА»   нет                               кафе   \n",
       "1862  120299          Пиццерия   нет                               кафе   \n",
       "1863  125246          Суши Wok    да                               кафе   \n",
       "1867   77869  Кафе «Наш бараш»   нет                           ресторан   \n",
       "1869  152560      Мини-пекарня   нет  предприятие быстрого обслуживания   \n",
       "\n",
       "                                                address  number  \\\n",
       "1861  город Москва, поселение Внуковское, улица Лётч...      12   \n",
       "1862  город Москва, поселение Внуковское, улица Лётч...      24   \n",
       "1863  город Москва, поселение Внуковское, улица Лётч...       5   \n",
       "1867  город Москва, поселение Десеновское, Армейская...      60   \n",
       "1869  город Москва, город Троицк, микрорайон \"В\", до...       0   \n",
       "\n",
       "                      street area village             street_city  \n",
       "1861    поселение внуковское  NaN     NaN  улица Лётчика Ульянина  \n",
       "1862    поселение внуковское  NaN     NaN  улица Лётчика Ульянина  \n",
       "1863    поселение внуковское  NaN     NaN  улица Лётчика Ульянина  \n",
       "1867   поселение десеновское  NaN     NaN         Армейская улица  \n",
       "1869            город троицк  NaN     NaN          микрорайон \"В\"  "
      ]
     },
     "execution_count": 44,
     "metadata": {},
     "output_type": "execute_result"
    }
   ],
   "source": [
    "rest_data_new = rest_data_new.query('id not in @test_null_3')\n",
    "rest_data_new.query('area.isnull()').head()"
   ]
  },
  {
   "cell_type": "markdown",
   "metadata": {},
   "source": [
    "У нас все еще остались пропуски в столбце \"район\". Но их очень удачно выделила функция, написанная для отделения улицы от адреса несколько пунктов назад. Вот именно на основании ее результатов и заполним оставшиеся пропуски"
   ]
  },
  {
   "cell_type": "code",
   "execution_count": 45,
   "metadata": {},
   "outputs": [
    {
     "data": {
      "text/html": [
       "<div>\n",
       "<style scoped>\n",
       "    .dataframe tbody tr th:only-of-type {\n",
       "        vertical-align: middle;\n",
       "    }\n",
       "\n",
       "    .dataframe tbody tr th {\n",
       "        vertical-align: top;\n",
       "    }\n",
       "\n",
       "    .dataframe thead th {\n",
       "        text-align: right;\n",
       "    }\n",
       "</style>\n",
       "<table border=\"1\" class=\"dataframe\">\n",
       "  <thead>\n",
       "    <tr style=\"text-align: right;\">\n",
       "      <th></th>\n",
       "      <th>id</th>\n",
       "      <th>object_name</th>\n",
       "      <th>chain</th>\n",
       "      <th>object_type</th>\n",
       "      <th>address</th>\n",
       "      <th>number</th>\n",
       "      <th>street</th>\n",
       "      <th>area</th>\n",
       "      <th>village</th>\n",
       "      <th>street_city</th>\n",
       "    </tr>\n",
       "  </thead>\n",
       "  <tbody>\n",
       "    <tr>\n",
       "      <td>0</td>\n",
       "      <td>151635</td>\n",
       "      <td>СМЕТАНА</td>\n",
       "      <td>нет</td>\n",
       "      <td>кафе</td>\n",
       "      <td>город Москва, улица Егора Абакумова, дом 9</td>\n",
       "      <td>48</td>\n",
       "      <td>улица егора абакумова</td>\n",
       "      <td>муниципальный округ Ярославский</td>\n",
       "      <td>NaN</td>\n",
       "      <td>улица Егора Абакумова</td>\n",
       "    </tr>\n",
       "    <tr>\n",
       "      <td>1</td>\n",
       "      <td>77874</td>\n",
       "      <td>Родник</td>\n",
       "      <td>нет</td>\n",
       "      <td>кафе</td>\n",
       "      <td>город Москва, улица Талалихина, дом 2/1, корпус 1</td>\n",
       "      <td>35</td>\n",
       "      <td>улица талалихина</td>\n",
       "      <td>муниципальный округ Таганский</td>\n",
       "      <td>NaN</td>\n",
       "      <td>улица Талалихина</td>\n",
       "    </tr>\n",
       "    <tr>\n",
       "      <td>2</td>\n",
       "      <td>24309</td>\n",
       "      <td>Кафе «Академия»</td>\n",
       "      <td>нет</td>\n",
       "      <td>кафе</td>\n",
       "      <td>город Москва, Абельмановская улица, дом 6</td>\n",
       "      <td>95</td>\n",
       "      <td>абельмановская улица</td>\n",
       "      <td>муниципальный округ Таганский</td>\n",
       "      <td>NaN</td>\n",
       "      <td>Абельмановская улица</td>\n",
       "    </tr>\n",
       "    <tr>\n",
       "      <td>3</td>\n",
       "      <td>21894</td>\n",
       "      <td>ПИЦЦЕТОРИЯ</td>\n",
       "      <td>да</td>\n",
       "      <td>кафе</td>\n",
       "      <td>город Москва, Абрамцевская улица, дом 1</td>\n",
       "      <td>40</td>\n",
       "      <td>абрамцевская улица</td>\n",
       "      <td>муниципальный округ Лианозово</td>\n",
       "      <td>NaN</td>\n",
       "      <td>Абрамцевская улица</td>\n",
       "    </tr>\n",
       "    <tr>\n",
       "      <td>4</td>\n",
       "      <td>119365</td>\n",
       "      <td>Кафе «Вишневая метель»</td>\n",
       "      <td>нет</td>\n",
       "      <td>кафе</td>\n",
       "      <td>город Москва, Абрамцевская улица, дом 9, корпус 1</td>\n",
       "      <td>50</td>\n",
       "      <td>абрамцевская улица</td>\n",
       "      <td>муниципальный округ Лианозово</td>\n",
       "      <td>NaN</td>\n",
       "      <td>Абрамцевская улица</td>\n",
       "    </tr>\n",
       "  </tbody>\n",
       "</table>\n",
       "</div>"
      ],
      "text/plain": [
       "       id             object_name chain object_type  \\\n",
       "0  151635                 СМЕТАНА   нет        кафе   \n",
       "1   77874                  Родник   нет        кафе   \n",
       "2   24309         Кафе «Академия»   нет        кафе   \n",
       "3   21894              ПИЦЦЕТОРИЯ    да        кафе   \n",
       "4  119365  Кафе «Вишневая метель»   нет        кафе   \n",
       "\n",
       "                                             address  number  \\\n",
       "0         город Москва, улица Егора Абакумова, дом 9      48   \n",
       "1  город Москва, улица Талалихина, дом 2/1, корпус 1      35   \n",
       "2          город Москва, Абельмановская улица, дом 6      95   \n",
       "3            город Москва, Абрамцевская улица, дом 1      40   \n",
       "4  город Москва, Абрамцевская улица, дом 9, корпус 1      50   \n",
       "\n",
       "                   street                             area village  \\\n",
       "0   улица егора абакумова  муниципальный округ Ярославский     NaN   \n",
       "1        улица талалихина    муниципальный округ Таганский     NaN   \n",
       "2    абельмановская улица    муниципальный округ Таганский     NaN   \n",
       "3      абрамцевская улица    муниципальный округ Лианозово     NaN   \n",
       "4      абрамцевская улица    муниципальный округ Лианозово     NaN   \n",
       "\n",
       "             street_city  \n",
       "0  улица Егора Абакумова  \n",
       "1       улица Талалихина  \n",
       "2   Абельмановская улица  \n",
       "3     Абрамцевская улица  \n",
       "4     Абрамцевская улица  "
      ]
     },
     "execution_count": 45,
     "metadata": {},
     "output_type": "execute_result"
    }
   ],
   "source": [
    "rest_data_new['area'] = rest_data_new['area'].fillna(rest_data_new['street'])\n",
    "rest_data_new.head()"
   ]
  },
  {
   "cell_type": "markdown",
   "metadata": {},
   "source": [
    "Актуальной проблемой для выявления популярных улиц все еще являются Зеленоград и прочие поселения. Решить данную проблему можно двумя способами. Во-первых, определять популярность улиц, группируя не только по улице, но и по району (этот вариант мне импонирует больше всего) - таким образом мы не будем в одну гребенку собирать проспект Мира на отшибе города (у МКАД) и тот же проспект Мира, но в районе ВДНХ. Второй вариант - использовать наименования улиц, подруженные из городской базы данных. Но в ней имеются пропуски в тем же Зеленограде, где в адресе отсутсвует улица и номер дома, а имеется лишь корпус. Поэтому для определения топ-10 улиц воспользуемся первым вариантом."
   ]
  },
  {
   "cell_type": "code",
   "execution_count": 46,
   "metadata": {},
   "outputs": [
    {
     "data": {
      "text/html": [
       "<div>\n",
       "<style scoped>\n",
       "    .dataframe tbody tr th:only-of-type {\n",
       "        vertical-align: middle;\n",
       "    }\n",
       "\n",
       "    .dataframe tbody tr th {\n",
       "        vertical-align: top;\n",
       "    }\n",
       "\n",
       "    .dataframe thead th {\n",
       "        text-align: right;\n",
       "    }\n",
       "</style>\n",
       "<table border=\"1\" class=\"dataframe\">\n",
       "  <thead>\n",
       "    <tr style=\"text-align: right;\">\n",
       "      <th></th>\n",
       "      <th>area</th>\n",
       "      <th>street_city</th>\n",
       "      <th>id</th>\n",
       "    </tr>\n",
       "  </thead>\n",
       "  <tbody>\n",
       "    <tr>\n",
       "      <td>0</td>\n",
       "      <td>муниципальный округ Пресненский</td>\n",
       "      <td>Пресненская набережная</td>\n",
       "      <td>167</td>\n",
       "    </tr>\n",
       "    <tr>\n",
       "      <td>1</td>\n",
       "      <td>муниципальный округ Хорошевский</td>\n",
       "      <td>Ходынский бульвар</td>\n",
       "      <td>102</td>\n",
       "    </tr>\n",
       "    <tr>\n",
       "      <td>2</td>\n",
       "      <td>муниципальный округ Арбат</td>\n",
       "      <td>улица Новый Арбат</td>\n",
       "      <td>92</td>\n",
       "    </tr>\n",
       "    <tr>\n",
       "      <td>3</td>\n",
       "      <td>муниципальный округ Даниловский</td>\n",
       "      <td>улица Ленинская Слобода</td>\n",
       "      <td>85</td>\n",
       "    </tr>\n",
       "    <tr>\n",
       "      <td>4</td>\n",
       "      <td>муниципальный округ Марьина Роща</td>\n",
       "      <td>улица Сущёвский Вал</td>\n",
       "      <td>82</td>\n",
       "    </tr>\n",
       "    <tr>\n",
       "      <td>5</td>\n",
       "      <td>муниципальный округ Замоскворечье</td>\n",
       "      <td>Пятницкая улица</td>\n",
       "      <td>80</td>\n",
       "    </tr>\n",
       "    <tr>\n",
       "      <td>6</td>\n",
       "      <td>муниципальный округ Чертаново Центральное</td>\n",
       "      <td>Кировоградская улица</td>\n",
       "      <td>79</td>\n",
       "    </tr>\n",
       "    <tr>\n",
       "      <td>7</td>\n",
       "      <td>муниципальный округ Арбат</td>\n",
       "      <td>улица Арбат</td>\n",
       "      <td>77</td>\n",
       "    </tr>\n",
       "    <tr>\n",
       "      <td>8</td>\n",
       "      <td>муниципальный округ Басманный</td>\n",
       "      <td>улица Покровка</td>\n",
       "      <td>77</td>\n",
       "    </tr>\n",
       "    <tr>\n",
       "      <td>9</td>\n",
       "      <td>муниципальный округ Войковский</td>\n",
       "      <td>Ленинградское шоссе</td>\n",
       "      <td>72</td>\n",
       "    </tr>\n",
       "  </tbody>\n",
       "</table>\n",
       "</div>"
      ],
      "text/plain": [
       "                                        area              street_city   id\n",
       "0            муниципальный округ Пресненский   Пресненская набережная  167\n",
       "1            муниципальный округ Хорошевский        Ходынский бульвар  102\n",
       "2                  муниципальный округ Арбат        улица Новый Арбат   92\n",
       "3            муниципальный округ Даниловский  улица Ленинская Слобода   85\n",
       "4           муниципальный округ Марьина Роща      улица Сущёвский Вал   82\n",
       "5          муниципальный округ Замоскворечье          Пятницкая улица   80\n",
       "6  муниципальный округ Чертаново Центральное     Кировоградская улица   79\n",
       "7                  муниципальный округ Арбат              улица Арбат   77\n",
       "8              муниципальный округ Басманный           улица Покровка   77\n",
       "9             муниципальный округ Войковский      Ленинградское шоссе   72"
      ]
     },
     "execution_count": 46,
     "metadata": {},
     "output_type": "execute_result"
    }
   ],
   "source": [
    "top_street = rest_data_new.groupby(['area','street_city'])['id'].count().sort_values(ascending = False).head(10).reset_index()\n",
    "top_street"
   ]
  },
  {
   "cell_type": "markdown",
   "metadata": {},
   "source": [
    "Как мы видим, локации теперь имеют вполне понятную привязку и дают более широкий ответ на вопрос о \"топ-10\" наиболее популярных улиц для открытия ресторана, а заодно и определили районную принадлежность данных улиц. Отобразим результат на графике"
   ]
  },
  {
   "cell_type": "code",
   "execution_count": 47,
   "metadata": {},
   "outputs": [
    {
     "data": {
      "image/png": "[encoded data removed]",
      "text/plain": [
       "<Figure size 1512x720 with 1 Axes>"
      ]
     },
     "metadata": {
      "needs_background": "light"
     },
     "output_type": "display_data"
    }
   ],
   "source": [
    "show_horizontal_bar(top_street['id'], top_street['street_city'], (21, 10), 0.4, \n",
    "                    'Топ-10 улиц по количеству точек общественого питания')"
   ]
  },
  {
   "cell_type": "markdown",
   "metadata": {},
   "source": [
    "В отличии от выборки по всем кафе города, в центре кафе предпочитают размещать больше гостей (в среднем по городу - 30). В нашем случае, когда потребуется пространство для работы современных официантов, которые не должны доставлять своими перемещениями дискомфорт гостям, имеет смысл прислушаться к мнению конкурентов и не размещать более 40 человек за раз. Но и менее тоже не стоит."
   ]
  },
  {
   "cell_type": "markdown",
   "metadata": {},
   "source": [
    "#### 10. Итоговый вывод"
   ]
  },
  {
   "cell_type": "markdown",
   "metadata": {},
   "source": [
    "Учитывая проведенный анализ, можно сформулировать следующие постулаты:\n",
    "\n",
    "исходя из эксклюзивности предложения на рынке заинтересованность со стороны гостей будет (при беглом обзоре сети интренет становится понятно, что никто в Москве пока не вышел с таким заведением на рынок, но это вопрос времени https://www.bbc.com/news/technology-46466531;\n",
    "разместив кафе в одном из популярных районов Москвы (Пресненская набережная - Москва-Сити, Ходынский бульвар - не центр города, но распоожен в притягательном для жителей квартале, Новый Арбат - второе сердце города) мы получим не только большую проходимость, но и спрос со стороны туристических групп, который, при правильном подходе к туроператорам, можно выгодно стабилизировать;\n",
    "стоит отметить, что для такого передового вида кафе, на мой взгляд, идеально подойдет Новый Арбат (по советским меркам более чем хай-течный (см. фото в презентации)), ведь здесь наиболее емкий трафик из жителей района, работающих граждан и толп туристов. Кроме того, чтоит отметить, что в отличии от Пресненской Набережной, где так или иначе сконцентрирован небольшой состоятельный класс населения, на Новом Арбате публика шире, а значит и спрос может быть выше;\n",
    "по своему внутреннему размеру кафе не должно превышать приемлемых 40-50 посадочных мест, что позволит не только не тратиться на аренду больших и простаивающих площадей, но и снизить количество необходимых для работы роботов, ведь чем меньше людей надо обслужить, тем меньше техники необходимо;\n",
    "в случае масштабируемости проекта в сеть, что вполне возможно, подобную модель можно будет легко разместить в упомянтых популярных улицах, так же сохранив число посадочных мест."
   ]
  },
  {
   "cell_type": "markdown",
   "metadata": {},
   "source": [
    "Презентация ссылка  https://yadi.sk/d/f8V2cYAted-NWQ"
   ]
  },
  {
   "cell_type": "markdown",
   "metadata": {},
   "source": [
    "---\n",
    "\n",
    "### Комментарий наставника\n",
    "\n",
    "Поздравляю со сдачей тебя работы :)\n",
    "\n",
    "Ты молодец, получилось занятно, и даже предлагал различные решения, которые заинтересовали бы инвесторов. Вполне возможно, что на основе твоих выводов, они бы загорелись, и предложили бы разумные альтернативы.\n",
    "\n",
    "Отмечу, что мне понравилось то, что ты решил размещать инновационное кафе на Новом Арбате. Согласен, туристам не надоест. Вспомним Black Star Burger.\n",
    "\n",
    "Однако мне не понравилась презентация, и поверь, она вряд ли понравится инвесторам. Не надо в слепую экспортировать ноутбук. Он не совсем презентабелен. Возьми с ноутбука графики, и подготовь презентацию с помощью соответствующих приложений.\n",
    "\n",
    "Доделай это, и я приму работу. Успеха :)\n",
    "\n",
    "---"
   ]
  },
  {
   "cell_type": "markdown",
   "metadata": {},
   "source": [
    "Презентация "
   ]
  },
  {
   "cell_type": "markdown",
   "metadata": {},
   "source": [
    "---\n",
    "\n",
    "### Комментарий наставника\n",
    "\n",
    "Работу принимаю. Молодец.\n",
    "\n",
    "К твоей презентации дам несколько рекомендаций:\n",
    "- Меньше текста\n",
    "- Если текст есть, то он должен быть ёмким. Буквально пару фраз.\n",
    "\n",
    "Помни, что презентацию сопровождает твой доклад, где развернутый текст будет озвучен. Презентация служит визуальным триггером, которая позволит обратить внимание на ключевую информацию, заложенную в тексте.\n",
    "\n",
    "---"
   ]
  }
 ],
 "metadata": {
  "kernelspec": {
   "display_name": "Python 3",
   "language": "python",
   "name": "python3"
  },
  "language_info": {
   "codemirror_mode": {
    "name": "ipython",
    "version": 3
   },
   "file_extension": ".py",
   "mimetype": "text/x-python",
   "name": "python",
   "nbconvert_exporter": "python",
   "pygments_lexer": "ipython3",
   "version": "3.7.3"
  }
 },
 "nbformat": 4,
 "nbformat_minor": 2
}
