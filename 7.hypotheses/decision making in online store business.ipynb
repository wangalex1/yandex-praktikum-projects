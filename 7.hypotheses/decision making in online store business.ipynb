{
 "cells": [
  {
   "cell_type": "markdown",
   "metadata": {
    "deletable": true,
    "editable": true
   },
   "source": [
    "---\n",
    "\n",
    "### Комментарий наставника\n",
    "\n",
    "Привет, Александр! Спасибо за вовремя сданную работу :)\n",
    "\n",
    "Ты оказался передовиком, и сдал всё самый первый. Молодец\n",
    "\n",
    "Работа получилась интересной. Выводы у тебя получились короткими, но лаконичными. Это здорово.\n",
    "\n",
    "Комментариев я также оставил немного, потому что особо добавить мне было нечего. Если возникнут вопросы, - обращайся :)\n",
    "\n",
    "Все комментарии под соответствующими ячейками.\n",
    "\n",
    "---"
   ]
  },
  {
   "cell_type": "markdown",
   "metadata": {
    "deletable": true,
    "editable": true
   },
   "source": [
    "Описание данных"
   ]
  },
  {
   "cell_type": "markdown",
   "metadata": {
    "deletable": true,
    "editable": true
   },
   "source": [
    "#### Данные для первой части"
   ]
  },
  {
   "cell_type": "markdown",
   "metadata": {
    "deletable": true,
    "editable": true
   },
   "source": [
    "Файл hypothesis.csv\n",
    "\n",
    "Hypothesis — краткое описание гипотезы;\n",
    "\n",
    "Reach — охват пользователей по 10-балльной шкале;\n",
    "\n",
    "Impact — влияние на пользователей по 10-балльной шкале;\n",
    "\n",
    "Confidence — уверенность в гипотезе по 10-балльной шкале;\n",
    "\n",
    "Efforts — затраты ресурсов на проверку гипотезы по 10-балльной шкале. Чем больше значение Efforts, тем дороже проверка гипотезы."
   ]
  },
  {
   "cell_type": "markdown",
   "metadata": {
    "deletable": true,
    "editable": true
   },
   "source": [
    "#### Данные для второй части"
   ]
  },
  {
   "cell_type": "markdown",
   "metadata": {
    "deletable": true,
    "editable": true
   },
   "source": [
    "Файл orders.csv\n",
    "\n",
    "transactionId — идентификатор заказа;\n",
    "\n",
    "visitorId — идентификатор пользователя, совершившего заказ;\n",
    "\n",
    "date — дата, когда был совершён заказ;\n",
    "\n",
    "revenue — выручка заказа;\n",
    "\n",
    "group — группа A/B-теста, в которую попал заказ.\n",
    "\n",
    "Файл visitors.csv\n",
    "\n",
    "date — дата;\n",
    "\n",
    "group — группа A/B-теста;\n",
    "\n",
    "visitors — количество пользователей в указанную дату в указанной группе A/B-теста"
   ]
  },
  {
   "cell_type": "markdown",
   "metadata": {
    "deletable": true,
    "editable": true
   },
   "source": [
    "Описание проекта"
   ]
  },
  {
   "cell_type": "markdown",
   "metadata": {
    "deletable": true,
    "editable": true
   },
   "source": [
    "Контекст"
   ]
  },
  {
   "cell_type": "markdown",
   "metadata": {
    "deletable": true,
    "editable": true
   },
   "source": [
    "Вы — аналитик крупного интернет-магазина. Вместе с отделом маркетинга вы подготовили список гипотез для увеличения выручки.\n",
    "Приоритизируйте гипотезы, запустите A/B-тест и проанализируйте результаты."
   ]
  },
  {
   "cell_type": "markdown",
   "metadata": {
    "deletable": true,
    "editable": true
   },
   "source": [
    "#### Часть 1. Приоритизация гипотез."
   ]
  },
  {
   "cell_type": "markdown",
   "metadata": {
    "deletable": true,
    "editable": true
   },
   "source": [
    "В файле hypothesis.csv 9 гипотез по увеличению выручки интернет-магазина \n",
    "\n",
    "с указанными параметрами Reach, Impact, Confidence, Effort."
   ]
  },
  {
   "cell_type": "markdown",
   "metadata": {
    "deletable": true,
    "editable": true
   },
   "source": [
    "#### Задача"
   ]
  },
  {
   "cell_type": "markdown",
   "metadata": {
    "deletable": true,
    "editable": true
   },
   "source": [
    "Примените фреймворк ICE для приоритизации гипотез. Отсортируйте их по убыванию приоритета.\n",
    "\n",
    "Примените фреймворк RICE для приоритизации гипотез. Отсортируйте их по убыванию приоритета.\n",
    "\n",
    "Укажите, как изменилась приоритизация гипотез при применении RICE вместо ICE. Объясните, почему так произошло."
   ]
  },
  {
   "cell_type": "markdown",
   "metadata": {
    "deletable": true,
    "editable": true
   },
   "source": [
    "#### Часть 2. Анализ A/B-теста"
   ]
  },
  {
   "cell_type": "markdown",
   "metadata": {
    "deletable": true,
    "editable": true
   },
   "source": [
    "ы провели A/B-тест и получили результаты, \n",
    "\n",
    "которые описаны в файлах orders.csv и visitors.csv."
   ]
  },
  {
   "cell_type": "markdown",
   "metadata": {
    "deletable": true,
    "editable": true
   },
   "source": [
    "#### Задача"
   ]
  },
  {
   "cell_type": "markdown",
   "metadata": {
    "deletable": true,
    "editable": true
   },
   "source": [
    "Проанализируйте A/B-тест:\n",
    "Постройте график кумулятивной выручки по группам. Сделайте выводы и предположения.\n",
    "\n",
    "Постройте график кумулятивного среднего чека по группам. Сделайте выводы и предположения.\n",
    "\n",
    "Постройте график относительного изменения кумулятивного среднего чека группы B к группе A. Сделайте выводы и предположения.\n",
    "\n",
    "Постройте график кумулятивной конверсии по группам. Сделайте выводы и предположения.\n",
    "\n",
    "Постройте график относительного изменения кумулятивной конверсии группы B к группе A. Сделайте выводы и предположения.\n",
    "\n",
    "Постройте точечный график количества заказов по пользователям. Сделайте выводы и предположения.\n",
    "\n",
    "Посчитайте 95-й и 99-й перцентили количества заказов на пользователя. Выберите границу для определения аномальных пользователей.\n",
    "\n",
    "Постройте точечный график стоимостей заказов. Сделайте выводы и предположения.\n",
    "\n",
    "Посчитайте 95-й и 99-й перцентили стоимости заказов. Выберите границу для определения аномальных заказов.\n",
    "\n",
    "Посчитайте статистическую значимость различий в конверсии между группами по «сырым» данным. Сделайте выводы и предположения.\n",
    "\n",
    "Посчитайте статистическую значимость различий в среднем чеке заказа между группами по «сырым» данным. Сделайте выводы и предположения.\n",
    "\n",
    "Посчитайте статистическую значимость различий в конверсии между группами по «очищенным» данным. Сделайте выводы и предположения.\n",
    "\n",
    "Посчитайте статистическую значимость различий в среднем чеке заказа между группами по «очищенным» данным. Сделайте выводы и предположения.\n",
    "\n",
    "Примите решение по результатам теста и объясните его. Варианты решений:\n",
    "    1. Остановить тест, зафиксировать победу одной из групп.\n",
    "    \n",
    "    2. Остановить тест, зафиксировать отсутствие различий между группами. 3. Продолжить тест."
   ]
  },
  {
   "cell_type": "code",
   "execution_count": 93,
   "metadata": {
    "collapsed": true,
    "deletable": true,
    "editable": true
   },
   "outputs": [],
   "source": [
    "# импортирую необходимые библиотеки\n",
    "import pandas as pd\n",
    "import numpy as np\n",
    "import matplotlib.pyplot as plt\n",
    "import seaborn as sns\n",
    "import datetime as dt\n",
    "import scipy.stats as st\n",
    "import warnings\n",
    "warnings.filterwarnings('ignore')"
   ]
  },
  {
   "cell_type": "code",
   "execution_count": 94,
   "metadata": {
    "collapsed": true,
    "deletable": true,
    "editable": true
   },
   "outputs": [],
   "source": [
    "hypothesis = pd.read_csv('/datasets/hypothesis.csv')\n",
    "orders = pd.read_csv('/datasets/orders.csv')\n",
    "visitors = pd.read_csv('/datasets/visitors.csv')"
   ]
  },
  {
   "cell_type": "code",
   "execution_count": 95,
   "metadata": {
    "collapsed": true,
    "deletable": true,
    "editable": true
   },
   "outputs": [],
   "source": [
    "hypothesis.name = 'hypothesis'\n",
    "orders.name = 'orders'\n",
    "visitors.name = 'visitors'"
   ]
  },
  {
   "cell_type": "code",
   "execution_count": 96,
   "metadata": {
    "collapsed": true,
    "deletable": true,
    "editable": true
   },
   "outputs": [],
   "source": [
    "\n",
    "def information(data):\n",
    "    print('--INFO: ', data.name, '--', sep='')\n",
    "    print()\n",
    "    print('--------------------------------------------------------')\n",
    "    print(data.head(10))\n",
    "    print('--------------------------------------------------------')\n",
    "    print()\n",
    "    print(data.info())"
   ]
  },
  {
   "cell_type": "code",
   "execution_count": 97,
   "metadata": {
    "collapsed": false,
    "deletable": true,
    "editable": true
   },
   "outputs": [
    {
     "name": "stdout",
     "output_type": "stream",
     "text": [
      "--INFO: hypothesis--\n",
      "\n",
      "--------------------------------------------------------\n",
      "                                          Hypothesis  Reach  Impact  \\\n",
      "0  Добавить два новых канала привлечения трафика,...      3      10   \n",
      "1  Запустить собственную службу доставки, что сок...      2       5   \n",
      "2  Добавить блоки рекомендаций товаров на сайт ин...      8       3   \n",
      "3  Изменить структура категорий, что увеличит кон...      8       3   \n",
      "4  Изменить цвет фона главной страницы, чтобы уве...      3       1   \n",
      "5  Добавить страницу отзывов клиентов о магазине,...      3       2   \n",
      "6  Показать на главной странице баннеры с актуаль...      5       3   \n",
      "7  Добавить форму подписки на все основные страни...     10       7   \n",
      "8  Запустить акцию, дающую скидку на товар в день...      1       9   \n",
      "\n",
      "   Confidence  Efforts  \n",
      "0           8        6  \n",
      "1           4       10  \n",
      "2           7        3  \n",
      "3           3        8  \n",
      "4           1        1  \n",
      "5           2        3  \n",
      "6           8        3  \n",
      "7           8        5  \n",
      "8           9        5  \n",
      "--------------------------------------------------------\n",
      "\n",
      "<class 'pandas.core.frame.DataFrame'>\n",
      "RangeIndex: 9 entries, 0 to 8\n",
      "Data columns (total 5 columns):\n",
      "Hypothesis    9 non-null object\n",
      "Reach         9 non-null int64\n",
      "Impact        9 non-null int64\n",
      "Confidence    9 non-null int64\n",
      "Efforts       9 non-null int64\n",
      "dtypes: int64(4), object(1)\n",
      "memory usage: 440.0+ bytes\n",
      "None\n"
     ]
    }
   ],
   "source": [
    "information(hypothesis)"
   ]
  },
  {
   "cell_type": "markdown",
   "metadata": {
    "deletable": true,
    "editable": true
   },
   "source": [
    "Вывод по таблице hypothesis: пропущенных значений нет, типы данных корректны, необходимо переименование столбцов"
   ]
  },
  {
   "cell_type": "code",
   "execution_count": 98,
   "metadata": {
    "collapsed": false,
    "deletable": true,
    "editable": true
   },
   "outputs": [
    {
     "name": "stdout",
     "output_type": "stream",
     "text": [
      "--INFO: orders--\n",
      "\n",
      "--------------------------------------------------------\n",
      "   transactionId   visitorId        date  revenue group\n",
      "0     3667963787  3312258926  2019-08-15     1650     B\n",
      "1     2804400009  3642806036  2019-08-15      730     B\n",
      "2     2961555356  4069496402  2019-08-15      400     A\n",
      "3     3797467345  1196621759  2019-08-15     9759     B\n",
      "4     2282983706  2322279887  2019-08-15     2308     B\n",
      "5      182168103   935554773  2019-08-15     2210     B\n",
      "6      398296753  2900797465  2019-08-15     1860     B\n",
      "7     2626614568    78758296  2019-08-15     1044     A\n",
      "8     1576988021   295230930  2019-08-15    13710     A\n",
      "9     1506739906  1882260405  2019-08-15     1855     B\n",
      "--------------------------------------------------------\n",
      "\n",
      "<class 'pandas.core.frame.DataFrame'>\n",
      "RangeIndex: 1197 entries, 0 to 1196\n",
      "Data columns (total 5 columns):\n",
      "transactionId    1197 non-null int64\n",
      "visitorId        1197 non-null int64\n",
      "date             1197 non-null object\n",
      "revenue          1197 non-null int64\n",
      "group            1197 non-null object\n",
      "dtypes: int64(3), object(2)\n",
      "memory usage: 46.8+ KB\n",
      "None\n"
     ]
    }
   ],
   "source": [
    "information(orders)"
   ]
  },
  {
   "cell_type": "code",
   "execution_count": 99,
   "metadata": {
    "collapsed": false,
    "deletable": true,
    "editable": true
   },
   "outputs": [
    {
     "data": {
      "text/plain": [
       "count    1.197000e+03\n",
       "mean     8.348006e+03\n",
       "std      3.919113e+04\n",
       "min      5.000000e+01\n",
       "25%      1.220000e+03\n",
       "50%      2.978000e+03\n",
       "75%      8.290000e+03\n",
       "max      1.294500e+06\n",
       "Name: revenue, dtype: float64"
      ]
     },
     "execution_count": 99,
     "metadata": {},
     "output_type": "execute_result"
    }
   ],
   "source": [
    "orders['revenue'].describe()"
   ]
  },
  {
   "cell_type": "code",
   "execution_count": 100,
   "metadata": {
    "collapsed": false,
    "deletable": true,
    "editable": true
   },
   "outputs": [
    {
     "name": "stdout",
     "output_type": "stream",
     "text": [
      "2019-08-01 2019-08-31\n"
     ]
    }
   ],
   "source": [
    "print(orders['date'].min(), orders['date'].max())"
   ]
  },
  {
   "cell_type": "markdown",
   "metadata": {
    "deletable": true,
    "editable": true
   },
   "source": [
    "Вывод по таблице orders: даны записи по заказам с 1 по 31 августа 2019 года, необходимо скорректировать тип данных поля date и название полей transactionId и visitorId, пропущенных значений нет, большой разброс значений по полю revenue(предполагаю выбросы)."
   ]
  },
  {
   "cell_type": "code",
   "execution_count": 101,
   "metadata": {
    "collapsed": false,
    "deletable": true,
    "editable": true
   },
   "outputs": [
    {
     "name": "stdout",
     "output_type": "stream",
     "text": [
      "--INFO: visitors--\n",
      "\n",
      "--------------------------------------------------------\n",
      "         date group  visitors\n",
      "0  2019-08-01     A       719\n",
      "1  2019-08-02     A       619\n",
      "2  2019-08-03     A       507\n",
      "3  2019-08-04     A       717\n",
      "4  2019-08-05     A       756\n",
      "5  2019-08-06     A       667\n",
      "6  2019-08-07     A       644\n",
      "7  2019-08-08     A       610\n",
      "8  2019-08-09     A       617\n",
      "9  2019-08-10     A       406\n",
      "--------------------------------------------------------\n",
      "\n",
      "<class 'pandas.core.frame.DataFrame'>\n",
      "RangeIndex: 62 entries, 0 to 61\n",
      "Data columns (total 3 columns):\n",
      "date        62 non-null object\n",
      "group       62 non-null object\n",
      "visitors    62 non-null int64\n",
      "dtypes: int64(1), object(2)\n",
      "memory usage: 1.5+ KB\n",
      "None\n"
     ]
    }
   ],
   "source": [
    "information(visitors)"
   ]
  },
  {
   "cell_type": "code",
   "execution_count": 103,
   "metadata": {
    "collapsed": false,
    "deletable": true,
    "editable": true
   },
   "outputs": [
    {
     "name": "stdout",
     "output_type": "stream",
     "text": [
      "2019-08-01 2019-08-31\n"
     ]
    }
   ],
   "source": [
    "print(visitors['date'].min(), visitors['date'].max())"
   ]
  },
  {
   "cell_type": "code",
   "execution_count": 104,
   "metadata": {
    "collapsed": false,
    "deletable": true,
    "editable": true
   },
   "outputs": [
    {
     "data": {
      "text/plain": [
       "count     62.000000\n",
       "mean     607.290323\n",
       "std      114.400560\n",
       "min      361.000000\n",
       "25%      534.000000\n",
       "50%      624.500000\n",
       "75%      710.500000\n",
       "max      770.000000\n",
       "Name: visitors, dtype: float64"
      ]
     },
     "execution_count": 104,
     "metadata": {},
     "output_type": "execute_result"
    }
   ],
   "source": [
    "visitors['visitors'].describe()"
   ]
  },
  {
   "cell_type": "markdown",
   "metadata": {
    "deletable": true,
    "editable": true
   },
   "source": [
    "Вывод по таблице visitors: даны записи по количеству посетителей с 1 по 31 августа 2019 года, необходимо скорректировать тип данных поля date, пропущенных значений нет.\n",
    "\n",
    "Проведу необходимые корректировки до начала анализа данных"
   ]
  },
  {
   "cell_type": "code",
   "execution_count": 105,
   "metadata": {
    "collapsed": true,
    "deletable": true,
    "editable": true
   },
   "outputs": [],
   "source": [
    "# функция для приведения названий столбцов к нижнему регистру\n",
    "def columns_rename(data):\n",
    "    columns_renamed = []\n",
    "    for column in data.columns:\n",
    "        column = column.lower()\n",
    "        columns_renamed.append(column)\n",
    "    data.columns = columns_renamed\n",
    "    return data.columns"
   ]
  },
  {
   "cell_type": "markdown",
   "metadata": {
    "deletable": true,
    "editable": true
   },
   "source": [
    "---\n",
    "\n",
    "### Комментарий наставника\n",
    "\n",
    "Интересное решение, но твою функцию можно заменить, используя следующую конструкцию:\n",
    "\n",
    "**data.columns.str.lower()**\n",
    "\n",
    "---"
   ]
  },
  {
   "cell_type": "code",
   "execution_count": 106,
   "metadata": {
    "collapsed": false,
    "deletable": true,
    "editable": true
   },
   "outputs": [
    {
     "data": {
      "text/plain": [
       "Index(['hypothesis', 'reach', 'impact', 'confidence', 'efforts'], dtype='object')"
      ]
     },
     "execution_count": 106,
     "metadata": {},
     "output_type": "execute_result"
    }
   ],
   "source": [
    "columns_rename(hypothesis)"
   ]
  },
  {
   "cell_type": "code",
   "execution_count": 107,
   "metadata": {
    "collapsed": true,
    "deletable": true,
    "editable": true
   },
   "outputs": [],
   "source": [
    "# переименование столбцов в orders\n",
    "orders.columns = ['transaction_id', 'visitor_id', 'date', 'revenue', 'group']"
   ]
  },
  {
   "cell_type": "code",
   "execution_count": null,
   "metadata": {
    "collapsed": true,
    "deletable": true,
    "editable": true
   },
   "outputs": [],
   "source": []
  },
  {
   "cell_type": "code",
   "execution_count": null,
   "metadata": {
    "collapsed": true,
    "deletable": true,
    "editable": true
   },
   "outputs": [],
   "source": []
  },
  {
   "cell_type": "markdown",
   "metadata": {
    "deletable": true,
    "editable": true
   },
   "source": [
    "#### Часть 1. Приоритизация гипотез."
   ]
  },
  {
   "cell_type": "markdown",
   "metadata": {
    "deletable": true,
    "editable": true
   },
   "source": [
    "Примените фреймворк ICE для приоритизации гипотез. Отсортируйте их по убыванию приоритета.\n",
    "\n",
    "Примените фреймворк RICE для приоритизации гипотез. Отсортируйте их по убыванию приоритета.\n",
    "\n",
    "Укажите, как изменилась приоритизация гипотез при применении RICE вместо ICE. Объясните, почему так произошло."
   ]
  },
  {
   "cell_type": "code",
   "execution_count": 113,
   "metadata": {
    "collapsed": true,
    "deletable": true,
    "editable": true
   },
   "outputs": [],
   "source": [
    "def prioritization_hypothesis(data, fm_type):\n",
    "    \n",
    "    if fm_type == 'ICE':\n",
    "        data['ICE'] = (data['impact']*data['confidence'])/data['efforts']\n",
    "    else:\n",
    "        data['RICE'] = data['reach']*data['impact']*data['confidence']/data['efforts']\n",
    "    \n",
    "    ax = (data[['hypothesis', fm_type]].set_index('hypothesis'))\\\n",
    "                            .sort_values(fm_type, ascending=True)\\\n",
    "                            .plot(kind='barh')\n",
    "    ax.set(title=f'Приоритизация гипотез в фреймворке {fm_type}', xlabel=f'Приоритет / {fm_type}')\n",
    "    plt.show()"
   ]
  },
  {
   "cell_type": "code",
   "execution_count": 114,
   "metadata": {
    "collapsed": false,
    "deletable": true,
    "editable": true
   },
   "outputs": [
    {
     "data": {
      "image/png": "[encoded data removed]",
      "text/plain": [
       "<Figure size 1008x576 with 1 Axes>"
      ]
     },
     "metadata": {},
     "output_type": "display_data"
    }
   ],
   "source": [
    "prioritization_hypothesis(hypothesis, 'ICE')\n"
   ]
  },
  {
   "cell_type": "code",
   "execution_count": 115,
   "metadata": {
    "collapsed": false,
    "deletable": true,
    "editable": true
   },
   "outputs": [
    {
     "data": {
      "image/png": "[encoded data removed]",
      "text/plain": [
       "<Figure size 1008x576 with 1 Axes>"
      ]
     },
     "metadata": {},
     "output_type": "display_data"
    }
   ],
   "source": [
    "prioritization_hypothesis(hypothesis, 'RICE')"
   ]
  },
  {
   "cell_type": "code",
   "execution_count": 116,
   "metadata": {
    "collapsed": false,
    "deletable": true,
    "editable": true
   },
   "outputs": [
    {
     "data": {
      "text/html": [
       "<div>\n",
       "<style scoped>\n",
       "    .dataframe tbody tr th:only-of-type {\n",
       "        vertical-align: middle;\n",
       "    }\n",
       "\n",
       "    .dataframe tbody tr th {\n",
       "        vertical-align: top;\n",
       "    }\n",
       "\n",
       "    .dataframe thead th {\n",
       "        text-align: right;\n",
       "    }\n",
       "</style>\n",
       "<table border=\"1\" class=\"dataframe\">\n",
       "  <thead>\n",
       "    <tr style=\"text-align: right;\">\n",
       "      <th></th>\n",
       "      <th>hypothesis</th>\n",
       "      <th>reach</th>\n",
       "      <th>impact</th>\n",
       "      <th>confidence</th>\n",
       "      <th>efforts</th>\n",
       "      <th>ICE</th>\n",
       "      <th>RICE</th>\n",
       "    </tr>\n",
       "  </thead>\n",
       "  <tbody>\n",
       "    <tr>\n",
       "      <th>7</th>\n",
       "      <td>Добавить форму подписки на все основные страни...</td>\n",
       "      <td>10</td>\n",
       "      <td>7</td>\n",
       "      <td>8</td>\n",
       "      <td>5</td>\n",
       "      <td>11.2</td>\n",
       "      <td>112.0</td>\n",
       "    </tr>\n",
       "  </tbody>\n",
       "</table>\n",
       "</div>"
      ],
      "text/plain": [
       "                                          hypothesis  reach  impact  \\\n",
       "7  Добавить форму подписки на все основные страни...     10       7   \n",
       "\n",
       "   confidence  efforts   ICE   RICE  \n",
       "7           8        5  11.2  112.0  "
      ]
     },
     "execution_count": 116,
     "metadata": {},
     "output_type": "execute_result"
    }
   ],
   "source": [
    "\n",
    "hypothesis.sort_values('reach', ascending=False).head(1)"
   ]
  },
  {
   "cell_type": "markdown",
   "metadata": {
    "deletable": true,
    "editable": true
   },
   "source": [
    "#### Вывод:"
   ]
  },
  {
   "cell_type": "markdown",
   "metadata": {
    "deletable": true,
    "editable": true
   },
   "source": [
    "После изменения фреймворка изменилось ранжирование гипотез на основе рассчитанного рейтинга ICE/RICE, тк в формуле расчета ICE не учитывается компонент reach (охват пользователей)."
   ]
  },
  {
   "cell_type": "markdown",
   "metadata": {
    "deletable": true,
    "editable": true
   },
   "source": [
    "---\n",
    "\n",
    "### Комментарий наставника\n",
    "\n",
    "Да, действительно это так.\n",
    "\n",
    "---"
   ]
  },
  {
   "cell_type": "markdown",
   "metadata": {
    "deletable": true,
    "editable": true
   },
   "source": [
    "#### Часть 1. Приоритизация гипотез. Вариант 2 .  Можно немного более подробнее сделать. "
   ]
  },
  {
   "cell_type": "markdown",
   "metadata": {
    "deletable": true,
    "editable": true
   },
   "source": [
    "Фреймворк ICE для приоритизации гипотез"
   ]
  },
  {
   "cell_type": "code",
   "execution_count": 117,
   "metadata": {
    "collapsed": true,
    "deletable": true,
    "editable": true
   },
   "outputs": [],
   "source": [
    "hypothesis['ICE'] = (hypothesis['impact'] * hypothesis['confidence']) / hypothesis['efforts']"
   ]
  },
  {
   "cell_type": "code",
   "execution_count": 118,
   "metadata": {
    "collapsed": false,
    "deletable": true,
    "editable": true
   },
   "outputs": [
    {
     "data": {
      "text/html": [
       "<div>\n",
       "<style scoped>\n",
       "    .dataframe tbody tr th:only-of-type {\n",
       "        vertical-align: middle;\n",
       "    }\n",
       "\n",
       "    .dataframe tbody tr th {\n",
       "        vertical-align: top;\n",
       "    }\n",
       "\n",
       "    .dataframe thead th {\n",
       "        text-align: right;\n",
       "    }\n",
       "</style>\n",
       "<table border=\"1\" class=\"dataframe\">\n",
       "  <thead>\n",
       "    <tr style=\"text-align: right;\">\n",
       "      <th></th>\n",
       "      <th>reach</th>\n",
       "      <th>impact</th>\n",
       "      <th>confidence</th>\n",
       "      <th>efforts</th>\n",
       "      <th>ICE</th>\n",
       "      <th>RICE</th>\n",
       "    </tr>\n",
       "    <tr>\n",
       "      <th>hypothesis</th>\n",
       "      <th></th>\n",
       "      <th></th>\n",
       "      <th></th>\n",
       "      <th></th>\n",
       "      <th></th>\n",
       "      <th></th>\n",
       "    </tr>\n",
       "  </thead>\n",
       "  <tbody>\n",
       "    <tr>\n",
       "      <th>Запустить акцию, дающую скидку на товар в день рождения</th>\n",
       "      <td>1</td>\n",
       "      <td>9</td>\n",
       "      <td>9</td>\n",
       "      <td>5</td>\n",
       "      <td>16.200000</td>\n",
       "      <td>16.2</td>\n",
       "    </tr>\n",
       "    <tr>\n",
       "      <th>Добавить два новых канала привлечения трафика, что позволит привлекать на 30% больше пользователей</th>\n",
       "      <td>3</td>\n",
       "      <td>10</td>\n",
       "      <td>8</td>\n",
       "      <td>6</td>\n",
       "      <td>13.333333</td>\n",
       "      <td>40.0</td>\n",
       "    </tr>\n",
       "    <tr>\n",
       "      <th>Добавить форму подписки на все основные страницы, чтобы собрать базу клиентов для email-рассылок</th>\n",
       "      <td>10</td>\n",
       "      <td>7</td>\n",
       "      <td>8</td>\n",
       "      <td>5</td>\n",
       "      <td>11.200000</td>\n",
       "      <td>112.0</td>\n",
       "    </tr>\n",
       "    <tr>\n",
       "      <th>Показать на главной странице баннеры с актуальными акциями и распродажами, чтобы увеличить конверсию</th>\n",
       "      <td>5</td>\n",
       "      <td>3</td>\n",
       "      <td>8</td>\n",
       "      <td>3</td>\n",
       "      <td>8.000000</td>\n",
       "      <td>40.0</td>\n",
       "    </tr>\n",
       "    <tr>\n",
       "      <th>Добавить блоки рекомендаций товаров на сайт интернет магазина, чтобы повысить конверсию и средний чек заказа</th>\n",
       "      <td>8</td>\n",
       "      <td>3</td>\n",
       "      <td>7</td>\n",
       "      <td>3</td>\n",
       "      <td>7.000000</td>\n",
       "      <td>56.0</td>\n",
       "    </tr>\n",
       "    <tr>\n",
       "      <th>Запустить собственную службу доставки, что сократит срок доставки заказов</th>\n",
       "      <td>2</td>\n",
       "      <td>5</td>\n",
       "      <td>4</td>\n",
       "      <td>10</td>\n",
       "      <td>2.000000</td>\n",
       "      <td>4.0</td>\n",
       "    </tr>\n",
       "    <tr>\n",
       "      <th>Добавить страницу отзывов клиентов о магазине, что позволит увеличить количество заказов</th>\n",
       "      <td>3</td>\n",
       "      <td>2</td>\n",
       "      <td>2</td>\n",
       "      <td>3</td>\n",
       "      <td>1.333333</td>\n",
       "      <td>4.0</td>\n",
       "    </tr>\n",
       "    <tr>\n",
       "      <th>Изменить структура категорий, что увеличит конверсию, т.к. пользователи быстрее найдут нужный товар</th>\n",
       "      <td>8</td>\n",
       "      <td>3</td>\n",
       "      <td>3</td>\n",
       "      <td>8</td>\n",
       "      <td>1.125000</td>\n",
       "      <td>9.0</td>\n",
       "    </tr>\n",
       "    <tr>\n",
       "      <th>Изменить цвет фона главной страницы, чтобы увеличить вовлеченность пользователей</th>\n",
       "      <td>3</td>\n",
       "      <td>1</td>\n",
       "      <td>1</td>\n",
       "      <td>1</td>\n",
       "      <td>1.000000</td>\n",
       "      <td>3.0</td>\n",
       "    </tr>\n",
       "  </tbody>\n",
       "</table>\n",
       "</div>"
      ],
      "text/plain": [
       "                                                    reach  impact  confidence  \\\n",
       "hypothesis                                                                      \n",
       "Запустить акцию, дающую скидку на товар в день ...      1       9           9   \n",
       "Добавить два новых канала привлечения трафика, ...      3      10           8   \n",
       "Добавить форму подписки на все основные страниц...     10       7           8   \n",
       "Показать на главной странице баннеры с актуальн...      5       3           8   \n",
       "Добавить блоки рекомендаций товаров на сайт инт...      8       3           7   \n",
       "Запустить собственную службу доставки, что сокр...      2       5           4   \n",
       "Добавить страницу отзывов клиентов о магазине, ...      3       2           2   \n",
       "Изменить структура категорий, что увеличит конв...      8       3           3   \n",
       "Изменить цвет фона главной страницы, чтобы увел...      3       1           1   \n",
       "\n",
       "                                                    efforts        ICE   RICE  \n",
       "hypothesis                                                                     \n",
       "Запустить акцию, дающую скидку на товар в день ...        5  16.200000   16.2  \n",
       "Добавить два новых канала привлечения трафика, ...        6  13.333333   40.0  \n",
       "Добавить форму подписки на все основные страниц...        5  11.200000  112.0  \n",
       "Показать на главной странице баннеры с актуальн...        3   8.000000   40.0  \n",
       "Добавить блоки рекомендаций товаров на сайт инт...        3   7.000000   56.0  \n",
       "Запустить собственную службу доставки, что сокр...       10   2.000000    4.0  \n",
       "Добавить страницу отзывов клиентов о магазине, ...        3   1.333333    4.0  \n",
       "Изменить структура категорий, что увеличит конв...        8   1.125000    9.0  \n",
       "Изменить цвет фона главной страницы, чтобы увел...        1   1.000000    3.0  "
      ]
     },
     "execution_count": 118,
     "metadata": {},
     "output_type": "execute_result"
    }
   ],
   "source": [
    "hypothesis.sort_values('ICE', ascending=False).set_index('hypothesis')"
   ]
  },
  {
   "cell_type": "markdown",
   "metadata": {
    "deletable": true,
    "editable": true
   },
   "source": [
    "\n",
    "Топ-3 приоритетных гипотезы по методу ICE:\n",
    "\n",
    "Запустить акцию, дающую скидку на товар в день рождения\n",
    "\n",
    "Добавить два новых канала привлечения трафика, что позволит привлекать на 30% больше пользователей\n",
    "\n",
    "Добавить форму подписки на все основные страницы, чтобы собрать базу клиентов для email-рассылок\n",
    "\n",
    "У данных гипотез средний уровень по efforts, при этом довольно высокие показатели по параметрам\n",
    "\n",
    "impact и confidence. Больше всего влияния на пользователей предположительно окажет добавление двух \n",
    "\n",
    "новых каналов для привлечения трафика. При этом больше всего уверенности в успехе гипотезы о запуске акции,\n",
    "дающей скидку в день рождения."
   ]
  },
  {
   "cell_type": "markdown",
   "metadata": {
    "deletable": true,
    "editable": true
   },
   "source": [
    "#### Фреймворк RICE для приоритизации гипотез"
   ]
  },
  {
   "cell_type": "code",
   "execution_count": 119,
   "metadata": {
    "collapsed": true,
    "deletable": true,
    "editable": true
   },
   "outputs": [],
   "source": [
    "hypothesis['RICE'] = (hypothesis['reach'] * hypothesis['impact'] * hypothesis['confidence']) / hypothesis['efforts']"
   ]
  },
  {
   "cell_type": "code",
   "execution_count": 120,
   "metadata": {
    "collapsed": false,
    "deletable": true,
    "editable": true
   },
   "outputs": [
    {
     "data": {
      "text/html": [
       "<div>\n",
       "<style scoped>\n",
       "    .dataframe tbody tr th:only-of-type {\n",
       "        vertical-align: middle;\n",
       "    }\n",
       "\n",
       "    .dataframe tbody tr th {\n",
       "        vertical-align: top;\n",
       "    }\n",
       "\n",
       "    .dataframe thead th {\n",
       "        text-align: right;\n",
       "    }\n",
       "</style>\n",
       "<table border=\"1\" class=\"dataframe\">\n",
       "  <thead>\n",
       "    <tr style=\"text-align: right;\">\n",
       "      <th></th>\n",
       "      <th>reach</th>\n",
       "      <th>impact</th>\n",
       "      <th>confidence</th>\n",
       "      <th>efforts</th>\n",
       "      <th>ICE</th>\n",
       "      <th>RICE</th>\n",
       "    </tr>\n",
       "    <tr>\n",
       "      <th>hypothesis</th>\n",
       "      <th></th>\n",
       "      <th></th>\n",
       "      <th></th>\n",
       "      <th></th>\n",
       "      <th></th>\n",
       "      <th></th>\n",
       "    </tr>\n",
       "  </thead>\n",
       "  <tbody>\n",
       "    <tr>\n",
       "      <th>Добавить форму подписки на все основные страницы, чтобы собрать базу клиентов для email-рассылок</th>\n",
       "      <td>10</td>\n",
       "      <td>7</td>\n",
       "      <td>8</td>\n",
       "      <td>5</td>\n",
       "      <td>11.200000</td>\n",
       "      <td>112.0</td>\n",
       "    </tr>\n",
       "    <tr>\n",
       "      <th>Добавить блоки рекомендаций товаров на сайт интернет магазина, чтобы повысить конверсию и средний чек заказа</th>\n",
       "      <td>8</td>\n",
       "      <td>3</td>\n",
       "      <td>7</td>\n",
       "      <td>3</td>\n",
       "      <td>7.000000</td>\n",
       "      <td>56.0</td>\n",
       "    </tr>\n",
       "    <tr>\n",
       "      <th>Добавить два новых канала привлечения трафика, что позволит привлекать на 30% больше пользователей</th>\n",
       "      <td>3</td>\n",
       "      <td>10</td>\n",
       "      <td>8</td>\n",
       "      <td>6</td>\n",
       "      <td>13.333333</td>\n",
       "      <td>40.0</td>\n",
       "    </tr>\n",
       "    <tr>\n",
       "      <th>Показать на главной странице баннеры с актуальными акциями и распродажами, чтобы увеличить конверсию</th>\n",
       "      <td>5</td>\n",
       "      <td>3</td>\n",
       "      <td>8</td>\n",
       "      <td>3</td>\n",
       "      <td>8.000000</td>\n",
       "      <td>40.0</td>\n",
       "    </tr>\n",
       "    <tr>\n",
       "      <th>Запустить акцию, дающую скидку на товар в день рождения</th>\n",
       "      <td>1</td>\n",
       "      <td>9</td>\n",
       "      <td>9</td>\n",
       "      <td>5</td>\n",
       "      <td>16.200000</td>\n",
       "      <td>16.2</td>\n",
       "    </tr>\n",
       "    <tr>\n",
       "      <th>Изменить структура категорий, что увеличит конверсию, т.к. пользователи быстрее найдут нужный товар</th>\n",
       "      <td>8</td>\n",
       "      <td>3</td>\n",
       "      <td>3</td>\n",
       "      <td>8</td>\n",
       "      <td>1.125000</td>\n",
       "      <td>9.0</td>\n",
       "    </tr>\n",
       "    <tr>\n",
       "      <th>Запустить собственную службу доставки, что сократит срок доставки заказов</th>\n",
       "      <td>2</td>\n",
       "      <td>5</td>\n",
       "      <td>4</td>\n",
       "      <td>10</td>\n",
       "      <td>2.000000</td>\n",
       "      <td>4.0</td>\n",
       "    </tr>\n",
       "    <tr>\n",
       "      <th>Добавить страницу отзывов клиентов о магазине, что позволит увеличить количество заказов</th>\n",
       "      <td>3</td>\n",
       "      <td>2</td>\n",
       "      <td>2</td>\n",
       "      <td>3</td>\n",
       "      <td>1.333333</td>\n",
       "      <td>4.0</td>\n",
       "    </tr>\n",
       "    <tr>\n",
       "      <th>Изменить цвет фона главной страницы, чтобы увеличить вовлеченность пользователей</th>\n",
       "      <td>3</td>\n",
       "      <td>1</td>\n",
       "      <td>1</td>\n",
       "      <td>1</td>\n",
       "      <td>1.000000</td>\n",
       "      <td>3.0</td>\n",
       "    </tr>\n",
       "  </tbody>\n",
       "</table>\n",
       "</div>"
      ],
      "text/plain": [
       "                                                    reach  impact  confidence  \\\n",
       "hypothesis                                                                      \n",
       "Добавить форму подписки на все основные страниц...     10       7           8   \n",
       "Добавить блоки рекомендаций товаров на сайт инт...      8       3           7   \n",
       "Добавить два новых канала привлечения трафика, ...      3      10           8   \n",
       "Показать на главной странице баннеры с актуальн...      5       3           8   \n",
       "Запустить акцию, дающую скидку на товар в день ...      1       9           9   \n",
       "Изменить структура категорий, что увеличит конв...      8       3           3   \n",
       "Запустить собственную службу доставки, что сокр...      2       5           4   \n",
       "Добавить страницу отзывов клиентов о магазине, ...      3       2           2   \n",
       "Изменить цвет фона главной страницы, чтобы увел...      3       1           1   \n",
       "\n",
       "                                                    efforts        ICE   RICE  \n",
       "hypothesis                                                                     \n",
       "Добавить форму подписки на все основные страниц...        5  11.200000  112.0  \n",
       "Добавить блоки рекомендаций товаров на сайт инт...        3   7.000000   56.0  \n",
       "Добавить два новых канала привлечения трафика, ...        6  13.333333   40.0  \n",
       "Показать на главной странице баннеры с актуальн...        3   8.000000   40.0  \n",
       "Запустить акцию, дающую скидку на товар в день ...        5  16.200000   16.2  \n",
       "Изменить структура категорий, что увеличит конв...        8   1.125000    9.0  \n",
       "Запустить собственную службу доставки, что сокр...       10   2.000000    4.0  \n",
       "Добавить страницу отзывов клиентов о магазине, ...        3   1.333333    4.0  \n",
       "Изменить цвет фона главной страницы, чтобы увел...        1   1.000000    3.0  "
      ]
     },
     "execution_count": 120,
     "metadata": {},
     "output_type": "execute_result"
    }
   ],
   "source": [
    "hypothesis.sort_values('RICE', ascending=False).set_index('hypothesis')"
   ]
  },
  {
   "cell_type": "markdown",
   "metadata": {
    "deletable": true,
    "editable": true
   },
   "source": [
    "Топ-4 приоритетных гипотезы по методу RICE:\n",
    "\n",
    "Добавить форму подписки на все основные страницы, чтобы собрать базу клиентов для email-рассылок\n",
    "\n",
    "Добавить блоки рекомендаций товаров на сайт интернет магазина, чтобы повысить конверсию и средний чек заказа\n",
    "\n",
    "Добавить два новых канала привлечения трафика, что позволит привлекать на 30% больше пользователей\n",
    "\n",
    "Показать на главной странице баннеры с актуальными акциями и распродажами, чтобы увеличить конверсию\n",
    "\n",
    "Первые две гипотезы становятся высокоприоритетными преимущественно за счёт параметров reach и confidence.\n",
    "\n",
    "При этом для добавления блоков рекомендаций товаров на сайт интернет магазина оценочно потребуется относительно немного efforts. Добавление двух новых каналов привлечения трафика - гипотеза которая осталась в топ, однако стоит отметить довольно невысокий охват пользователей, которых данное изменение затронет. Аналогичное значение RICE получено для гипотезы о показах на главной странице баннеров с актуальными акциями и распродажами. По данной гипотезе довольно высокое значение охвата и уверенности в её успехе."
   ]
  },
  {
   "cell_type": "markdown",
   "metadata": {
    "deletable": true,
    "editable": true
   },
   "source": [
    "#### Сравнение результатов RICE и ICE"
   ]
  },
  {
   "cell_type": "markdown",
   "metadata": {
    "deletable": true,
    "editable": true
   },
   "source": [
    "Есть две гипотезы, которые попадают в топ и по ICE, и по RICE:\n",
    "\n",
    "Добавить форму подписки на все основные страницы, чтобы собрать базу клиентов для email-рассылок\n",
    "\n",
    "Добавить два новых канала привлечения трафика, что позволит привлекать на 30% больше пользователей\n",
    "\n",
    "Первая гипотеза предполагает изменение, которое охватит наибольшое число пользователей. Кроме того, степень уверенности в успешной реализации данных нововведений высокая.Вторая из этих гипотез имеет довольно низкий охват, но влияние на тех пользователей, которых она затронет, должно быть очень высоким. При этом также высока уверенность в успехе предполагаемых изменений.\n",
    "\n",
    "Топ-1 гипотеза по ICE (запустить акцию, дающую скидку на товар в день рождения) предположительно охватит минимальное число пользователей, что логично: число людей, у которых будет день рождения за небольшой период времени проведения эксперимента не так велико. Поэтому данная гипотеза лишь на пятом месте по RICE.\n",
    "\n",
    "За счёт высокого показателя охвата в топ по RICE попадает также гипотеза о добавлении блоков рекомендаций товаров на сайт интернет магазина. Однако, хотя данное изменение затронет довольно много пользователей, влияние будет не таким уж большим (impact = 3). Поэтому данная гипотеза лишь на пятом месте по показателю ICE.\n",
    "\n",
    "Самыми низкими приоритетами и по ICE, и по RICE характеризуются следующие гипотезы (последние 4 позиции в разной последовательности):\n",
    "\n",
    "Запустить собственную службу доставки, что сократит срок доставки заказов\n",
    "\n",
    "Добавить страницу отзывов клиентов о магазине, что позволит увеличить количество заказов\n",
    "\n",
    "Изменить структура категорий, что увеличит конверсию, т.к. пользователи быстрее найдут нужный товар\n",
    "\n",
    "Изменить цвет фона главной страницы, чтобы увеличить вовлеченность пользователей\n",
    "\n",
    "При этом изменение структуры категорий и запуск собственной службы доставки потребуют несоизмеримо высокие усилия. Остальные две гипотезы характеризуются низкими показателями по всем параметрам."
   ]
  },
  {
   "cell_type": "markdown",
   "metadata": {
    "deletable": true,
    "editable": true
   },
   "source": [
    "---\n",
    "\n",
    "### Комментарий наставника\n",
    "\n",
    "Молодец! :)\n",
    "\n",
    "А на что бы ты сам приложил усилия?\n",
    "\n",
    "---"
   ]
  },
  {
   "cell_type": "markdown",
   "metadata": {
    "deletable": true,
    "editable": true
   },
   "source": [
    "Часть 2. Анализ A/B-теста"
   ]
  },
  {
   "cell_type": "markdown",
   "metadata": {
    "deletable": true,
    "editable": true
   },
   "source": [
    "##### График кумулятивной выручки по группам"
   ]
  },
  {
   "cell_type": "code",
   "execution_count": 121,
   "metadata": {
    "collapsed": false,
    "deletable": true,
    "editable": true
   },
   "outputs": [
    {
     "data": {
      "text/html": [
       "<div>\n",
       "<style scoped>\n",
       "    .dataframe tbody tr th:only-of-type {\n",
       "        vertical-align: middle;\n",
       "    }\n",
       "\n",
       "    .dataframe tbody tr th {\n",
       "        vertical-align: top;\n",
       "    }\n",
       "\n",
       "    .dataframe thead th {\n",
       "        text-align: right;\n",
       "    }\n",
       "</style>\n",
       "<table border=\"1\" class=\"dataframe\">\n",
       "  <thead>\n",
       "    <tr style=\"text-align: right;\">\n",
       "      <th></th>\n",
       "      <th>date</th>\n",
       "      <th>revenue</th>\n",
       "    </tr>\n",
       "  </thead>\n",
       "  <tbody>\n",
       "    <tr>\n",
       "      <th>0</th>\n",
       "      <td>2019-08-01</td>\n",
       "      <td>148579</td>\n",
       "    </tr>\n",
       "    <tr>\n",
       "      <th>1</th>\n",
       "      <td>2019-08-02</td>\n",
       "      <td>242401</td>\n",
       "    </tr>\n",
       "    <tr>\n",
       "      <th>2</th>\n",
       "      <td>2019-08-03</td>\n",
       "      <td>354874</td>\n",
       "    </tr>\n",
       "    <tr>\n",
       "      <th>3</th>\n",
       "      <td>2019-08-04</td>\n",
       "      <td>425699</td>\n",
       "    </tr>\n",
       "    <tr>\n",
       "      <th>4</th>\n",
       "      <td>2019-08-05</td>\n",
       "      <td>549917</td>\n",
       "    </tr>\n",
       "  </tbody>\n",
       "</table>\n",
       "</div>"
      ],
      "text/plain": [
       "        date  revenue\n",
       "0 2019-08-01   148579\n",
       "1 2019-08-02   242401\n",
       "2 2019-08-03   354874\n",
       "3 2019-08-04   425699\n",
       "4 2019-08-05   549917"
      ]
     },
     "execution_count": 121,
     "metadata": {},
     "output_type": "execute_result"
    }
   ],
   "source": [
    "# рассчитываю выручку по дням для группы A\n",
    "revenue_a = orders.query('group == \"A\"').groupby('date').agg({'revenue':'sum'}).reset_index()\n",
    "\n",
    "# рассчитываю кумулятивную выручку для группы A\n",
    "cum_revenue_a = revenue_a.apply(lambda x: revenue_a[revenue_a['date'] <= x['date']].\\\n",
    "                                           agg({'date' : 'max', 'revenue' : 'sum'}), axis=1).sort_values(by=['date'])\n",
    "cum_revenue_a.head()"
   ]
  },
  {
   "cell_type": "code",
   "execution_count": 122,
   "metadata": {
    "collapsed": false,
    "deletable": true,
    "editable": true
   },
   "outputs": [
    {
     "data": {
      "text/html": [
       "<div>\n",
       "<style scoped>\n",
       "    .dataframe tbody tr th:only-of-type {\n",
       "        vertical-align: middle;\n",
       "    }\n",
       "\n",
       "    .dataframe tbody tr th {\n",
       "        vertical-align: top;\n",
       "    }\n",
       "\n",
       "    .dataframe thead th {\n",
       "        text-align: right;\n",
       "    }\n",
       "</style>\n",
       "<table border=\"1\" class=\"dataframe\">\n",
       "  <thead>\n",
       "    <tr style=\"text-align: right;\">\n",
       "      <th></th>\n",
       "      <th>date</th>\n",
       "      <th>revenue</th>\n",
       "    </tr>\n",
       "  </thead>\n",
       "  <tbody>\n",
       "    <tr>\n",
       "      <th>0</th>\n",
       "      <td>2019-08-01</td>\n",
       "      <td>101217</td>\n",
       "    </tr>\n",
       "    <tr>\n",
       "      <th>1</th>\n",
       "      <td>2019-08-02</td>\n",
       "      <td>266748</td>\n",
       "    </tr>\n",
       "    <tr>\n",
       "      <th>2</th>\n",
       "      <td>2019-08-03</td>\n",
       "      <td>380996</td>\n",
       "    </tr>\n",
       "    <tr>\n",
       "      <th>3</th>\n",
       "      <td>2019-08-04</td>\n",
       "      <td>489567</td>\n",
       "    </tr>\n",
       "    <tr>\n",
       "      <th>4</th>\n",
       "      <td>2019-08-05</td>\n",
       "      <td>581995</td>\n",
       "    </tr>\n",
       "  </tbody>\n",
       "</table>\n",
       "</div>"
      ],
      "text/plain": [
       "        date  revenue\n",
       "0 2019-08-01   101217\n",
       "1 2019-08-02   266748\n",
       "2 2019-08-03   380996\n",
       "3 2019-08-04   489567\n",
       "4 2019-08-05   581995"
      ]
     },
     "execution_count": 122,
     "metadata": {},
     "output_type": "execute_result"
    }
   ],
   "source": [
    "# рассчитываю выручку по дням для группы B\n",
    "revenue_b = orders.query('group == \"B\"').groupby('date').agg({'revenue':'sum'}).reset_index()\n",
    "\n",
    "# рассчитываю кумулятивную выручку для группы A\n",
    "cum_revenue_b = revenue_b.apply(lambda x: revenue_b[revenue_b['date'] <= x['date']].\\\n",
    "                                           agg({'date' : 'max', 'revenue' : 'sum'}), axis=1).sort_values(by=['date'])\n",
    "cum_revenue_b.head()"
   ]
  },
  {
   "cell_type": "code",
   "execution_count": 123,
   "metadata": {
    "collapsed": false,
    "deletable": true,
    "editable": true
   },
   "outputs": [
    {
     "data": {
      "image/png": "[encoded data removed]",
      "text/plain": [
       "<Figure size 1008x288 with 1 Axes>"
      ]
     },
     "metadata": {},
     "output_type": "display_data"
    }
   ],
   "source": [
    "sns.set(style='darkgrid')\n",
    "plt.figure(figsize=(14,4))\n",
    "sns.lineplot(x='date', y='revenue', label='group A', color='green', data=cum_revenue_a, lw=2)\n",
    "sns.lineplot(x='date', y='revenue', label='group B', color='blue', data=cum_revenue_b, lw=2)\n",
    "plt.xticks(cum_revenue_a['date'], rotation=90)\n",
    "plt.title('Cumulative revenue by group', fontweight='bold')\n",
    "plt.show()"
   ]
  },
  {
   "cell_type": "markdown",
   "metadata": {
    "deletable": true,
    "editable": true
   },
   "source": [
    "Первые пять дней значения кумулятивной выручки по группам практически не различаются. Далее на всём периоде значения кумулятивной выручки группы B превосходят значения по группе A. Наиболее существенный скачок по группе B наблюдается 19 августа."
   ]
  },
  {
   "cell_type": "code",
   "execution_count": 124,
   "metadata": {
    "collapsed": false,
    "deletable": true,
    "editable": true
   },
   "outputs": [
    {
     "data": {
      "text/html": [
       "<div>\n",
       "<style scoped>\n",
       "    .dataframe tbody tr th:only-of-type {\n",
       "        vertical-align: middle;\n",
       "    }\n",
       "\n",
       "    .dataframe tbody tr th {\n",
       "        vertical-align: top;\n",
       "    }\n",
       "\n",
       "    .dataframe thead th {\n",
       "        text-align: right;\n",
       "    }\n",
       "</style>\n",
       "<table border=\"1\" class=\"dataframe\">\n",
       "  <thead>\n",
       "    <tr style=\"text-align: right;\">\n",
       "      <th></th>\n",
       "      <th>date</th>\n",
       "      <th>revenue_a</th>\n",
       "      <th>revenue_b</th>\n",
       "      <th>revenue_change</th>\n",
       "    </tr>\n",
       "  </thead>\n",
       "  <tbody>\n",
       "    <tr>\n",
       "      <th>0</th>\n",
       "      <td>2019-08-01</td>\n",
       "      <td>148579</td>\n",
       "      <td>101217</td>\n",
       "      <td>-0.318766</td>\n",
       "    </tr>\n",
       "    <tr>\n",
       "      <th>1</th>\n",
       "      <td>2019-08-02</td>\n",
       "      <td>242401</td>\n",
       "      <td>266748</td>\n",
       "      <td>0.100441</td>\n",
       "    </tr>\n",
       "    <tr>\n",
       "      <th>2</th>\n",
       "      <td>2019-08-03</td>\n",
       "      <td>354874</td>\n",
       "      <td>380996</td>\n",
       "      <td>0.073609</td>\n",
       "    </tr>\n",
       "    <tr>\n",
       "      <th>3</th>\n",
       "      <td>2019-08-04</td>\n",
       "      <td>425699</td>\n",
       "      <td>489567</td>\n",
       "      <td>0.150031</td>\n",
       "    </tr>\n",
       "    <tr>\n",
       "      <th>4</th>\n",
       "      <td>2019-08-05</td>\n",
       "      <td>549917</td>\n",
       "      <td>581995</td>\n",
       "      <td>0.058332</td>\n",
       "    </tr>\n",
       "  </tbody>\n",
       "</table>\n",
       "</div>"
      ],
      "text/plain": [
       "        date  revenue_a  revenue_b  revenue_change\n",
       "0 2019-08-01     148579     101217       -0.318766\n",
       "1 2019-08-02     242401     266748        0.100441\n",
       "2 2019-08-03     354874     380996        0.073609\n",
       "3 2019-08-04     425699     489567        0.150031\n",
       "4 2019-08-05     549917     581995        0.058332"
      ]
     },
     "execution_count": 124,
     "metadata": {},
     "output_type": "execute_result"
    }
   ],
   "source": [
    "# объединяю данные по куммулятивным выручкам, рассчитываю относительное изменение за каждый день\n",
    "cum_rev_all = cum_revenue_a.merge(cum_revenue_b, on='date', suffixes=('_a', '_b'))\n",
    "cum_rev_all['revenue_change'] = cum_rev_all['revenue_b'] / cum_rev_all['revenue_a'] - 1\n",
    "cum_rev_all.head()"
   ]
  },
  {
   "cell_type": "code",
   "execution_count": 125,
   "metadata": {
    "collapsed": false,
    "deletable": true,
    "editable": true
   },
   "outputs": [
    {
     "data": {
      "image/png": "[encoded data removed]",
      "text/plain": [
       "<Figure size 1008x288 with 1 Axes>"
      ]
     },
     "metadata": {},
     "output_type": "display_data"
    }
   ],
   "source": [
    "# строю график относительного различия кумулятивной выручки\n",
    "sns.set(style='darkgrid')\n",
    "plt.figure(figsize=(14,4))\n",
    "sns.lineplot(x='date', y='revenue_change', color='coral', data=cum_rev_all, lw=2)\n",
    "plt.xticks(cum_rev_all['date'], rotation=90)\n",
    "plt.axhline(y=0, color='gray', linestyle='--')\n",
    "plt.title('Cumulative revenue change', fontweight='bold')\n",
    "plt.show()"
   ]
  },
  {
   "cell_type": "markdown",
   "metadata": {
    "deletable": true,
    "editable": true
   },
   "source": [
    "На данном графике также видно, что кумулятивное значение выручки группы B было ниже только в первый день анализа. Также значения практически сравнялись 13 августа. Наибольшие скачки относительного изменения кумулятивной выручки отмечаются 8 и 19 августа. Вероятнее всего, 19 августа наблюдается аномалия, имеют место выбросы. После указанной даты разрыв начинает сокращаться со временем, однако к концу анализируемого периода снова несколько возрастае"
   ]
  },
  {
   "cell_type": "markdown",
   "metadata": {
    "deletable": true,
    "editable": true
   },
   "source": [
    "---\n",
    "\n",
    "### Комментарий наставника\n",
    "\n",
    "Было бы интересно проверить наличие аномалий. Возможно, тут имеет место влияние других факторов в эти дни\n",
    "\n",
    "---"
   ]
  },
  {
   "cell_type": "markdown",
   "metadata": {
    "deletable": true,
    "editable": true
   },
   "source": [
    "#### График кумулятивного среднего чека по группам"
   ]
  },
  {
   "cell_type": "code",
   "execution_count": 129,
   "metadata": {
    "collapsed": true,
    "deletable": true,
    "editable": true
   },
   "outputs": [],
   "source": [
    "# функция для расчёта среднего чека по группам\n",
    "def avg_payment(group_name):\n",
    "    # рассчитываю количество заказов по дням для группы\n",
    "    orders_group = orders.query('group == @group_name').groupby('date').agg({'transaction_id':pd.Series.nunique}).\\\n",
    "    reset_index()\n",
    "    orders_group.columns = ['date', 'orders']\n",
    "    \n",
    "    # рассчитываю кумулятивное число заказов для группы\n",
    "    cum_orders_group = orders_group.apply(lambda x: orders_group[orders_group['date'] <= x['date']].\\\n",
    "                                  agg({'date' : 'max', 'orders' : 'sum'}), axis=1).sort_values(by=['date'])\n",
    "    \n",
    "    # добавляю значения кумулятивной выручки для группы\n",
    "    if group_name == 'A':\n",
    "        cum_rev_orders_group = cum_orders_group.merge(cum_revenue_a, on='date')\n",
    "    elif group_name == 'B':\n",
    "        cum_rev_orders_group = cum_orders_group.merge(cum_revenue_b, on='date')\n",
    "        \n",
    "    # рассчитываю средний чек для группы\n",
    "    cum_rev_orders_group['avg_payment'] = cum_rev_orders_group['revenue'] / cum_rev_orders_group['orders']\n",
    "    \n",
    "    return pd.DataFrame(cum_rev_orders_group)"
   ]
  },
  {
   "cell_type": "code",
   "execution_count": 130,
   "metadata": {
    "collapsed": false,
    "deletable": true,
    "editable": true
   },
   "outputs": [
    {
     "data": {
      "text/html": [
       "<div>\n",
       "<style scoped>\n",
       "    .dataframe tbody tr th:only-of-type {\n",
       "        vertical-align: middle;\n",
       "    }\n",
       "\n",
       "    .dataframe tbody tr th {\n",
       "        vertical-align: top;\n",
       "    }\n",
       "\n",
       "    .dataframe thead th {\n",
       "        text-align: right;\n",
       "    }\n",
       "</style>\n",
       "<table border=\"1\" class=\"dataframe\">\n",
       "  <thead>\n",
       "    <tr style=\"text-align: right;\">\n",
       "      <th></th>\n",
       "      <th>date</th>\n",
       "      <th>orders_a</th>\n",
       "      <th>revenue_a</th>\n",
       "      <th>avg_payment_a</th>\n",
       "      <th>orders_b</th>\n",
       "      <th>revenue_b</th>\n",
       "      <th>avg_payment_b</th>\n",
       "    </tr>\n",
       "  </thead>\n",
       "  <tbody>\n",
       "    <tr>\n",
       "      <th>0</th>\n",
       "      <td>2019-08-01</td>\n",
       "      <td>24</td>\n",
       "      <td>148579</td>\n",
       "      <td>6190.791667</td>\n",
       "      <td>21</td>\n",
       "      <td>101217</td>\n",
       "      <td>4819.857143</td>\n",
       "    </tr>\n",
       "    <tr>\n",
       "      <th>1</th>\n",
       "      <td>2019-08-02</td>\n",
       "      <td>44</td>\n",
       "      <td>242401</td>\n",
       "      <td>5509.113636</td>\n",
       "      <td>45</td>\n",
       "      <td>266748</td>\n",
       "      <td>5927.733333</td>\n",
       "    </tr>\n",
       "    <tr>\n",
       "      <th>2</th>\n",
       "      <td>2019-08-03</td>\n",
       "      <td>68</td>\n",
       "      <td>354874</td>\n",
       "      <td>5218.735294</td>\n",
       "      <td>61</td>\n",
       "      <td>380996</td>\n",
       "      <td>6245.836066</td>\n",
       "    </tr>\n",
       "    <tr>\n",
       "      <th>3</th>\n",
       "      <td>2019-08-04</td>\n",
       "      <td>84</td>\n",
       "      <td>425699</td>\n",
       "      <td>5067.845238</td>\n",
       "      <td>78</td>\n",
       "      <td>489567</td>\n",
       "      <td>6276.500000</td>\n",
       "    </tr>\n",
       "    <tr>\n",
       "      <th>4</th>\n",
       "      <td>2019-08-05</td>\n",
       "      <td>109</td>\n",
       "      <td>549917</td>\n",
       "      <td>5045.110092</td>\n",
       "      <td>101</td>\n",
       "      <td>581995</td>\n",
       "      <td>5762.326733</td>\n",
       "    </tr>\n",
       "  </tbody>\n",
       "</table>\n",
       "</div>"
      ],
      "text/plain": [
       "        date  orders_a  revenue_a  avg_payment_a  orders_b  revenue_b  \\\n",
       "0 2019-08-01        24     148579    6190.791667        21     101217   \n",
       "1 2019-08-02        44     242401    5509.113636        45     266748   \n",
       "2 2019-08-03        68     354874    5218.735294        61     380996   \n",
       "3 2019-08-04        84     425699    5067.845238        78     489567   \n",
       "4 2019-08-05       109     549917    5045.110092       101     581995   \n",
       "\n",
       "   avg_payment_b  \n",
       "0    4819.857143  \n",
       "1    5927.733333  \n",
       "2    6245.836066  \n",
       "3    6276.500000  \n",
       "4    5762.326733  "
      ]
     },
     "execution_count": 130,
     "metadata": {},
     "output_type": "execute_result"
    }
   ],
   "source": [
    "\n",
    "cum_rev_orders_a = avg_payment('A')\n",
    "cum_rev_orders_b = avg_payment('B')\n",
    "\n",
    "cum_rev_orders_all = cum_rev_orders_a.merge(cum_rev_orders_b, on='date', suffixes=('_a', '_b'))\n",
    "cum_rev_orders_all.head()"
   ]
  },
  {
   "cell_type": "code",
   "execution_count": 131,
   "metadata": {
    "collapsed": false,
    "deletable": true,
    "editable": true
   },
   "outputs": [
    {
     "data": {
      "image/png": "[encoded data removed]",
      "text/plain": [
       "<Figure size 1008x288 with 1 Axes>"
      ]
     },
     "metadata": {},
     "output_type": "display_data"
    }
   ],
   "source": [
    "sns.set(style='darkgrid')\n",
    "plt.figure(figsize=(14,4))\n",
    "sns.lineplot(x='date', y='avg_payment_a', label='group A', color='green', data=cum_rev_orders_all, lw=2)\n",
    "sns.lineplot(x='date', y='avg_payment_b', label='group B', color='blue', data=cum_rev_orders_all, lw=2)\n",
    "plt.xticks(cum_rev_orders_all['date'], rotation=90)\n",
    "plt.title('Cumulative average payment by group', fontweight='bold')\n",
    "plt.show()"
   ]
  },
  {
   "cell_type": "markdown",
   "metadata": {
    "deletable": true,
    "editable": true
   },
   "source": [
    "умулятивное значение среднего чека по группе А превышало значение группы B только в первый день анализируемого периода, а также с 11 по 15 августа. По группе B с 9 по 15 августа наблюдается просадка, однако 19 августа происходит резкий рост значения, что соответствует и результатам, полученным по выручке. Таким образом, предполагаю, что аномалия связана именно с показателем выручки, а не с количеством заказов. То есть, имел место аномально дорогой заказ."
   ]
  },
  {
   "cell_type": "markdown",
   "metadata": {
    "deletable": true,
    "editable": true
   },
   "source": [
    "---\n",
    "\n",
    "### Комментарий наставника\n",
    "\n",
    "Логичное предположение. Вполне могло быть и так, но в эти периоды также наблюдаются тренды. То есть, нельзя точно сказать, что это было единоразово. График постепенно увеличивался. \n",
    "\n",
    "Тут, опять же, может быть ещё что-то, что повлияло на увеличение чека\n",
    "\n",
    "---"
   ]
  },
  {
   "cell_type": "markdown",
   "metadata": {
    "deletable": true,
    "editable": true
   },
   "source": [
    "#### График относительного изменения кумулятивного среднего чека группы B к группе A"
   ]
  },
  {
   "cell_type": "code",
   "execution_count": 132,
   "metadata": {
    "collapsed": false,
    "deletable": true,
    "editable": true
   },
   "outputs": [
    {
     "data": {
      "image/png": "[encoded data removed]",
      "text/plain": [
       "<Figure size 1008x288 with 1 Axes>"
      ]
     },
     "metadata": {},
     "output_type": "display_data"
    }
   ],
   "source": [
    "cum_rev_orders_all['avg_payment_change'] = cum_rev_orders_all['avg_payment_b'] / \\\n",
    "cum_rev_orders_all['avg_payment_a'] - 1\n",
    "\n",
    "# строю график относительного различия кумулятивного среднего чека\n",
    "sns.set(style='darkgrid')\n",
    "plt.figure(figsize=(14,4))\n",
    "sns.lineplot(x='date', y='avg_payment_change', color='coral', data=cum_rev_orders_all, lw=2)\n",
    "plt.xticks(cum_rev_orders_all['date'], rotation=90)\n",
    "plt.axhline(y=0, color='gray', linestyle='--')\n",
    "plt.title('Cumulative average payment change', fontweight='bold')\n",
    "plt.show()"
   ]
  },
  {
   "cell_type": "markdown",
   "metadata": {
    "deletable": true,
    "editable": true
   },
   "source": [
    "График относительного различия кумулятивного среднего чека в целом подтверждает выводы, полученные выше: почти на всём рассматриваемом периоде кумулятивное значение среднего чека группы B превышало этот показатель для группы A. Различие в значениях резко возрасло 19 августа, однако после стало сокращаться. Тем не менее, к концу анализируемого периода разрыв по-прежнему остаётся существенным."
   ]
  },
  {
   "cell_type": "markdown",
   "metadata": {
    "deletable": true,
    "editable": true
   },
   "source": [
    "#### График кумулятивной конверсии по группам"
   ]
  },
  {
   "cell_type": "markdown",
   "metadata": {
    "deletable": true,
    "editable": true
   },
   "source": [
    "Для расчёта кумулятивной конверсии необходимы следующие значения: кумулятивное число посетителей, кумулятивное число заказов. Второй показатель уже был рассчитан выше, рассчитываю первый."
   ]
  },
  {
   "cell_type": "code",
   "execution_count": 133,
   "metadata": {
    "collapsed": true,
    "deletable": true,
    "editable": true
   },
   "outputs": [],
   "source": [
    "# функция для расчёта кумулятивного числа посетителей по группам\n",
    "def cum_visitors(group_name):\n",
    "    visitors_group = visitors.query('group == @group_name')\n",
    "    \n",
    "    cum_visitors_group = visitors_group.apply(lambda x: visitors_group[visitors_group['date'] <= x['date']].\\\n",
    "                                           agg({'date' : 'max', 'visitors' : 'sum'}), axis=1).sort_values(by=['date'])\n",
    "    \n",
    "    return pd.DataFrame(cum_visitors_group)"
   ]
  },
  {
   "cell_type": "code",
   "execution_count": 134,
   "metadata": {
    "collapsed": false,
    "deletable": true,
    "editable": true
   },
   "outputs": [
    {
     "data": {
      "text/html": [
       "<div>\n",
       "<style scoped>\n",
       "    .dataframe tbody tr th:only-of-type {\n",
       "        vertical-align: middle;\n",
       "    }\n",
       "\n",
       "    .dataframe tbody tr th {\n",
       "        vertical-align: top;\n",
       "    }\n",
       "\n",
       "    .dataframe thead th {\n",
       "        text-align: right;\n",
       "    }\n",
       "</style>\n",
       "<table border=\"1\" class=\"dataframe\">\n",
       "  <thead>\n",
       "    <tr style=\"text-align: right;\">\n",
       "      <th></th>\n",
       "      <th>date</th>\n",
       "      <th>visitors_a</th>\n",
       "      <th>visitors_b</th>\n",
       "    </tr>\n",
       "  </thead>\n",
       "  <tbody>\n",
       "    <tr>\n",
       "      <th>0</th>\n",
       "      <td>2019-08-01</td>\n",
       "      <td>719</td>\n",
       "      <td>713</td>\n",
       "    </tr>\n",
       "    <tr>\n",
       "      <th>1</th>\n",
       "      <td>2019-08-02</td>\n",
       "      <td>1338</td>\n",
       "      <td>1294</td>\n",
       "    </tr>\n",
       "    <tr>\n",
       "      <th>2</th>\n",
       "      <td>2019-08-03</td>\n",
       "      <td>1845</td>\n",
       "      <td>1803</td>\n",
       "    </tr>\n",
       "    <tr>\n",
       "      <th>3</th>\n",
       "      <td>2019-08-04</td>\n",
       "      <td>2562</td>\n",
       "      <td>2573</td>\n",
       "    </tr>\n",
       "    <tr>\n",
       "      <th>4</th>\n",
       "      <td>2019-08-05</td>\n",
       "      <td>3318</td>\n",
       "      <td>3280</td>\n",
       "    </tr>\n",
       "  </tbody>\n",
       "</table>\n",
       "</div>"
      ],
      "text/plain": [
       "        date  visitors_a  visitors_b\n",
       "0 2019-08-01         719         713\n",
       "1 2019-08-02        1338        1294\n",
       "2 2019-08-03        1845        1803\n",
       "3 2019-08-04        2562        2573\n",
       "4 2019-08-05        3318        3280"
      ]
     },
     "execution_count": 134,
     "metadata": {},
     "output_type": "execute_result"
    }
   ],
   "source": [
    "cum_visitors_a = cum_visitors('A')\n",
    "cum_visitors_b = cum_visitors('B')\n",
    "\n",
    "cum_visitors_all = cum_visitors_a.merge(cum_visitors_b, on='date', suffixes=('_a', '_b'))\n",
    "cum_visitors_all.head()"
   ]
  },
  {
   "cell_type": "code",
   "execution_count": 135,
   "metadata": {
    "collapsed": false,
    "deletable": true,
    "editable": true
   },
   "outputs": [
    {
     "data": {
      "text/html": [
       "<div>\n",
       "<style scoped>\n",
       "    .dataframe tbody tr th:only-of-type {\n",
       "        vertical-align: middle;\n",
       "    }\n",
       "\n",
       "    .dataframe tbody tr th {\n",
       "        vertical-align: top;\n",
       "    }\n",
       "\n",
       "    .dataframe thead th {\n",
       "        text-align: right;\n",
       "    }\n",
       "</style>\n",
       "<table border=\"1\" class=\"dataframe\">\n",
       "  <thead>\n",
       "    <tr style=\"text-align: right;\">\n",
       "      <th></th>\n",
       "      <th>date</th>\n",
       "      <th>visitors_a</th>\n",
       "      <th>visitors_b</th>\n",
       "      <th>orders_a</th>\n",
       "      <th>orders_b</th>\n",
       "      <th>conversion_a</th>\n",
       "      <th>conversion_b</th>\n",
       "    </tr>\n",
       "  </thead>\n",
       "  <tbody>\n",
       "    <tr>\n",
       "      <th>0</th>\n",
       "      <td>2019-08-01</td>\n",
       "      <td>719</td>\n",
       "      <td>713</td>\n",
       "      <td>24</td>\n",
       "      <td>21</td>\n",
       "      <td>0.033380</td>\n",
       "      <td>0.029453</td>\n",
       "    </tr>\n",
       "    <tr>\n",
       "      <th>1</th>\n",
       "      <td>2019-08-02</td>\n",
       "      <td>1338</td>\n",
       "      <td>1294</td>\n",
       "      <td>44</td>\n",
       "      <td>45</td>\n",
       "      <td>0.032885</td>\n",
       "      <td>0.034776</td>\n",
       "    </tr>\n",
       "    <tr>\n",
       "      <th>2</th>\n",
       "      <td>2019-08-03</td>\n",
       "      <td>1845</td>\n",
       "      <td>1803</td>\n",
       "      <td>68</td>\n",
       "      <td>61</td>\n",
       "      <td>0.036856</td>\n",
       "      <td>0.033833</td>\n",
       "    </tr>\n",
       "    <tr>\n",
       "      <th>3</th>\n",
       "      <td>2019-08-04</td>\n",
       "      <td>2562</td>\n",
       "      <td>2573</td>\n",
       "      <td>84</td>\n",
       "      <td>78</td>\n",
       "      <td>0.032787</td>\n",
       "      <td>0.030315</td>\n",
       "    </tr>\n",
       "    <tr>\n",
       "      <th>4</th>\n",
       "      <td>2019-08-05</td>\n",
       "      <td>3318</td>\n",
       "      <td>3280</td>\n",
       "      <td>109</td>\n",
       "      <td>101</td>\n",
       "      <td>0.032851</td>\n",
       "      <td>0.030793</td>\n",
       "    </tr>\n",
       "  </tbody>\n",
       "</table>\n",
       "</div>"
      ],
      "text/plain": [
       "        date  visitors_a  visitors_b  orders_a  orders_b  conversion_a  \\\n",
       "0 2019-08-01         719         713        24        21      0.033380   \n",
       "1 2019-08-02        1338        1294        44        45      0.032885   \n",
       "2 2019-08-03        1845        1803        68        61      0.036856   \n",
       "3 2019-08-04        2562        2573        84        78      0.032787   \n",
       "4 2019-08-05        3318        3280       109       101      0.032851   \n",
       "\n",
       "   conversion_b  \n",
       "0      0.029453  \n",
       "1      0.034776  \n",
       "2      0.033833  \n",
       "3      0.030315  \n",
       "4      0.030793  "
      ]
     },
     "execution_count": 135,
     "metadata": {},
     "output_type": "execute_result"
    }
   ],
   "source": [
    "cum_conversion = cum_visitors_all.merge(cum_rev_orders_all[['date', 'orders_a', 'orders_b']], on='date')\n",
    "\n",
    "# расчёт конверсии по группам\n",
    "cum_conversion['conversion_a'] = cum_conversion['orders_a'] / cum_conversion['visitors_a']\n",
    "cum_conversion['conversion_b'] = cum_conversion['orders_b'] / cum_conversion['visitors_b']\n",
    "cum_conversion.head()"
   ]
  },
  {
   "cell_type": "code",
   "execution_count": 136,
   "metadata": {
    "collapsed": false,
    "deletable": true,
    "editable": true
   },
   "outputs": [
    {
     "data": {
      "image/png": "[encoded data removed]",
      "text/plain": [
       "<Figure size 1008x288 with 1 Axes>"
      ]
     },
     "metadata": {},
     "output_type": "display_data"
    }
   ],
   "source": [
    "sns.set(style='darkgrid')\n",
    "plt.figure(figsize=(14,4))\n",
    "sns.lineplot(x='date', y='conversion_a', label='group A', color='green', data=cum_conversion, lw=2)\n",
    "sns.lineplot(x='date', y='conversion_b', label='group B', color='blue', data=cum_conversion, lw=2)\n",
    "plt.xticks(cum_conversion['date'], rotation=90)\n",
    "plt.title('Cumulative conversion by group', fontweight='bold')\n",
    "plt.show()"
   ]
  },
  {
   "cell_type": "markdown",
   "metadata": {
    "deletable": true,
    "editable": true
   },
   "source": [
    "Значение конверсии по группам колеблется от 3 до 4%. В начале периода значение конверсии по группе A было выше, чем по группе B (за исключением 2-го августа). Однако, с 4-5-го августа значение конверсии по группе B начало расти, а по группе A снижаться. С 6-го августа значение конверсии по группе B превышает значение по группе A. Разрыв немного сокращается к концу периода."
   ]
  },
  {
   "cell_type": "markdown",
   "metadata": {
    "deletable": true,
    "editable": true
   },
   "source": [
    "#### График относительного изменения кумулятивной конверсии группы B к группе A"
   ]
  },
  {
   "cell_type": "code",
   "execution_count": 137,
   "metadata": {
    "collapsed": false,
    "deletable": true,
    "editable": true
   },
   "outputs": [
    {
     "data": {
      "image/png": "[encoded data removed]",
      "text/plain": [
       "<Figure size 1008x288 with 1 Axes>"
      ]
     },
     "metadata": {},
     "output_type": "display_data"
    }
   ],
   "source": [
    "cum_conversion['conversion_change'] = cum_conversion['conversion_b'] / \\\n",
    "cum_conversion['conversion_a'] - 1\n",
    "\n",
    "# строю график относительного различия кумулятивного среднего чека\n",
    "sns.set(style='darkgrid')\n",
    "plt.figure(figsize=(14,4))\n",
    "sns.lineplot(x='date', y='conversion_change', color='coral', data=cum_conversion, lw=2)\n",
    "plt.xticks(cum_conversion['date'], rotation=90)\n",
    "plt.axhline(y=0, color='gray', linestyle='--')\n",
    "plt.title('Cumulative conversion change', fontweight='bold')\n",
    "plt.show()\n"
   ]
  },
  {
   "cell_type": "markdown",
   "metadata": {
    "deletable": true,
    "editable": true
   },
   "source": [
    "\n",
    "Значение кумулятивной конверсии по группе B стабильно возрастает по отношению к группе A с 3 по 10 августа, дальше наблюдаются колебания. Тем не менее, на протяжении всего периода с 6-го августа кумулятивное значение конверсии по группе B превышает значения по группе A. Со временем разрыв немного сокращается, однако в последние дни периода снова начинает расти."
   ]
  },
  {
   "cell_type": "markdown",
   "metadata": {
    "deletable": true,
    "editable": true
   },
   "source": [
    "#### Точечный график количества заказов по пользователям"
   ]
  },
  {
   "cell_type": "code",
   "execution_count": 139,
   "metadata": {
    "collapsed": false,
    "deletable": true,
    "editable": true
   },
   "outputs": [
    {
     "data": {
      "text/html": [
       "<div>\n",
       "<style scoped>\n",
       "    .dataframe tbody tr th:only-of-type {\n",
       "        vertical-align: middle;\n",
       "    }\n",
       "\n",
       "    .dataframe tbody tr th {\n",
       "        vertical-align: top;\n",
       "    }\n",
       "\n",
       "    .dataframe thead th {\n",
       "        text-align: right;\n",
       "    }\n",
       "</style>\n",
       "<table border=\"1\" class=\"dataframe\">\n",
       "  <thead>\n",
       "    <tr style=\"text-align: right;\">\n",
       "      <th></th>\n",
       "      <th>visitor_id</th>\n",
       "      <th>orders</th>\n",
       "    </tr>\n",
       "  </thead>\n",
       "  <tbody>\n",
       "    <tr>\n",
       "      <th>1023</th>\n",
       "      <td>4256040402</td>\n",
       "      <td>11</td>\n",
       "    </tr>\n",
       "    <tr>\n",
       "      <th>591</th>\n",
       "      <td>2458001652</td>\n",
       "      <td>11</td>\n",
       "    </tr>\n",
       "    <tr>\n",
       "      <th>569</th>\n",
       "      <td>2378935119</td>\n",
       "      <td>9</td>\n",
       "    </tr>\n",
       "    <tr>\n",
       "      <th>487</th>\n",
       "      <td>2038680547</td>\n",
       "      <td>8</td>\n",
       "    </tr>\n",
       "    <tr>\n",
       "      <th>44</th>\n",
       "      <td>199603092</td>\n",
       "      <td>5</td>\n",
       "    </tr>\n",
       "    <tr>\n",
       "      <th>744</th>\n",
       "      <td>3062433592</td>\n",
       "      <td>5</td>\n",
       "    </tr>\n",
       "    <tr>\n",
       "      <th>55</th>\n",
       "      <td>237748145</td>\n",
       "      <td>5</td>\n",
       "    </tr>\n",
       "    <tr>\n",
       "      <th>917</th>\n",
       "      <td>3803269165</td>\n",
       "      <td>5</td>\n",
       "    </tr>\n",
       "    <tr>\n",
       "      <th>299</th>\n",
       "      <td>1230306981</td>\n",
       "      <td>5</td>\n",
       "    </tr>\n",
       "    <tr>\n",
       "      <th>897</th>\n",
       "      <td>3717692402</td>\n",
       "      <td>5</td>\n",
       "    </tr>\n",
       "  </tbody>\n",
       "</table>\n",
       "</div>"
      ],
      "text/plain": [
       "      visitor_id  orders\n",
       "1023  4256040402      11\n",
       "591   2458001652      11\n",
       "569   2378935119       9\n",
       "487   2038680547       8\n",
       "44     199603092       5\n",
       "744   3062433592       5\n",
       "55     237748145       5\n",
       "917   3803269165       5\n",
       "299   1230306981       5\n",
       "897   3717692402       5"
      ]
     },
     "execution_count": 139,
     "metadata": {},
     "output_type": "execute_result"
    }
   ],
   "source": [
    "# рассчитываю количество заказов, совершённых каждым пользователем\n",
    "orders_by_users = orders.drop(['group', 'revenue', 'date'], axis=1).\\\n",
    "groupby('visitor_id', as_index=False).agg({'transaction_id' : pd.Series.nunique})\n",
    "\n",
    "orders_by_users.columns = ['visitor_id','orders']\n",
    "\n",
    "orders_by_users.sort_values(by='orders',ascending=False).head(10)"
   ]
  },
  {
   "cell_type": "code",
   "execution_count": 154,
   "metadata": {
    "collapsed": false,
    "deletable": true,
    "editable": true
   },
   "outputs": [
    {
     "data": {
      "image/png": "[encoded data removed]",
      "text/plain": [
       "<Figure size 1008x576 with 1 Axes>"
      ]
     },
     "metadata": {},
     "output_type": "display_data"
    }
   ],
   "source": [
    "x_values = pd.Series(range(0,len(orders_by_users)))\n",
    "\n",
    "plt.scatter(x_values, orders_by_users['orders'])\n",
    "plt.title('Scatter plot of the number of orders per user', fontweight='bold')\n",
    "plt.show()"
   ]
  },
  {
   "cell_type": "markdown",
   "metadata": {
    "deletable": true,
    "editable": true
   },
   "source": [
    "\n",
    "На графике видно, что большинство пользователей совершают 1-2 заказа. Однако, есть и те, которые совершают более 6 заказов. Очевидно, что есть выбросы, необходимо в дальнейшем определить границу для них."
   ]
  },
  {
   "cell_type": "markdown",
   "metadata": {
    "deletable": true,
    "editable": true
   },
   "source": [
    "---\n",
    "\n",
    "### Комментарий наставника\n",
    "\n",
    "Да, твои наблюдения справедливы. Молодец.\n",
    "\n",
    "---"
   ]
  },
  {
   "cell_type": "markdown",
   "metadata": {
    "deletable": true,
    "editable": true
   },
   "source": [
    "#### Расчёт 95-го и 99-го перцентилей количества заказов на пользователя, выбор границы для определения аномальных пользователей"
   ]
  },
  {
   "cell_type": "code",
   "execution_count": 141,
   "metadata": {
    "collapsed": false,
    "deletable": true,
    "editable": true
   },
   "outputs": [
    {
     "data": {
      "text/plain": [
       "array([2., 4.])"
      ]
     },
     "execution_count": 141,
     "metadata": {},
     "output_type": "execute_result"
    }
   ],
   "source": [
    "np.percentile(orders_by_users['orders'], [95, 99])"
   ]
  },
  {
   "cell_type": "markdown",
   "metadata": {
    "deletable": true,
    "editable": true
   },
   "source": [
    "Таким образом, получаю, что не более 5% пользователей совершают более 2-х заказов, и лишь 1% пользователей совершают более 4-х заказов.\n",
    "\n",
    "Выбираю 4 заказа на одного пользователя за нижнюю границу числа заказов, по которой буду отсеивать аномальных пользователей."
   ]
  },
  {
   "cell_type": "markdown",
   "metadata": {
    "deletable": true,
    "editable": true
   },
   "source": [
    "---\n",
    "\n",
    "### Комментарий наставника\n",
    "\n",
    "Почему бы и нет...\n",
    "\n",
    "---"
   ]
  },
  {
   "cell_type": "markdown",
   "metadata": {
    "deletable": true,
    "editable": true
   },
   "source": [
    "#### Точечный график стоимостей заказов"
   ]
  },
  {
   "cell_type": "code",
   "execution_count": 155,
   "metadata": {
    "collapsed": false,
    "deletable": true,
    "editable": true
   },
   "outputs": [
    {
     "data": {
      "image/png": "[encoded data removed]",
      "text/plain": [
       "<Figure size 1008x576 with 1 Axes>"
      ]
     },
     "metadata": {},
     "output_type": "display_data"
    }
   ],
   "source": [
    "\n",
    "x_values = pd.Series(range(0,len(orders['revenue'])))\n",
    "\n",
    "plt.scatter(x_values, orders['revenue'])\n",
    "plt.title('Scatter plot of  order values', fontweight='bold')\n",
    "plt.show()"
   ]
  },
  {
   "cell_type": "markdown",
   "metadata": {
    "deletable": true,
    "editable": true
   },
   "source": [
    "\n",
    "На графике сразу видно аномально высокое значение. Ниже поставлю ограничение по оси дохода."
   ]
  },
  {
   "cell_type": "code",
   "execution_count": 143,
   "metadata": {
    "collapsed": false,
    "deletable": true,
    "editable": true
   },
   "outputs": [
    {
     "data": {
      "image/png": "[encoded data removed]",
      "text/plain": [
       "<Figure size 1008x576 with 1 Axes>"
      ]
     },
     "metadata": {},
     "output_type": "display_data"
    }
   ],
   "source": [
    "plt.scatter(x_values, orders['revenue'])\n",
    "plt.ylim(0, 100000)\n",
    "plt.show()"
   ]
  },
  {
   "cell_type": "markdown",
   "metadata": {
    "deletable": true,
    "editable": true
   },
   "source": [
    "На данном графике более наглядно видно, что большинство заказов не превосходит по стоимости 40 000. Однако, существуют и те, стоимость которых существенно выше. Далее необходимо будет определить границу для таких выбросов."
   ]
  },
  {
   "cell_type": "markdown",
   "metadata": {
    "deletable": true,
    "editable": true
   },
   "source": [
    "#### Расчёт 95-го и 99-го перцентилей стоимости заказов, выбор границы для определения аномальных заказов"
   ]
  },
  {
   "cell_type": "markdown",
   "metadata": {
    "deletable": true,
    "editable": true
   },
   "source": [
    "np.percentile(orders['revenue'], [95, 99])"
   ]
  },
  {
   "cell_type": "markdown",
   "metadata": {
    "deletable": true,
    "editable": true
   },
   "source": [
    "Получаю, что не более 5% заказов осуществляются на сумму более 28 000. Лишь 1% заказов по стоимости превосходит порядка 58 000.\n",
    "\n",
    "Выбираю стоимость в 30 000 за нижнюю границу числа заказов, по которой буду отсеивать аномальные заказы."
   ]
  },
  {
   "cell_type": "code",
   "execution_count": 146,
   "metadata": {
    "collapsed": false,
    "deletable": true,
    "editable": true
   },
   "outputs": [
    {
     "data": {
      "text/plain": [
       "date\n",
       "2019-08-19    1327905\n",
       "2019-08-15     202740\n",
       "2019-08-08     116770\n",
       "2019-08-30     114720\n",
       "2019-08-29     109980\n",
       "Name: revenue, dtype: int64"
      ]
     },
     "execution_count": 146,
     "metadata": {},
     "output_type": "execute_result"
    }
   ],
   "source": [
    "orders.query('group == \"B\" & revenue > 30000').groupby('date')['revenue'].sum().sort_values(ascending=False).head(5)"
   ]
  },
  {
   "cell_type": "markdown",
   "metadata": {
    "deletable": true,
    "editable": true
   },
   "source": [
    "Отмечаю, что именно на 19 августа приходится самая аномально высокая стоимость покупок."
   ]
  },
  {
   "cell_type": "markdown",
   "metadata": {
    "deletable": true,
    "editable": true
   },
   "source": [
    "---\n",
    "\n",
    "### Комментарий наставника\n",
    "\n",
    "Видимо, зашел щедрый и обеспеченный покупатель :)\n",
    "\n",
    "---"
   ]
  },
  {
   "cell_type": "markdown",
   "metadata": {
    "deletable": true,
    "editable": true
   },
   "source": [
    "#### Расчёт статистической значимости различий в конверсии между группами по «сырым» данным"
   ]
  },
  {
   "cell_type": "markdown",
   "metadata": {
    "deletable": true,
    "editable": true
   },
   "source": [
    "Для расчёта применяю непараметрический тест Уилкоксона-Манна-Уитни. Для этого необходимо сформировать отдельные выборки по группам."
   ]
  },
  {
   "cell_type": "code",
   "execution_count": 148,
   "metadata": {
    "collapsed": false,
    "deletable": true,
    "editable": true
   },
   "outputs": [
    {
     "name": "stdout",
     "output_type": "stream",
     "text": [
      "p-значение:  0.008\n",
      "Отвергаем нулевую гипотезу: разница статистически значима\n",
      "Относительный прирост конверсии группы B: 0.138\n"
     ]
    }
   ],
   "source": [
    "# определяю число заказов для каждого пользователя из группы А\n",
    "orders_by_users_a = orders[orders['group']=='A'].groupby('visitor_id', as_index=False).\\\n",
    "agg({'transaction_id' : pd.Series.nunique})\n",
    "orders_by_users_a.columns = ['visitor_id', 'orders']\n",
    "\n",
    "# определяю число заказов для каждого пользователя из группы B\n",
    "orders_by_users_b = orders[orders['group']=='B'].groupby('visitor_id', as_index=False).\\\n",
    "agg({'transaction_id' : pd.Series.nunique})\n",
    "orders_by_users_b.columns = ['visitor_id', 'orders']\n",
    "\n",
    "# формирую выборку для группы A, посетителям, которые не совершили заказ будет соответствовать 0\n",
    "sample_a = pd.concat([orders_by_users_a['orders'], pd.Series(0, index=np.arange(visitors.query('group == \"A\"')\\\n",
    "                    ['visitors'].sum() - len(orders_by_users_a['orders'])), name='orders')],axis=0)\n",
    "\n",
    "# формирую выборку для группы B, посетителям, которые не совершили заказ будет соответствовать 0\n",
    "sample_b = pd.concat([orders_by_users_b['orders'], pd.Series(0, index=np.arange(visitors.query('group == \"B\"')\\\n",
    "                    ['visitors'].sum() - len(orders_by_users_b['orders'])), name='orders')],axis=0)\n",
    "\n",
    "# критический уровень статистической значимости\n",
    "alpha = .05 \n",
    "\n",
    "results = st.mannwhitneyu(sample_a, sample_b)\n",
    "\n",
    "print('p-значение: ', \"{0:.3f}\".format(results.pvalue))\n",
    "\n",
    "if (results.pvalue < alpha):\n",
    "    print(\"Отвергаем нулевую гипотезу: разница статистически значима\")\n",
    "else:\n",
    "    print(\"Не получилось отвергнуть нулевую гипотезу, вывод о различии сделать нельзя\")\n",
    "\n",
    "print('Относительный прирост конверсии группы B:', \"{0:.3f}\".format(sample_b.mean()/sample_a.mean()-1))"
   ]
  },
  {
   "cell_type": "markdown",
   "metadata": {
    "deletable": true,
    "editable": true
   },
   "source": [
    "Получаю вывод, что прирост конверсии группы B составил почти 14%, и эта разница статистически значима. То есть по данному параметру можно говорить о том, что был достигнут рост конверсии."
   ]
  },
  {
   "cell_type": "markdown",
   "metadata": {
    "deletable": true,
    "editable": true
   },
   "source": [
    "---\n",
    "\n",
    "### Комментарий наставника\n",
    "\n",
    "Здорово. Однако здесь не помешало бы обоснование выбора твоего статистического критерия\n",
    "\n",
    "---"
   ]
  },
  {
   "cell_type": "markdown",
   "metadata": {
    "deletable": true,
    "editable": true
   },
   "source": [
    "#### Расчёт статистической значимости различий в среднем чеке заказа между группами по «сырым» данным"
   ]
  },
  {
   "cell_type": "code",
   "execution_count": 149,
   "metadata": {
    "collapsed": false,
    "deletable": true,
    "editable": true
   },
   "outputs": [
    {
     "name": "stdout",
     "output_type": "stream",
     "text": [
      "p-значение:  0.365\n",
      "Не получилось отвергнуть нулевую гипотезу, вывод о различии сделать нельзя\n",
      "Относительный прирост среднего чека группы B: 0.259\n"
     ]
    }
   ],
   "source": [
    "# формирую выборку для группы A\n",
    "sample_a_new = orders[orders['group']=='A']['revenue']\n",
    "\n",
    "# формирую выборку для группы B\n",
    "sample_b_new = orders[orders['group']=='B']['revenue']\n",
    "\n",
    "# критический уровень статистической значимости\n",
    "alpha = .05 \n",
    "\n",
    "results = st.mannwhitneyu(sample_a_new, sample_b_new)\n",
    "\n",
    "print('p-значение: ', \"{0:.3f}\".format(results.pvalue))\n",
    "\n",
    "if (results.pvalue < alpha):\n",
    "    print(\"Отвергаем нулевую гипотезу: разница статистически значима\")\n",
    "else:\n",
    "    print(\"Не получилось отвергнуть нулевую гипотезу, вывод о различии сделать нельзя\")\n",
    "\n",
    "print('Относительный прирост среднего чека группы B:', \"{0:.3f}\".format(sample_b_new.mean()/sample_a_new.mean()-1))"
   ]
  },
  {
   "cell_type": "markdown",
   "metadata": {
    "deletable": true,
    "editable": true
   },
   "source": [
    "Получаю вывод, что хотя прирост среднего чека группы B составил почти 26%, эта разница статистически незначима. То есть по данному параметру нельзя говорить о том, что был достигнут значимый рост среднего чека."
   ]
  },
  {
   "cell_type": "markdown",
   "metadata": {
    "deletable": true,
    "editable": true
   },
   "source": [
    "#### Расчёт статистической значимости различий в конверсии между группами по «очищенным» данным"
   ]
  },
  {
   "cell_type": "markdown",
   "metadata": {
    "deletable": true,
    "editable": true
   },
   "source": [
    "Выше было принято, что за аномальных пользователей беру тех, кто совершил более 4-х заказов или совершил заказ дороже 30 000 рублей. Определю аномальных пользователей."
   ]
  },
  {
   "cell_type": "code",
   "execution_count": 150,
   "metadata": {
    "collapsed": false,
    "deletable": true,
    "editable": true
   },
   "outputs": [
    {
     "name": "stdout",
     "output_type": "stream",
     "text": [
      "53\n"
     ]
    }
   ],
   "source": [
    "# выделяю тех пользователей, которые совершили более 4-х заказов\n",
    "users_with_many_orders = pd.concat([orders_by_users_a[orders_by_users_a['orders'] > 4]['visitor_id'], \\\n",
    "                                    orders_by_users_b[orders_by_users_b['orders'] > 4]['visitor_id']], axis = 0)\n",
    "\n",
    "# выделяю тех пользователей, которые совершили заказ на сумму более 30 000\n",
    "users_with_expensive_orders = orders[orders['revenue'] > 30000]['visitor_id']\n",
    "\n",
    "# формирую таблицу аномальных пользователей\n",
    "abnormal_users = pd.concat([users_with_many_orders, users_with_expensive_orders], axis = 0).drop_duplicates().\\\n",
    "sort_values()\n",
    "\n",
    "print(abnormal_users.shape[0])"
   ]
  },
  {
   "cell_type": "markdown",
   "metadata": {
    "deletable": true,
    "editable": true
   },
   "source": [
    "Получаю, что всего пользователей с аномальными значениями - 53 (это порядка 4-5% от всех покупателей)."
   ]
  },
  {
   "cell_type": "code",
   "execution_count": 151,
   "metadata": {
    "collapsed": false,
    "deletable": true,
    "editable": true
   },
   "outputs": [
    {
     "name": "stdout",
     "output_type": "stream",
     "text": [
      "p-значение:  0.009\n",
      "Отвергаем нулевую гипотезу: разница статистически значима\n",
      "Относительный прирост конверсии группы B: 0.144\n"
     ]
    }
   ],
   "source": [
    "sample_a_filtered = pd.concat([orders_by_users_a[np.logical_not(orders_by_users_a['visitor_id'].\\\n",
    "                            isin(abnormal_users))]['orders'],pd.Series(0, index=np.arange(visitors.\\\n",
    "                            query('group == \"A\"')['visitors'].sum() - len(orders_by_users_a['orders'])),\\\n",
    "                                                                       name='orders')],axis=0)\n",
    "\n",
    "# формирую выборку для группы B, исключая аномальных пользователей\n",
    "sample_b_filtered = pd.concat([orders_by_users_b[np.logical_not(orders_by_users_b['visitor_id'].\\\n",
    "                            isin(abnormal_users))]['orders'],pd.Series(0, index=np.arange(visitors.\\\n",
    "                            query('group == \"B\"')['visitors'].sum() - len(orders_by_users_b['orders'])),\\\n",
    "                                                                       name='orders')],axis=0)\n",
    "\n",
    "# критический уровень статистической значимости\n",
    "alpha = .05 \n",
    "\n",
    "results = st.mannwhitneyu(sample_a_filtered, sample_b_filtered)\n",
    "\n",
    "print('p-значение: ', \"{0:.3f}\".format(results.pvalue))\n",
    "\n",
    "if (results.pvalue < alpha):\n",
    "    print(\"Отвергаем нулевую гипотезу: разница статистически значима\")\n",
    "else:\n",
    "    print(\"Не получилось отвергнуть нулевую гипотезу, вывод о различии сделать нельзя\")\n",
    "\n",
    "print('Относительный прирост конверсии группы B:', \"{0:.3f}\".format(sample_b_filtered.mean()/\\\n",
    "                                                                    sample_a_filtered.mean()-1))"
   ]
  },
  {
   "cell_type": "markdown",
   "metadata": {
    "deletable": true,
    "editable": true
   },
   "source": [
    "По конверсии получаю практически такой же результат, как и для \"сырых\" данных. Таким образом, и по \"сырым\", и по \"очищенным\" данным можно говорить о росте конверсии примерно на 14%."
   ]
  },
  {
   "cell_type": "markdown",
   "metadata": {
    "deletable": true,
    "editable": true
   },
   "source": [
    "#### Расчёт статистической значимости различий в среднем чеке заказа между группами по «очищенным» данным"
   ]
  },
  {
   "cell_type": "code",
   "execution_count": 152,
   "metadata": {
    "collapsed": false,
    "deletable": true,
    "editable": true
   },
   "outputs": [
    {
     "name": "stdout",
     "output_type": "stream",
     "text": [
      "p-значение:  0.490\n",
      "Не получилось отвергнуть нулевую гипотезу, вывод о различии сделать нельзя\n",
      "Относительный прирост среднего чека группы B: -0.017\n"
     ]
    }
   ],
   "source": [
    "# формирую выборку для группы A, исключая аномальных пользователей\n",
    "sample_a_new_filtered = orders[np.logical_and(orders['group']=='A', np.logical_not(orders['visitor_id'].\\\n",
    "                            isin(abnormal_users)))]['revenue']\n",
    "\n",
    "# формирую выборку для группы B, исключая аномальных пользователей\n",
    "sample_b_new_filtered = orders[np.logical_and(orders['group']=='B', np.logical_not(orders['visitor_id'].\\\n",
    "                            isin(abnormal_users)))]['revenue']\n",
    "\n",
    "# критический уровень статистической значимости\n",
    "alpha = .05 \n",
    "\n",
    "results = st.mannwhitneyu(sample_a_new_filtered, sample_b_new_filtered)\n",
    "\n",
    "print('p-значение: ', \"{0:.3f}\".format(results.pvalue))\n",
    "\n",
    "if (results.pvalue < alpha):\n",
    "    print(\"Отвергаем нулевую гипотезу: разница статистически значима\")\n",
    "else:\n",
    "    print(\"Не получилось отвергнуть нулевую гипотезу, вывод о различии сделать нельзя\")\n",
    "\n",
    "print('Относительный прирост среднего чека группы B:', \"{0:.3f}\".\\\n",
    "      format(sample_b_new_filtered.mean()/sample_a_new_filtered.mean()-1))"
   ]
  },
  {
   "cell_type": "markdown",
   "metadata": {
    "deletable": true,
    "editable": true
   },
   "source": [
    "В данном случае также получаю, что как и по \"сырым\" данным, нельзя сделать вывод о различии. Однако, расчёт относительного изменения среднего чека кардинально изменился. Если по \"сырым\" данным получался рост почти на 26%, то по очищенным данным получаем сокращение среднего чека почти на 2%. Таким образом, можно говорить о том, что в группу B попали аномальные пользователи с очень высокой стоимостью покупок."
   ]
  },
  {
   "cell_type": "markdown",
   "metadata": {
    "deletable": true,
    "editable": true
   },
   "source": [
    "---\n",
    "\n",
    "### Комментарий наставника\n",
    "\n",
    "Какое интересное наблюдение вышло. Даже сказал бы, что показательное :)\n",
    "\n",
    "---"
   ]
  },
  {
   "cell_type": "markdown",
   "metadata": {
    "deletable": true,
    "editable": true
   },
   "source": [
    "#### Принятие решений по результатам теста"
   ]
  },
  {
   "cell_type": "markdown",
   "metadata": {
    "deletable": true,
    "editable": true
   },
   "source": [
    "##### Основные выводы, полученные в результате анализа:\n",
    "\n",
    "Есть статистически значимое различие по конверсии между группами как по сырым данным, так и после фильтрации аномалий. Можно говорить о росте конверсии на 14%.\n",
    "\n",
    "По сырым и отфильтрованным данным нет статистически значимого различия по среднему чеку между группами. Хотя аномальные пользователи оказали большое влияние на расчёт относительного изменения среднего чека.\n",
    "\n",
    "График различия конверсии между группами сообщает, что результаты группы B лучше группы A: имеют тенденцию к росту, зафиксировались к концу периода на уровне 0.10 - 0.15.\n",
    "\n",
    "График различия среднего чека колеблется, что позволило определить аномалии, определённого вывода по нему сделать нельзя.\n",
    "\n",
    "На основе полученных выводов, я считаю, что можно остановить тест, зафиксировать победу группы B. Так как по среднему чеку статистически значимого падения по группе B не получили, зато увеличили конверсию, полагаю, это уже достаточно хороший результат."
   ]
  },
  {
   "cell_type": "markdown",
   "metadata": {
    "deletable": true,
    "editable": true
   },
   "source": [
    "---\n",
    "\n",
    "### Комментарий наставника\n",
    "\n",
    "Думаю, что с тобой можно согласиться, и дать \"отмашку\" коллегам \n",
    "\n",
    "---"
   ]
  },
  {
   "cell_type": "markdown",
   "metadata": {
    "deletable": true,
    "editable": true
   },
   "source": [
    "#### Часть 3. Общий вывод"
   ]
  },
  {
   "cell_type": "markdown",
   "metadata": {
    "deletable": true,
    "editable": true
   },
   "source": [
    "Высоко приоритетными гипотезами одновременно в фреймворках ICE и RICE являются:\n",
    "\n",
    "Добавить форму подписки на все основные страницы, чтобы собрать базу клиентов для email-рассылок\n",
    "\n",
    "Добавить два новых канала привлечения трафика, что позволит привлекать на 30% больше пользователей\n",
    "\n",
    "По результатам проведения A/B теста было выявлено следующее:\n",
    "\n",
    "В данных присутствуют аномальные значения по числу заказов, совершённых одним пользователем, а также по стоимости заказа. Типичный пользователь совершает не более 4-х заказов на суммы, не превышающие 30 000. Самые крупные заказы с аномальной стоимостью приходятся на 19 августа.\n",
    "\n",
    "Был достигнут статистически значимый рост конверсии по группе B (порядка 14% относительно группы A). К концу анализируемого периода конверсия по группе B колеблется на уровне 0.10 - 0.15.\n",
    "\n",
    "Статистически значимое изменение среднего чека получено не было, даже при исключении аномальных заказов из расчёта. Однако, отмечено, что при исключении аномальных пользоватлей, получаем совершенно иной результат по относительному изменению среднего чека.\n",
    "\n",
    "Так как по одному из параметров (конверсии) был достигнут хороший результат в результате внедрения изменения, а по второму не получили статистически значимого снижения, то результат теста признаю положительным, фиксируя победу группы B."
   ]
  },
  {
   "cell_type": "markdown",
   "metadata": {
    "deletable": true,
    "editable": true
   },
   "source": [
    "---\n",
    "\n",
    "### Комментарий наставника\n",
    "\n",
    "Поздравляю со сдачей работы! :)\n",
    "\n",
    "Мне она понравилась. Про техническую стороны я уже отмечал твои работы, тут аналогично :)\n",
    "\n",
    "Выводы получились ёмкими, и учитывая специфику исследования можно сказать, что ты написал всего достаточно. Было полезно почитать всё. \n",
    "\n",
    "Надеюсь, полученные навыки дали тебе понимание этого непростого, но важного вопроса в работе аналитика.\n",
    "\n",
    "Желаю успеха! Осталось немного :)\n",
    "\n",
    "---"
   ]
  }
 ],
 "metadata": {
  "kernelspec": {
   "display_name": "Python 3",
   "language": "python",
   "name": "python3"
  },
  "language_info": {
   "codemirror_mode": {
    "name": "ipython",
    "version": 3
   },
   "file_extension": ".py",
   "mimetype": "text/x-python",
   "name": "python",
   "nbconvert_exporter": "python",
   "pygments_lexer": "ipython3",
   "version": "3.5.2"
  }
 },
 "nbformat": 4,
 "nbformat_minor": 2
}
